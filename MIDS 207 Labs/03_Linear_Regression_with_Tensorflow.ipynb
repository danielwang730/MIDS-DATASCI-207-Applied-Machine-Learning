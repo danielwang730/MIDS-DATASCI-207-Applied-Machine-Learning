{
  "cells": [
    {
      "cell_type": "markdown",
      "metadata": {
        "id": "MKsRDH5ZUdfasdv"
      },
      "source": [
        "# Assignment 3"
      ]
    },
    {
      "cell_type": "markdown",
      "metadata": {
        "id": "UPiXPH5uJqUw"
      },
      "source": [
        "### <span style=\"color:chocolate\"> Submission requirements </span>\n",
        "\n",
        "Your work will not be graded if your notebook doesn't include output. In other words, <span style=\"color:red\"> make sure to rerun your notebook before submitting to Gradescope </span> (Note: if you are using Google Colab: go to Edit > Notebook Settings  and uncheck Omit code cell output when saving this notebook, otherwise the output is not printed).\n",
        "\n",
        "Additional points may be deducted if these requirements are not met:\n",
        "\n",
        "    \n",
        "* Comment your code;\n",
        "* Each graph should have a title, labels for each axis, and (if needed) a legend. Each graph should be understandable on its own;\n",
        "* Try and minimize the use of the global namespace (meaning, keep things inside functions).\n",
        "---"
      ]
    },
    {
      "cell_type": "markdown",
      "metadata": {
        "id": "c-wg3xS7JqUw"
      },
      "source": [
        "### Import libraries"
      ]
    },
    {
      "cell_type": "code",
      "source": [
        "!pip install keras_tuner"
      ],
      "metadata": {
        "colab": {
          "base_uri": "https://localhost:8080/"
        },
        "id": "YsBi69FSJxKL",
        "outputId": "7cd12988-56f7-4040-c818-f904bcf66761"
      },
      "execution_count": null,
      "outputs": [
        {
          "output_type": "stream",
          "name": "stdout",
          "text": [
            "Collecting keras_tuner\n",
            "  Downloading keras_tuner-1.4.7-py3-none-any.whl.metadata (5.4 kB)\n",
            "Requirement already satisfied: keras in /usr/local/lib/python3.11/dist-packages (from keras_tuner) (3.5.0)\n",
            "Requirement already satisfied: packaging in /usr/local/lib/python3.11/dist-packages (from keras_tuner) (24.2)\n",
            "Requirement already satisfied: requests in /usr/local/lib/python3.11/dist-packages (from keras_tuner) (2.32.3)\n",
            "Collecting kt-legacy (from keras_tuner)\n",
            "  Downloading kt_legacy-1.0.5-py3-none-any.whl.metadata (221 bytes)\n",
            "Requirement already satisfied: absl-py in /usr/local/lib/python3.11/dist-packages (from keras->keras_tuner) (1.4.0)\n",
            "Requirement already satisfied: numpy in /usr/local/lib/python3.11/dist-packages (from keras->keras_tuner) (1.26.4)\n",
            "Requirement already satisfied: rich in /usr/local/lib/python3.11/dist-packages (from keras->keras_tuner) (13.9.4)\n",
            "Requirement already satisfied: namex in /usr/local/lib/python3.11/dist-packages (from keras->keras_tuner) (0.0.8)\n",
            "Requirement already satisfied: h5py in /usr/local/lib/python3.11/dist-packages (from keras->keras_tuner) (3.12.1)\n",
            "Requirement already satisfied: optree in /usr/local/lib/python3.11/dist-packages (from keras->keras_tuner) (0.14.0)\n",
            "Requirement already satisfied: ml-dtypes in /usr/local/lib/python3.11/dist-packages (from keras->keras_tuner) (0.4.1)\n",
            "Requirement already satisfied: charset-normalizer<4,>=2 in /usr/local/lib/python3.11/dist-packages (from requests->keras_tuner) (3.4.1)\n",
            "Requirement already satisfied: idna<4,>=2.5 in /usr/local/lib/python3.11/dist-packages (from requests->keras_tuner) (3.10)\n",
            "Requirement already satisfied: urllib3<3,>=1.21.1 in /usr/local/lib/python3.11/dist-packages (from requests->keras_tuner) (2.3.0)\n",
            "Requirement already satisfied: certifi>=2017.4.17 in /usr/local/lib/python3.11/dist-packages (from requests->keras_tuner) (2024.12.14)\n",
            "Requirement already satisfied: typing-extensions>=4.5.0 in /usr/local/lib/python3.11/dist-packages (from optree->keras->keras_tuner) (4.12.2)\n",
            "Requirement already satisfied: markdown-it-py>=2.2.0 in /usr/local/lib/python3.11/dist-packages (from rich->keras->keras_tuner) (3.0.0)\n",
            "Requirement already satisfied: pygments<3.0.0,>=2.13.0 in /usr/local/lib/python3.11/dist-packages (from rich->keras->keras_tuner) (2.18.0)\n",
            "Requirement already satisfied: mdurl~=0.1 in /usr/local/lib/python3.11/dist-packages (from markdown-it-py>=2.2.0->rich->keras->keras_tuner) (0.1.2)\n",
            "Downloading keras_tuner-1.4.7-py3-none-any.whl (129 kB)\n",
            "\u001b[2K   \u001b[90m━━━━━━━━━━━━━━━━━━━━━━━━━━━━━━━━━━━━━━━━\u001b[0m \u001b[32m129.1/129.1 kB\u001b[0m \u001b[31m2.7 MB/s\u001b[0m eta \u001b[36m0:00:00\u001b[0m\n",
            "\u001b[?25hDownloading kt_legacy-1.0.5-py3-none-any.whl (9.6 kB)\n",
            "Installing collected packages: kt-legacy, keras_tuner\n",
            "Successfully installed keras_tuner-1.4.7 kt-legacy-1.0.5\n"
          ]
        }
      ]
    },
    {
      "cell_type": "code",
      "execution_count": null,
      "metadata": {
        "id": "qecrnh6sJqUx"
      },
      "outputs": [],
      "source": [
        "import numpy as np\n",
        "import pandas as pd\n",
        "import seaborn as sns  # for nicer plots\n",
        "sns.set(style=\"darkgrid\")  # default style\n",
        "from sklearn.model_selection import train_test_split\n",
        "import tensorflow as tf\n",
        "from matplotlib import pyplot as plt\n",
        "import keras_tuner as kt\n",
        "from keras_tuner import HyperParameters"
      ]
    },
    {
      "cell_type": "markdown",
      "metadata": {
        "id": "LsgX8J8pJqUx"
      },
      "source": [
        "This lab continues our study of linear regression. You'll train your first models with Tensorflow, using a real dataset to predict car prices from their features. Note that Tensorflow is a rapidly changing library. This means you'll often see warnings about deprecations. You can ignore the warnings in our labs."
      ]
    },
    {
      "cell_type": "markdown",
      "metadata": {
        "id": "HA_PGkcqJqUx"
      },
      "source": [
        "---\n",
        "### Step 1: Data ingestion"
      ]
    },
    {
      "cell_type": "markdown",
      "metadata": {
        "id": "rHLcriKWLRe4"
      },
      "source": [
        "You'll use the [Automobile Data Set](https://archive.ics.uci.edu/ml/datasets/automobile)  from 1985 Ward's Automotive Yearbook that is part of the [UCI Machine Learning Repository](https://archive.ics.uci.edu/ml/datasets).\n",
        "\n",
        "This dataset has been pre-downloaded and uploaded to bCourses alongside this notebook for your convenience."
      ]
    },
    {
      "cell_type": "code",
      "source": [
        "from google.colab import drive\n",
        "drive.mount('/content/drive')"
      ],
      "metadata": {
        "colab": {
          "base_uri": "https://localhost:8080/"
        },
        "id": "GAvyOA2TKGSG",
        "outputId": "6d026815-5b58-44f5-ca36-dedef22c8834"
      },
      "execution_count": null,
      "outputs": [
        {
          "output_type": "stream",
          "name": "stdout",
          "text": [
            "Mounted at /content/drive\n"
          ]
        }
      ]
    },
    {
      "cell_type": "code",
      "source": [
        "import os\n",
        "\n",
        "w207_assignments_path = '/content/drive/My Drive/Colab Notebooks/w207/w207 Assignments'\n",
        "\n",
        "os.chdir(w207_assignments_path)"
      ],
      "metadata": {
        "id": "x_kHrwIlKH3D"
      },
      "execution_count": null,
      "outputs": []
    },
    {
      "cell_type": "code",
      "execution_count": null,
      "metadata": {
        "id": "load_auto_data_set_code",
        "colab": {
          "base_uri": "https://localhost:8080/",
          "height": 360
        },
        "outputId": "988fda38-c8e5-4b7f-fa96-47499782b6bb"
      },
      "outputs": [
        {
          "output_type": "stream",
          "name": "stdout",
          "text": [
            "Shape of data: (205, 26)\n"
          ]
        },
        {
          "output_type": "execute_result",
          "data": {
            "text/plain": [
              "   normalized-losses         make fuel-type aspiration  num-of-doors  \\\n",
              "0                NaN  alfa-romero       gas        std           2.0   \n",
              "1                NaN  alfa-romero       gas        std           2.0   \n",
              "2                NaN  alfa-romero       gas        std           2.0   \n",
              "3              164.0         audi       gas        std           4.0   \n",
              "4              164.0         audi       gas        std           4.0   \n",
              "\n",
              "    body-style drive-wheels engine-location  wheel-base  length  ...  \\\n",
              "0  convertible          rwd           front        88.6   168.8  ...   \n",
              "1  convertible          rwd           front        88.6   168.8  ...   \n",
              "2    hatchback          rwd           front        94.5   171.2  ...   \n",
              "3        sedan          fwd           front        99.8   176.6  ...   \n",
              "4        sedan          4wd           front        99.4   176.6  ...   \n",
              "\n",
              "   fuel-system  bore  stroke compression-ratio  horsepower  peak-rpm city-mpg  \\\n",
              "0         mpfi  3.47    2.68               9.0       111.0    5000.0       21   \n",
              "1         mpfi  3.47    2.68               9.0       111.0    5000.0       21   \n",
              "2         mpfi  2.68    3.47               9.0       154.0    5000.0       19   \n",
              "3         mpfi  3.19    3.40              10.0       102.0    5500.0       24   \n",
              "4         mpfi  3.19    3.40               8.0       115.0    5500.0       18   \n",
              "\n",
              "   highway-mpg    price  symboling  \n",
              "0           27  13495.0          3  \n",
              "1           27  16500.0          3  \n",
              "2           26  16500.0          1  \n",
              "3           30  13950.0          2  \n",
              "4           22  17450.0          2  \n",
              "\n",
              "[5 rows x 26 columns]"
            ],
            "text/html": [
              "\n",
              "  <div id=\"df-5abc0bf5-ec23-4750-92f5-2660329bf140\" class=\"colab-df-container\">\n",
              "    <div>\n",
              "<style scoped>\n",
              "    .dataframe tbody tr th:only-of-type {\n",
              "        vertical-align: middle;\n",
              "    }\n",
              "\n",
              "    .dataframe tbody tr th {\n",
              "        vertical-align: top;\n",
              "    }\n",
              "\n",
              "    .dataframe thead th {\n",
              "        text-align: right;\n",
              "    }\n",
              "</style>\n",
              "<table border=\"1\" class=\"dataframe\">\n",
              "  <thead>\n",
              "    <tr style=\"text-align: right;\">\n",
              "      <th></th>\n",
              "      <th>normalized-losses</th>\n",
              "      <th>make</th>\n",
              "      <th>fuel-type</th>\n",
              "      <th>aspiration</th>\n",
              "      <th>num-of-doors</th>\n",
              "      <th>body-style</th>\n",
              "      <th>drive-wheels</th>\n",
              "      <th>engine-location</th>\n",
              "      <th>wheel-base</th>\n",
              "      <th>length</th>\n",
              "      <th>...</th>\n",
              "      <th>fuel-system</th>\n",
              "      <th>bore</th>\n",
              "      <th>stroke</th>\n",
              "      <th>compression-ratio</th>\n",
              "      <th>horsepower</th>\n",
              "      <th>peak-rpm</th>\n",
              "      <th>city-mpg</th>\n",
              "      <th>highway-mpg</th>\n",
              "      <th>price</th>\n",
              "      <th>symboling</th>\n",
              "    </tr>\n",
              "  </thead>\n",
              "  <tbody>\n",
              "    <tr>\n",
              "      <th>0</th>\n",
              "      <td>NaN</td>\n",
              "      <td>alfa-romero</td>\n",
              "      <td>gas</td>\n",
              "      <td>std</td>\n",
              "      <td>2.0</td>\n",
              "      <td>convertible</td>\n",
              "      <td>rwd</td>\n",
              "      <td>front</td>\n",
              "      <td>88.6</td>\n",
              "      <td>168.8</td>\n",
              "      <td>...</td>\n",
              "      <td>mpfi</td>\n",
              "      <td>3.47</td>\n",
              "      <td>2.68</td>\n",
              "      <td>9.0</td>\n",
              "      <td>111.0</td>\n",
              "      <td>5000.0</td>\n",
              "      <td>21</td>\n",
              "      <td>27</td>\n",
              "      <td>13495.0</td>\n",
              "      <td>3</td>\n",
              "    </tr>\n",
              "    <tr>\n",
              "      <th>1</th>\n",
              "      <td>NaN</td>\n",
              "      <td>alfa-romero</td>\n",
              "      <td>gas</td>\n",
              "      <td>std</td>\n",
              "      <td>2.0</td>\n",
              "      <td>convertible</td>\n",
              "      <td>rwd</td>\n",
              "      <td>front</td>\n",
              "      <td>88.6</td>\n",
              "      <td>168.8</td>\n",
              "      <td>...</td>\n",
              "      <td>mpfi</td>\n",
              "      <td>3.47</td>\n",
              "      <td>2.68</td>\n",
              "      <td>9.0</td>\n",
              "      <td>111.0</td>\n",
              "      <td>5000.0</td>\n",
              "      <td>21</td>\n",
              "      <td>27</td>\n",
              "      <td>16500.0</td>\n",
              "      <td>3</td>\n",
              "    </tr>\n",
              "    <tr>\n",
              "      <th>2</th>\n",
              "      <td>NaN</td>\n",
              "      <td>alfa-romero</td>\n",
              "      <td>gas</td>\n",
              "      <td>std</td>\n",
              "      <td>2.0</td>\n",
              "      <td>hatchback</td>\n",
              "      <td>rwd</td>\n",
              "      <td>front</td>\n",
              "      <td>94.5</td>\n",
              "      <td>171.2</td>\n",
              "      <td>...</td>\n",
              "      <td>mpfi</td>\n",
              "      <td>2.68</td>\n",
              "      <td>3.47</td>\n",
              "      <td>9.0</td>\n",
              "      <td>154.0</td>\n",
              "      <td>5000.0</td>\n",
              "      <td>19</td>\n",
              "      <td>26</td>\n",
              "      <td>16500.0</td>\n",
              "      <td>1</td>\n",
              "    </tr>\n",
              "    <tr>\n",
              "      <th>3</th>\n",
              "      <td>164.0</td>\n",
              "      <td>audi</td>\n",
              "      <td>gas</td>\n",
              "      <td>std</td>\n",
              "      <td>4.0</td>\n",
              "      <td>sedan</td>\n",
              "      <td>fwd</td>\n",
              "      <td>front</td>\n",
              "      <td>99.8</td>\n",
              "      <td>176.6</td>\n",
              "      <td>...</td>\n",
              "      <td>mpfi</td>\n",
              "      <td>3.19</td>\n",
              "      <td>3.40</td>\n",
              "      <td>10.0</td>\n",
              "      <td>102.0</td>\n",
              "      <td>5500.0</td>\n",
              "      <td>24</td>\n",
              "      <td>30</td>\n",
              "      <td>13950.0</td>\n",
              "      <td>2</td>\n",
              "    </tr>\n",
              "    <tr>\n",
              "      <th>4</th>\n",
              "      <td>164.0</td>\n",
              "      <td>audi</td>\n",
              "      <td>gas</td>\n",
              "      <td>std</td>\n",
              "      <td>4.0</td>\n",
              "      <td>sedan</td>\n",
              "      <td>4wd</td>\n",
              "      <td>front</td>\n",
              "      <td>99.4</td>\n",
              "      <td>176.6</td>\n",
              "      <td>...</td>\n",
              "      <td>mpfi</td>\n",
              "      <td>3.19</td>\n",
              "      <td>3.40</td>\n",
              "      <td>8.0</td>\n",
              "      <td>115.0</td>\n",
              "      <td>5500.0</td>\n",
              "      <td>18</td>\n",
              "      <td>22</td>\n",
              "      <td>17450.0</td>\n",
              "      <td>2</td>\n",
              "    </tr>\n",
              "  </tbody>\n",
              "</table>\n",
              "<p>5 rows × 26 columns</p>\n",
              "</div>\n",
              "    <div class=\"colab-df-buttons\">\n",
              "\n",
              "  <div class=\"colab-df-container\">\n",
              "    <button class=\"colab-df-convert\" onclick=\"convertToInteractive('df-5abc0bf5-ec23-4750-92f5-2660329bf140')\"\n",
              "            title=\"Convert this dataframe to an interactive table.\"\n",
              "            style=\"display:none;\">\n",
              "\n",
              "  <svg xmlns=\"http://www.w3.org/2000/svg\" height=\"24px\" viewBox=\"0 -960 960 960\">\n",
              "    <path d=\"M120-120v-720h720v720H120Zm60-500h600v-160H180v160Zm220 220h160v-160H400v160Zm0 220h160v-160H400v160ZM180-400h160v-160H180v160Zm440 0h160v-160H620v160ZM180-180h160v-160H180v160Zm440 0h160v-160H620v160Z\"/>\n",
              "  </svg>\n",
              "    </button>\n",
              "\n",
              "  <style>\n",
              "    .colab-df-container {\n",
              "      display:flex;\n",
              "      gap: 12px;\n",
              "    }\n",
              "\n",
              "    .colab-df-convert {\n",
              "      background-color: #E8F0FE;\n",
              "      border: none;\n",
              "      border-radius: 50%;\n",
              "      cursor: pointer;\n",
              "      display: none;\n",
              "      fill: #1967D2;\n",
              "      height: 32px;\n",
              "      padding: 0 0 0 0;\n",
              "      width: 32px;\n",
              "    }\n",
              "\n",
              "    .colab-df-convert:hover {\n",
              "      background-color: #E2EBFA;\n",
              "      box-shadow: 0px 1px 2px rgba(60, 64, 67, 0.3), 0px 1px 3px 1px rgba(60, 64, 67, 0.15);\n",
              "      fill: #174EA6;\n",
              "    }\n",
              "\n",
              "    .colab-df-buttons div {\n",
              "      margin-bottom: 4px;\n",
              "    }\n",
              "\n",
              "    [theme=dark] .colab-df-convert {\n",
              "      background-color: #3B4455;\n",
              "      fill: #D2E3FC;\n",
              "    }\n",
              "\n",
              "    [theme=dark] .colab-df-convert:hover {\n",
              "      background-color: #434B5C;\n",
              "      box-shadow: 0px 1px 3px 1px rgba(0, 0, 0, 0.15);\n",
              "      filter: drop-shadow(0px 1px 2px rgba(0, 0, 0, 0.3));\n",
              "      fill: #FFFFFF;\n",
              "    }\n",
              "  </style>\n",
              "\n",
              "    <script>\n",
              "      const buttonEl =\n",
              "        document.querySelector('#df-5abc0bf5-ec23-4750-92f5-2660329bf140 button.colab-df-convert');\n",
              "      buttonEl.style.display =\n",
              "        google.colab.kernel.accessAllowed ? 'block' : 'none';\n",
              "\n",
              "      async function convertToInteractive(key) {\n",
              "        const element = document.querySelector('#df-5abc0bf5-ec23-4750-92f5-2660329bf140');\n",
              "        const dataTable =\n",
              "          await google.colab.kernel.invokeFunction('convertToInteractive',\n",
              "                                                    [key], {});\n",
              "        if (!dataTable) return;\n",
              "\n",
              "        const docLinkHtml = 'Like what you see? Visit the ' +\n",
              "          '<a target=\"_blank\" href=https://colab.research.google.com/notebooks/data_table.ipynb>data table notebook</a>'\n",
              "          + ' to learn more about interactive tables.';\n",
              "        element.innerHTML = '';\n",
              "        dataTable['output_type'] = 'display_data';\n",
              "        await google.colab.output.renderOutput(dataTable, element);\n",
              "        const docLink = document.createElement('div');\n",
              "        docLink.innerHTML = docLinkHtml;\n",
              "        element.appendChild(docLink);\n",
              "      }\n",
              "    </script>\n",
              "  </div>\n",
              "\n",
              "\n",
              "<div id=\"df-d6c22d0c-80df-4f81-93ff-9ea7499d88a5\">\n",
              "  <button class=\"colab-df-quickchart\" onclick=\"quickchart('df-d6c22d0c-80df-4f81-93ff-9ea7499d88a5')\"\n",
              "            title=\"Suggest charts\"\n",
              "            style=\"display:none;\">\n",
              "\n",
              "<svg xmlns=\"http://www.w3.org/2000/svg\" height=\"24px\"viewBox=\"0 0 24 24\"\n",
              "     width=\"24px\">\n",
              "    <g>\n",
              "        <path d=\"M19 3H5c-1.1 0-2 .9-2 2v14c0 1.1.9 2 2 2h14c1.1 0 2-.9 2-2V5c0-1.1-.9-2-2-2zM9 17H7v-7h2v7zm4 0h-2V7h2v10zm4 0h-2v-4h2v4z\"/>\n",
              "    </g>\n",
              "</svg>\n",
              "  </button>\n",
              "\n",
              "<style>\n",
              "  .colab-df-quickchart {\n",
              "      --bg-color: #E8F0FE;\n",
              "      --fill-color: #1967D2;\n",
              "      --hover-bg-color: #E2EBFA;\n",
              "      --hover-fill-color: #174EA6;\n",
              "      --disabled-fill-color: #AAA;\n",
              "      --disabled-bg-color: #DDD;\n",
              "  }\n",
              "\n",
              "  [theme=dark] .colab-df-quickchart {\n",
              "      --bg-color: #3B4455;\n",
              "      --fill-color: #D2E3FC;\n",
              "      --hover-bg-color: #434B5C;\n",
              "      --hover-fill-color: #FFFFFF;\n",
              "      --disabled-bg-color: #3B4455;\n",
              "      --disabled-fill-color: #666;\n",
              "  }\n",
              "\n",
              "  .colab-df-quickchart {\n",
              "    background-color: var(--bg-color);\n",
              "    border: none;\n",
              "    border-radius: 50%;\n",
              "    cursor: pointer;\n",
              "    display: none;\n",
              "    fill: var(--fill-color);\n",
              "    height: 32px;\n",
              "    padding: 0;\n",
              "    width: 32px;\n",
              "  }\n",
              "\n",
              "  .colab-df-quickchart:hover {\n",
              "    background-color: var(--hover-bg-color);\n",
              "    box-shadow: 0 1px 2px rgba(60, 64, 67, 0.3), 0 1px 3px 1px rgba(60, 64, 67, 0.15);\n",
              "    fill: var(--button-hover-fill-color);\n",
              "  }\n",
              "\n",
              "  .colab-df-quickchart-complete:disabled,\n",
              "  .colab-df-quickchart-complete:disabled:hover {\n",
              "    background-color: var(--disabled-bg-color);\n",
              "    fill: var(--disabled-fill-color);\n",
              "    box-shadow: none;\n",
              "  }\n",
              "\n",
              "  .colab-df-spinner {\n",
              "    border: 2px solid var(--fill-color);\n",
              "    border-color: transparent;\n",
              "    border-bottom-color: var(--fill-color);\n",
              "    animation:\n",
              "      spin 1s steps(1) infinite;\n",
              "  }\n",
              "\n",
              "  @keyframes spin {\n",
              "    0% {\n",
              "      border-color: transparent;\n",
              "      border-bottom-color: var(--fill-color);\n",
              "      border-left-color: var(--fill-color);\n",
              "    }\n",
              "    20% {\n",
              "      border-color: transparent;\n",
              "      border-left-color: var(--fill-color);\n",
              "      border-top-color: var(--fill-color);\n",
              "    }\n",
              "    30% {\n",
              "      border-color: transparent;\n",
              "      border-left-color: var(--fill-color);\n",
              "      border-top-color: var(--fill-color);\n",
              "      border-right-color: var(--fill-color);\n",
              "    }\n",
              "    40% {\n",
              "      border-color: transparent;\n",
              "      border-right-color: var(--fill-color);\n",
              "      border-top-color: var(--fill-color);\n",
              "    }\n",
              "    60% {\n",
              "      border-color: transparent;\n",
              "      border-right-color: var(--fill-color);\n",
              "    }\n",
              "    80% {\n",
              "      border-color: transparent;\n",
              "      border-right-color: var(--fill-color);\n",
              "      border-bottom-color: var(--fill-color);\n",
              "    }\n",
              "    90% {\n",
              "      border-color: transparent;\n",
              "      border-bottom-color: var(--fill-color);\n",
              "    }\n",
              "  }\n",
              "</style>\n",
              "\n",
              "  <script>\n",
              "    async function quickchart(key) {\n",
              "      const quickchartButtonEl =\n",
              "        document.querySelector('#' + key + ' button');\n",
              "      quickchartButtonEl.disabled = true;  // To prevent multiple clicks.\n",
              "      quickchartButtonEl.classList.add('colab-df-spinner');\n",
              "      try {\n",
              "        const charts = await google.colab.kernel.invokeFunction(\n",
              "            'suggestCharts', [key], {});\n",
              "      } catch (error) {\n",
              "        console.error('Error during call to suggestCharts:', error);\n",
              "      }\n",
              "      quickchartButtonEl.classList.remove('colab-df-spinner');\n",
              "      quickchartButtonEl.classList.add('colab-df-quickchart-complete');\n",
              "    }\n",
              "    (() => {\n",
              "      let quickchartButtonEl =\n",
              "        document.querySelector('#df-d6c22d0c-80df-4f81-93ff-9ea7499d88a5 button');\n",
              "      quickchartButtonEl.style.display =\n",
              "        google.colab.kernel.accessAllowed ? 'block' : 'none';\n",
              "    })();\n",
              "  </script>\n",
              "</div>\n",
              "\n",
              "    </div>\n",
              "  </div>\n"
            ],
            "application/vnd.google.colaboratory.intrinsic+json": {
              "type": "dataframe",
              "variable_name": "car_data_init"
            }
          },
          "metadata": {},
          "execution_count": 5
        }
      ],
      "source": [
        "car_data_init = pd.read_csv(\"./automobile_data.txt\")\n",
        "\n",
        "# Display top five rows\n",
        "print('Shape of data:', car_data_init.shape)\n",
        "car_data_init.head()"
      ]
    },
    {
      "cell_type": "markdown",
      "metadata": {
        "id": "sNrhwaxRJqUy"
      },
      "source": [
        "---\n",
        "### Step 2: Data preprocessing"
      ]
    },
    {
      "cell_type": "markdown",
      "metadata": {
        "id": "bzqsVrOvJqUy"
      },
      "source": [
        "This step is essential for preparing the data in a format that is suitable for ML algorithms. It helps ensure data quality and improvements in model performance."
      ]
    },
    {
      "cell_type": "markdown",
      "metadata": {
        "id": "jsfG9BUpJqUy"
      },
      "source": [
        "### <span style=\"color:chocolate\">Exercise 1:</span> Column selection (5 points)"
      ]
    },
    {
      "cell_type": "markdown",
      "metadata": {
        "id": "ZWnWZpVOJqUy"
      },
      "source": [
        "To keep things simple, you will:\n",
        "\n",
        "1. Retain only the following columns: ['horsepower', 'peak-rpm', 'city-mpg', 'highway-mpg', 'price']. Name the new dataframe *car_data*.\n",
        "2. Display the data type of each column;\n",
        "3. Convert the data type of each columns to numeric. Coerce missing values to NaN. Hint: use <span style=\"color:chocolate\">pd.to_numeric()</span> method;\n",
        "4. Display the data type of each column after the transformation performed at point 3.\n"
      ]
    },
    {
      "cell_type": "code",
      "execution_count": null,
      "metadata": {
        "colab": {
          "base_uri": "https://localhost:8080/"
        },
        "id": "LbVaI13EJqUz",
        "outputId": "5ee539a5-a983-48c5-bf32-7c594ffb1ce0"
      },
      "outputs": [
        {
          "output_type": "stream",
          "name": "stdout",
          "text": [
            "Displaying the data type of each column:\n",
            "horsepower     float64\n",
            "peak-rpm       float64\n",
            "city-mpg         int64\n",
            "highway-mpg      int64\n",
            "price          float64\n",
            "dtype: object \n",
            "\n",
            "Displaying the data type of each column after converting to numeric:\n",
            "horsepower     float64\n",
            "peak-rpm       float64\n",
            "city-mpg         int64\n",
            "highway-mpg      int64\n",
            "price          float64\n",
            "dtype: object\n"
          ]
        }
      ],
      "source": [
        "# YOUR CODE HERE\n",
        "\n",
        "# Retaining only the specified columns\n",
        "car_data = car_data_init[\n",
        "    ['horsepower', 'peak-rpm', 'city-mpg', 'highway-mpg', 'price']]\n",
        "\n",
        "print('Displaying the data type of each column:')\n",
        "print(car_data.dtypes, '\\n')\n",
        "\n",
        "# Converting the data type of each column to numeric and coercing missing\n",
        "# values to NaN\n",
        "car_data = car_data.apply(pd.to_numeric, errors = 'coerce')\n",
        "\n",
        "print('Displaying the data type of each column after converting to numeric:')\n",
        "print(car_data.dtypes)\n"
      ]
    },
    {
      "cell_type": "markdown",
      "metadata": {
        "id": "d41WidCZJqUz"
      },
      "source": [
        "### <span style=\"color:chocolate\">Exercise 2:</span> Example (row) selection (5 points)"
      ]
    },
    {
      "cell_type": "markdown",
      "metadata": {
        "id": "CSF0QrSSJqUz"
      },
      "source": [
        "To keep things simple again, you will:\n",
        "\n",
        "1. Print the shape of the car_data;\n",
        "\n",
        "2. Remove examples (rows) that have missing value(s). Note that in doing so, you will overwrite the car_data dataset. You should end up with 199 examples after this cleaning.\n",
        "\n",
        "3. Print the shape of the car_data again.\n",
        "\n",
        "It's important to acknowledge that there are multiple approaches to handling missing features, and simply discarding examples with any missing feature, though straightforward, may not be the most optimal solution. However, for the sake of simplicity, you will implement this strategy in this assignment."
      ]
    },
    {
      "cell_type": "code",
      "execution_count": null,
      "metadata": {
        "colab": {
          "base_uri": "https://localhost:8080/"
        },
        "id": "Qg9xR9iyJqUz",
        "outputId": "00fc5a3a-e13f-4e4a-e820-a48bb2e2c2d3"
      },
      "outputs": [
        {
          "output_type": "stream",
          "name": "stdout",
          "text": [
            "Printing the shape of car_data: (205, 5) \n",
            "\n",
            "Printing the shape of car_data after dropping NaN: (199, 5)\n"
          ]
        }
      ],
      "source": [
        "# YOUR CODE HERE\n",
        "\n",
        "print('Printing the shape of car_data:', car_data.shape, '\\n')\n",
        "\n",
        "# Removing rows that have missing values\n",
        "car_data = car_data.dropna(ignore_index = True)\n",
        "\n",
        "print('Printing the shape of car_data after dropping NaN:', car_data.shape)"
      ]
    },
    {
      "cell_type": "markdown",
      "metadata": {
        "id": "PyBwFLIkJqUz"
      },
      "source": [
        "### <span style=\"color:chocolate\">Exercise 3:</span> Data shuffling (10 points)"
      ]
    },
    {
      "cell_type": "markdown",
      "metadata": {
        "id": "1Pu-u7FbJqUz"
      },
      "source": [
        "Since you'll be using Batch Gradient Descent (BGD) for training, it is important that **each batch is a random sample of the data** so that the gradient computed is representative. Note that the original data (above) appears sorted by *make* in alphabetic order."
      ]
    },
    {
      "cell_type": "markdown",
      "metadata": {
        "id": "qPV1273PJqUz"
      },
      "source": [
        "Using NumPy and Pandas methods:\n",
        "\n",
        "1. Create a list of indices corresponding to the rows in the car_data dataset. Call this list *indices*. Print this list;\n",
        "\n",
        "2. Shuffle *indices* using the <span style=\"color:chocolate\">np.random.permutation()</span> method. Call the resulting array *shuffled_indices*. Print this array;\n",
        "    \n",
        "3. Use the method <span style=\"color:chocolate\">dataframe.reindex()</span> to change the ordering of the car_data dataset based on the order in the *shuffled_indices* array. Note that in doing so, you will overwrite the original dataset. Print the top 5 rows."
      ]
    },
    {
      "cell_type": "code",
      "execution_count": null,
      "metadata": {
        "colab": {
          "base_uri": "https://localhost:8080/",
          "height": 724
        },
        "id": "wr6t-iQxJqUz",
        "outputId": "f21d2c91-aa7f-4d2e-a1e6-8c4d2d8c44a7"
      },
      "outputs": [
        {
          "output_type": "stream",
          "name": "stdout",
          "text": [
            "Printing list of indices:\n",
            "[  0   1   2   3   4   5   6   7   8   9  10  11  12  13  14  15  16  17\n",
            "  18  19  20  21  22  23  24  25  26  27  28  29  30  31  32  33  34  35\n",
            "  36  37  38  39  40  41  42  43  44  45  46  47  48  49  50  51  52  53\n",
            "  54  55  56  57  58  59  60  61  62  63  64  65  66  67  68  69  70  71\n",
            "  72  73  74  75  76  77  78  79  80  81  82  83  84  85  86  87  88  89\n",
            "  90  91  92  93  94  95  96  97  98  99 100 101 102 103 104 105 106 107\n",
            " 108 109 110 111 112 113 114 115 116 117 118 119 120 121 122 123 124 125\n",
            " 126 127 128 129 130 131 132 133 134 135 136 137 138 139 140 141 142 143\n",
            " 144 145 146 147 148 149 150 151 152 153 154 155 156 157 158 159 160 161\n",
            " 162 163 164 165 166 167 168 169 170 171 172 173 174 175 176 177 178 179\n",
            " 180 181 182 183 184 185 186 187 188 189 190 191 192 193 194 195 196 197\n",
            " 198] \n",
            "\n",
            "Printing list of shuffled indices:\n",
            "[ 18 169 106  92 176 183   5 139  12 160  61 124 164 145  80   7  33 129\n",
            "  37  74 159 144  45 158  60 122 178 184  97  44  16  55  83 110  22 188\n",
            " 135   4 137 193 153  66  26 131 146  63   8  75  98 166  71 196  86  96\n",
            " 149  24  30 113  40  56 130 182 180  19 152 136  54 162  51 112 138  89\n",
            "  90 123 143 181 108  14  27 101 118  46 194 107  62   2  59 173 126  43\n",
            "  10 186  73 191 177 167 125  93 111 157 190  50   0  94 109  95  64 141\n",
            "  41  69  49  48  85  13 150  23 185 134  20  15  78 104  52 100  76   3\n",
            " 116 163 197   6  68  84 121 154 170 155  91 171  11 119 102  35  57  65\n",
            "   1 120 161  42 105 132 198  17  38 133  53 156 128  34  28 114 151  31\n",
            " 179 127 175  32 142 168 147  29  99  82  79 115 148 195  72  77  25 165\n",
            "  81 187 174 189  39  58 140  88  70  87  36  21   9 103  67 192 117  47\n",
            " 172] \n",
            "\n",
            "Printing the top 5 rows of reordered car_data dataset:\n"
          ]
        },
        {
          "output_type": "execute_result",
          "data": {
            "text/plain": [
              "     horsepower  peak-rpm  city-mpg  highway-mpg    price\n",
              "18         70.0    5400.0        38           43   6295.0\n",
              "169        92.0    4200.0        27           32   9988.0\n",
              "106        97.0    5000.0        19           24  12440.0\n",
              "92         69.0    5200.0        31           37   7799.0\n",
              "176        52.0    4800.0        37           46   7775.0"
            ],
            "text/html": [
              "\n",
              "  <div id=\"df-24d59afc-9e07-406b-8075-ddc1218cb8e4\" class=\"colab-df-container\">\n",
              "    <div>\n",
              "<style scoped>\n",
              "    .dataframe tbody tr th:only-of-type {\n",
              "        vertical-align: middle;\n",
              "    }\n",
              "\n",
              "    .dataframe tbody tr th {\n",
              "        vertical-align: top;\n",
              "    }\n",
              "\n",
              "    .dataframe thead th {\n",
              "        text-align: right;\n",
              "    }\n",
              "</style>\n",
              "<table border=\"1\" class=\"dataframe\">\n",
              "  <thead>\n",
              "    <tr style=\"text-align: right;\">\n",
              "      <th></th>\n",
              "      <th>horsepower</th>\n",
              "      <th>peak-rpm</th>\n",
              "      <th>city-mpg</th>\n",
              "      <th>highway-mpg</th>\n",
              "      <th>price</th>\n",
              "    </tr>\n",
              "  </thead>\n",
              "  <tbody>\n",
              "    <tr>\n",
              "      <th>18</th>\n",
              "      <td>70.0</td>\n",
              "      <td>5400.0</td>\n",
              "      <td>38</td>\n",
              "      <td>43</td>\n",
              "      <td>6295.0</td>\n",
              "    </tr>\n",
              "    <tr>\n",
              "      <th>169</th>\n",
              "      <td>92.0</td>\n",
              "      <td>4200.0</td>\n",
              "      <td>27</td>\n",
              "      <td>32</td>\n",
              "      <td>9988.0</td>\n",
              "    </tr>\n",
              "    <tr>\n",
              "      <th>106</th>\n",
              "      <td>97.0</td>\n",
              "      <td>5000.0</td>\n",
              "      <td>19</td>\n",
              "      <td>24</td>\n",
              "      <td>12440.0</td>\n",
              "    </tr>\n",
              "    <tr>\n",
              "      <th>92</th>\n",
              "      <td>69.0</td>\n",
              "      <td>5200.0</td>\n",
              "      <td>31</td>\n",
              "      <td>37</td>\n",
              "      <td>7799.0</td>\n",
              "    </tr>\n",
              "    <tr>\n",
              "      <th>176</th>\n",
              "      <td>52.0</td>\n",
              "      <td>4800.0</td>\n",
              "      <td>37</td>\n",
              "      <td>46</td>\n",
              "      <td>7775.0</td>\n",
              "    </tr>\n",
              "  </tbody>\n",
              "</table>\n",
              "</div>\n",
              "    <div class=\"colab-df-buttons\">\n",
              "\n",
              "  <div class=\"colab-df-container\">\n",
              "    <button class=\"colab-df-convert\" onclick=\"convertToInteractive('df-24d59afc-9e07-406b-8075-ddc1218cb8e4')\"\n",
              "            title=\"Convert this dataframe to an interactive table.\"\n",
              "            style=\"display:none;\">\n",
              "\n",
              "  <svg xmlns=\"http://www.w3.org/2000/svg\" height=\"24px\" viewBox=\"0 -960 960 960\">\n",
              "    <path d=\"M120-120v-720h720v720H120Zm60-500h600v-160H180v160Zm220 220h160v-160H400v160Zm0 220h160v-160H400v160ZM180-400h160v-160H180v160Zm440 0h160v-160H620v160ZM180-180h160v-160H180v160Zm440 0h160v-160H620v160Z\"/>\n",
              "  </svg>\n",
              "    </button>\n",
              "\n",
              "  <style>\n",
              "    .colab-df-container {\n",
              "      display:flex;\n",
              "      gap: 12px;\n",
              "    }\n",
              "\n",
              "    .colab-df-convert {\n",
              "      background-color: #E8F0FE;\n",
              "      border: none;\n",
              "      border-radius: 50%;\n",
              "      cursor: pointer;\n",
              "      display: none;\n",
              "      fill: #1967D2;\n",
              "      height: 32px;\n",
              "      padding: 0 0 0 0;\n",
              "      width: 32px;\n",
              "    }\n",
              "\n",
              "    .colab-df-convert:hover {\n",
              "      background-color: #E2EBFA;\n",
              "      box-shadow: 0px 1px 2px rgba(60, 64, 67, 0.3), 0px 1px 3px 1px rgba(60, 64, 67, 0.15);\n",
              "      fill: #174EA6;\n",
              "    }\n",
              "\n",
              "    .colab-df-buttons div {\n",
              "      margin-bottom: 4px;\n",
              "    }\n",
              "\n",
              "    [theme=dark] .colab-df-convert {\n",
              "      background-color: #3B4455;\n",
              "      fill: #D2E3FC;\n",
              "    }\n",
              "\n",
              "    [theme=dark] .colab-df-convert:hover {\n",
              "      background-color: #434B5C;\n",
              "      box-shadow: 0px 1px 3px 1px rgba(0, 0, 0, 0.15);\n",
              "      filter: drop-shadow(0px 1px 2px rgba(0, 0, 0, 0.3));\n",
              "      fill: #FFFFFF;\n",
              "    }\n",
              "  </style>\n",
              "\n",
              "    <script>\n",
              "      const buttonEl =\n",
              "        document.querySelector('#df-24d59afc-9e07-406b-8075-ddc1218cb8e4 button.colab-df-convert');\n",
              "      buttonEl.style.display =\n",
              "        google.colab.kernel.accessAllowed ? 'block' : 'none';\n",
              "\n",
              "      async function convertToInteractive(key) {\n",
              "        const element = document.querySelector('#df-24d59afc-9e07-406b-8075-ddc1218cb8e4');\n",
              "        const dataTable =\n",
              "          await google.colab.kernel.invokeFunction('convertToInteractive',\n",
              "                                                    [key], {});\n",
              "        if (!dataTable) return;\n",
              "\n",
              "        const docLinkHtml = 'Like what you see? Visit the ' +\n",
              "          '<a target=\"_blank\" href=https://colab.research.google.com/notebooks/data_table.ipynb>data table notebook</a>'\n",
              "          + ' to learn more about interactive tables.';\n",
              "        element.innerHTML = '';\n",
              "        dataTable['output_type'] = 'display_data';\n",
              "        await google.colab.output.renderOutput(dataTable, element);\n",
              "        const docLink = document.createElement('div');\n",
              "        docLink.innerHTML = docLinkHtml;\n",
              "        element.appendChild(docLink);\n",
              "      }\n",
              "    </script>\n",
              "  </div>\n",
              "\n",
              "\n",
              "<div id=\"df-95d35bb2-ef7e-4370-b3bf-10c57b0ee01e\">\n",
              "  <button class=\"colab-df-quickchart\" onclick=\"quickchart('df-95d35bb2-ef7e-4370-b3bf-10c57b0ee01e')\"\n",
              "            title=\"Suggest charts\"\n",
              "            style=\"display:none;\">\n",
              "\n",
              "<svg xmlns=\"http://www.w3.org/2000/svg\" height=\"24px\"viewBox=\"0 0 24 24\"\n",
              "     width=\"24px\">\n",
              "    <g>\n",
              "        <path d=\"M19 3H5c-1.1 0-2 .9-2 2v14c0 1.1.9 2 2 2h14c1.1 0 2-.9 2-2V5c0-1.1-.9-2-2-2zM9 17H7v-7h2v7zm4 0h-2V7h2v10zm4 0h-2v-4h2v4z\"/>\n",
              "    </g>\n",
              "</svg>\n",
              "  </button>\n",
              "\n",
              "<style>\n",
              "  .colab-df-quickchart {\n",
              "      --bg-color: #E8F0FE;\n",
              "      --fill-color: #1967D2;\n",
              "      --hover-bg-color: #E2EBFA;\n",
              "      --hover-fill-color: #174EA6;\n",
              "      --disabled-fill-color: #AAA;\n",
              "      --disabled-bg-color: #DDD;\n",
              "  }\n",
              "\n",
              "  [theme=dark] .colab-df-quickchart {\n",
              "      --bg-color: #3B4455;\n",
              "      --fill-color: #D2E3FC;\n",
              "      --hover-bg-color: #434B5C;\n",
              "      --hover-fill-color: #FFFFFF;\n",
              "      --disabled-bg-color: #3B4455;\n",
              "      --disabled-fill-color: #666;\n",
              "  }\n",
              "\n",
              "  .colab-df-quickchart {\n",
              "    background-color: var(--bg-color);\n",
              "    border: none;\n",
              "    border-radius: 50%;\n",
              "    cursor: pointer;\n",
              "    display: none;\n",
              "    fill: var(--fill-color);\n",
              "    height: 32px;\n",
              "    padding: 0;\n",
              "    width: 32px;\n",
              "  }\n",
              "\n",
              "  .colab-df-quickchart:hover {\n",
              "    background-color: var(--hover-bg-color);\n",
              "    box-shadow: 0 1px 2px rgba(60, 64, 67, 0.3), 0 1px 3px 1px rgba(60, 64, 67, 0.15);\n",
              "    fill: var(--button-hover-fill-color);\n",
              "  }\n",
              "\n",
              "  .colab-df-quickchart-complete:disabled,\n",
              "  .colab-df-quickchart-complete:disabled:hover {\n",
              "    background-color: var(--disabled-bg-color);\n",
              "    fill: var(--disabled-fill-color);\n",
              "    box-shadow: none;\n",
              "  }\n",
              "\n",
              "  .colab-df-spinner {\n",
              "    border: 2px solid var(--fill-color);\n",
              "    border-color: transparent;\n",
              "    border-bottom-color: var(--fill-color);\n",
              "    animation:\n",
              "      spin 1s steps(1) infinite;\n",
              "  }\n",
              "\n",
              "  @keyframes spin {\n",
              "    0% {\n",
              "      border-color: transparent;\n",
              "      border-bottom-color: var(--fill-color);\n",
              "      border-left-color: var(--fill-color);\n",
              "    }\n",
              "    20% {\n",
              "      border-color: transparent;\n",
              "      border-left-color: var(--fill-color);\n",
              "      border-top-color: var(--fill-color);\n",
              "    }\n",
              "    30% {\n",
              "      border-color: transparent;\n",
              "      border-left-color: var(--fill-color);\n",
              "      border-top-color: var(--fill-color);\n",
              "      border-right-color: var(--fill-color);\n",
              "    }\n",
              "    40% {\n",
              "      border-color: transparent;\n",
              "      border-right-color: var(--fill-color);\n",
              "      border-top-color: var(--fill-color);\n",
              "    }\n",
              "    60% {\n",
              "      border-color: transparent;\n",
              "      border-right-color: var(--fill-color);\n",
              "    }\n",
              "    80% {\n",
              "      border-color: transparent;\n",
              "      border-right-color: var(--fill-color);\n",
              "      border-bottom-color: var(--fill-color);\n",
              "    }\n",
              "    90% {\n",
              "      border-color: transparent;\n",
              "      border-bottom-color: var(--fill-color);\n",
              "    }\n",
              "  }\n",
              "</style>\n",
              "\n",
              "  <script>\n",
              "    async function quickchart(key) {\n",
              "      const quickchartButtonEl =\n",
              "        document.querySelector('#' + key + ' button');\n",
              "      quickchartButtonEl.disabled = true;  // To prevent multiple clicks.\n",
              "      quickchartButtonEl.classList.add('colab-df-spinner');\n",
              "      try {\n",
              "        const charts = await google.colab.kernel.invokeFunction(\n",
              "            'suggestCharts', [key], {});\n",
              "      } catch (error) {\n",
              "        console.error('Error during call to suggestCharts:', error);\n",
              "      }\n",
              "      quickchartButtonEl.classList.remove('colab-df-spinner');\n",
              "      quickchartButtonEl.classList.add('colab-df-quickchart-complete');\n",
              "    }\n",
              "    (() => {\n",
              "      let quickchartButtonEl =\n",
              "        document.querySelector('#df-95d35bb2-ef7e-4370-b3bf-10c57b0ee01e button');\n",
              "      quickchartButtonEl.style.display =\n",
              "        google.colab.kernel.accessAllowed ? 'block' : 'none';\n",
              "    })();\n",
              "  </script>\n",
              "</div>\n",
              "\n",
              "    </div>\n",
              "  </div>\n"
            ],
            "application/vnd.google.colaboratory.intrinsic+json": {
              "type": "dataframe",
              "variable_name": "car_data",
              "summary": "{\n  \"name\": \"car_data\",\n  \"rows\": 199,\n  \"fields\": [\n    {\n      \"column\": \"horsepower\",\n      \"properties\": {\n        \"dtype\": \"number\",\n        \"std\": 37.55384270583398,\n        \"min\": 48.0,\n        \"max\": 262.0,\n        \"num_unique_values\": 58,\n        \"samples\": [\n          70.0,\n          90.0,\n          72.0\n        ],\n        \"semantic_type\": \"\",\n        \"description\": \"\"\n      }\n    },\n    {\n      \"column\": \"peak-rpm\",\n      \"properties\": {\n        \"dtype\": \"number\",\n        \"std\": 480.52182394575783,\n        \"min\": 4150.0,\n        \"max\": 6600.0,\n        \"num_unique_values\": 22,\n        \"samples\": [\n          5400.0,\n          4650.0,\n          5900.0\n        ],\n        \"semantic_type\": \"\",\n        \"description\": \"\"\n      }\n    },\n    {\n      \"column\": \"city-mpg\",\n      \"properties\": {\n        \"dtype\": \"number\",\n        \"std\": 6,\n        \"min\": 13,\n        \"max\": 49,\n        \"num_unique_values\": 29,\n        \"samples\": [\n          49,\n          23,\n          29\n        ],\n        \"semantic_type\": \"\",\n        \"description\": \"\"\n      }\n    },\n    {\n      \"column\": \"highway-mpg\",\n      \"properties\": {\n        \"dtype\": \"number\",\n        \"std\": 6,\n        \"min\": 16,\n        \"max\": 54,\n        \"num_unique_values\": 30,\n        \"samples\": [\n          53,\n          27,\n          17\n        ],\n        \"semantic_type\": \"\",\n        \"description\": \"\"\n      }\n    },\n    {\n      \"column\": \"price\",\n      \"properties\": {\n        \"dtype\": \"number\",\n        \"std\": 7978.707608706008,\n        \"min\": 5118.0,\n        \"max\": 45400.0,\n        \"num_unique_values\": 184,\n        \"samples\": [\n          6189.0,\n          8558.0,\n          10698.0\n        ],\n        \"semantic_type\": \"\",\n        \"description\": \"\"\n      }\n    }\n  ]\n}"
            }
          },
          "metadata": {},
          "execution_count": 8
        }
      ],
      "source": [
        "np.random.seed(0)\n",
        "# YOUR CODE HERE\n",
        "\n",
        "# Creating a list of indices corresponding to the rows in car_data dataset\n",
        "indices = np.arange(car_data.shape[0])\n",
        "print('Printing list of indices:')\n",
        "print(indices, '\\n')\n",
        "\n",
        "# Creating shuffed_indices array\n",
        "shuffled_indices = np.random.permutation(indices)\n",
        "print('Printing list of shuffled indices:')\n",
        "print(shuffled_indices, '\\n')\n",
        "\n",
        "# Reordering the car_data dataset based on the order in shuffled_indices\n",
        "car_data = car_data.reindex(shuffled_indices)\n",
        "print('Printing the top 5 rows of reordered car_data dataset:')\n",
        "car_data.head()"
      ]
    },
    {
      "cell_type": "markdown",
      "metadata": {
        "id": "3bByBTidJqUz"
      },
      "source": [
        "### <span style=\"color:chocolate\">Exercise 4:</span> Define outcome and features (5 points)"
      ]
    },
    {
      "cell_type": "markdown",
      "metadata": {
        "id": "U9V7RzDeJqUz"
      },
      "source": [
        "Create two dataframes as follows:\n",
        "\n",
        "1. The first dataframe contains our outcome of interest: ['price']. Note, this is what we are aiming to predict. Name this dataframe Y. Print shape of Y.\n",
        "2. The second dataframe contains our features of interest: ['horsepower', 'peak-rpm', 'city-mpg', 'highway-mpg']. Name this dataframe X. Print shape of X.\n"
      ]
    },
    {
      "cell_type": "code",
      "execution_count": null,
      "metadata": {
        "colab": {
          "base_uri": "https://localhost:8080/"
        },
        "id": "JikR16TDJqUz",
        "outputId": "c5b917b8-45c1-4f73-aad8-f4b345594209"
      },
      "outputs": [
        {
          "output_type": "stream",
          "name": "stdout",
          "text": [
            "Printing the shape of Y: (199, 1) \n",
            "\n",
            "Printing the shape of X: (199, 4)\n"
          ]
        }
      ],
      "source": [
        "# YOUR CODE HERE\n",
        "\n",
        "# Creating our dataframe with our outcome of interest: price\n",
        "Y = car_data[['price']]\n",
        "print('Printing the shape of Y:', Y.shape, '\\n')\n",
        "\n",
        "X = car_data[['horsepower', 'peak-rpm', 'city-mpg', 'highway-mpg']]\n",
        "print('Printing the shape of X:', X.shape)"
      ]
    },
    {
      "cell_type": "markdown",
      "metadata": {
        "id": "05o6Y34_JqUz"
      },
      "source": [
        "### <span style=\"color:chocolate\">Exercise 5:</span> Data splits (10 points)"
      ]
    },
    {
      "cell_type": "markdown",
      "metadata": {
        "id": "7DiGuC8-JqUz"
      },
      "source": [
        "Using the <span style=\"color:chocolate\">train_test_split()</span> method available in scikit-learn:\n",
        "1. Partition the (X, Y) data into training, validation, and test sets using a splitting rule of [60%, 20%, 20%], with a random state set to 1234. Name the resulting dataframes as follows: X_train, X_val, X_test, Y_train, Y_val, Y_test. Hint: To create these three partitions you will utilize the train_test_split() method twice (all the other arguments of the method are set to default values.). You should obtain [119, 40, 40] examples for training, validation, and test, respectively.\n",
        "2. Print the shape of each dataframe.\n",
        "\n",
        "Note: The validation set is crucial for evaluating different hyperparameter configurations and selecting those that yield optimal model performance. This approach avoids utilizing the test dataset during model training, as it is assumed to be \"unknown\" at that stage."
      ]
    },
    {
      "cell_type": "code",
      "execution_count": null,
      "metadata": {
        "colab": {
          "base_uri": "https://localhost:8080/"
        },
        "id": "gAH-vr0xJqUz",
        "outputId": "9b631a3c-b3f5-4267-e65b-b0b36a26c257"
      },
      "outputs": [
        {
          "output_type": "stream",
          "name": "stdout",
          "text": [
            "Printing the shape of X_train: (119, 4)\n",
            "Printing the shape of X_val: (40, 4)\n",
            "Printing the shape of X_test: (40, 4)\n",
            "Printing the shape of Y_train: (119, 1)\n",
            "Printing the shape of Y_val: (40, 1)\n",
            "Printing the shape of Y_test: (40, 1)\n"
          ]
        }
      ],
      "source": [
        "# YOUR CODE HERE\n",
        "\n",
        "# Setting random state set to 1234 for np and tf\n",
        "tf.random.set_seed(1234)\n",
        "np.random.seed(1234)\n",
        "\n",
        "# Creating splits for the training (temporary) and test data\n",
        "X_train, X_test, Y_train, Y_test = train_test_split(\n",
        "    X, Y, test_size = 0.2, random_state = 1234)\n",
        "\n",
        "# Creating splits for training (final) and validation data\n",
        "X_train, X_val, Y_train, Y_val = train_test_split(\n",
        "    X_train, Y_train, test_size = 0.25, random_state = 1234)\n",
        "\n",
        "print('Printing the shape of X_train:', X_train.shape)\n",
        "print('Printing the shape of X_val:', X_val.shape)\n",
        "print('Printing the shape of X_test:', X_test.shape)\n",
        "print('Printing the shape of Y_train:', Y_train.shape)\n",
        "print('Printing the shape of Y_val:', Y_val.shape)\n",
        "print('Printing the shape of Y_test:', Y_test.shape)"
      ]
    },
    {
      "cell_type": "markdown",
      "metadata": {
        "id": "IgyrS6BnJqU0"
      },
      "source": [
        "### <span style=\"color:chocolate\">Exercise 6:</span> Data standardization (10 points)"
      ]
    },
    {
      "cell_type": "markdown",
      "metadata": {
        "id": "hq5tx92BJqU0"
      },
      "source": [
        "With this concept in mind, complete the following tasks:\n",
        "\n",
        "1. Output the quantile values (0.25, 0.5, 0.75, 0.95) for all features in the X_train dataset. Are these values uniformly scaled across features?\n",
        "\n",
        "2. Standardize all features in X_train, X_val, and X_test. Label the resulting dataframes as X_train_std, X_val_std, and X_test_std, respectively. Hint: standardize the validation and test data using the mean and standard deviation computed from the training data. Why?\n",
        "\n",
        "3. Similar to point 2. but now standardize the outcome variable. Label the resulting dataframes as Y_train_std, Y_val_std, and Y_test_std."
      ]
    },
    {
      "cell_type": "code",
      "execution_count": null,
      "metadata": {
        "colab": {
          "base_uri": "https://localhost:8080/"
        },
        "id": "0ts78IltJqU0",
        "outputId": "0674f0b8-cbac-44b9-bf08-78382666243d"
      },
      "outputs": [
        {
          "output_type": "stream",
          "name": "stdout",
          "text": [
            "      horsepower  peak-rpm  city-mpg  highway-mpg\n",
            "0.25        69.0    4800.0      21.0         25.0\n",
            "0.50        90.0    5100.0      25.0         30.0\n",
            "0.75       116.0    5400.0      31.0         37.0\n",
            "0.95       176.6    5810.0      37.0         42.1 \n",
            "\n",
            "It's hard to tell whether the data within each feature is scaled\n",
            "uniformly. However, the values across features are definitely not\n",
            "uniformly scaled. While city-mpg and highway-mpg may be comparable,\n",
            "horsepower is undeniably larger; moreover, the peak-rpm feature seems\n",
            "to be roughly 2 orders of magnitude larger than the other features.\n"
          ]
        }
      ],
      "source": [
        "# YOUR CODE HERE\n",
        "\n",
        "# Outputting the quantile values for all features in X_train\n",
        "print(X_train.quantile([0.25, 0.5, 0.75, 0.95]), '\\n')\n",
        "print(\"It's hard to tell whether the data within each feature is scaled\")\n",
        "print(\"uniformly. However, the values across features are definitely not\")\n",
        "print(\"uniformly scaled. While city-mpg and highway-mpg may be comparable,\")\n",
        "print(\"horsepower is undeniably larger; moreover, the peak-rpm feature seems\")\n",
        "print(\"to be roughly 2 orders of magnitude larger than the other features.\")"
      ]
    },
    {
      "cell_type": "code",
      "source": [
        "# Standardizing all features in X_train, X_val, and X_test based on X_train\n",
        "X_train_mean = X_train.mean()\n",
        "X_train_stddev = X_train.std()\n",
        "\n",
        "X_train_std = (X_train - X_train_mean) / X_train_stddev\n",
        "X_val_std = (X_val - X_train_mean) / X_train_stddev\n",
        "X_test_std = (X_test - X_train_mean) / X_train_stddev\n",
        "\n",
        "print(\"One of the biggest reasons for standardizing data in general is because\")\n",
        "print(\"we want the learning rate to have an even impact across all features.\")\n",
        "print(\"However, this should not affect the comparison of how well our model\")\n",
        "print(\"does against the val and test data with how well it does against the\")\n",
        "print(\"training data (e.g., a model that may have overfit based on what it\")\n",
        "print(\"learned in the training data may not perform as well against the\")\n",
        "print(\"validation or test data). Therefore, we standardize all the data only\")\n",
        "print(\"against the training data because we want to see how well our model\")\n",
        "print(\"generalizes to unseen data. If we instead standardize the validation\")\n",
        "print(\"and test data to their own respective means and stddevs, it would be as\")\n",
        "print(\"if you already gave your model an edge (since it was trained on data\")\n",
        "print(\"with mean 0 and stddev 1), inadvertently introducing bias to the model.\")"
      ],
      "metadata": {
        "colab": {
          "base_uri": "https://localhost:8080/"
        },
        "id": "QcX27icZaYnw",
        "outputId": "e570e6e9-4122-45be-8688-1348e3313a65"
      },
      "execution_count": null,
      "outputs": [
        {
          "output_type": "stream",
          "name": "stdout",
          "text": [
            "One of the biggest reasons for standardizing data in general is because\n",
            "we want the learning rate to have an even impact across all features.\n",
            "However, this should not affect the comparison of how well our model\n",
            "does against the val and test data with how well it does against the\n",
            "training data (e.g., a model that may have overfit based on what it\n",
            "learned in the training data may not perform as well against the\n",
            "validation or test data). Therefore, we standardize all the data only\n",
            "against the training data because we want to see how well our model\n",
            "generalizes to unseen data. If we instead standardize the validation\n",
            "and test data to their own respective means and stddevs, it would be as\n",
            "if you already gave your model an edge (since it was trained on data\n",
            "with mean 0 and stddev 1), inadvertently introducing bias to the model.\n"
          ]
        }
      ]
    },
    {
      "cell_type": "code",
      "source": [
        "# Standardizing the outcomes in Y_train, Y_val, and Y_test based on Y_train\n",
        "Y_train_mean = Y_train.mean()\n",
        "Y_train_stddev = Y_train.std()\n",
        "\n",
        "Y_train_std = (Y_train - Y_train_mean) / Y_train_stddev\n",
        "Y_val_std = (Y_val - Y_train_mean) / Y_train_stddev\n",
        "Y_test_std = (Y_test - Y_train_mean) / Y_train_stddev"
      ],
      "metadata": {
        "id": "dppwTC0DfdOW"
      },
      "execution_count": null,
      "outputs": []
    },
    {
      "cell_type": "markdown",
      "metadata": {
        "id": "2DPoRknwJqU0"
      },
      "source": [
        "---\n",
        "### Step 3: Exploratory data analysis (EDA)"
      ]
    },
    {
      "cell_type": "markdown",
      "metadata": {
        "id": "RJRphVfPJqU0"
      },
      "source": [
        "EDA plays a very important role in ML. The goal here is to develop a good understanding of our training dataset, identify any data quality issues, understand patterns and relationships, which in turn, aids in subsequent modeling and interpretations."
      ]
    },
    {
      "cell_type": "markdown",
      "metadata": {
        "id": "QuehzAifJqU0"
      },
      "source": [
        "### <span style=\"color:chocolate\">Exercise 7:</span> Scatterplot matrix (10 points)"
      ]
    },
    {
      "cell_type": "markdown",
      "metadata": {
        "id": "qTMKQaYUJqU0"
      },
      "source": [
        "In this exercise you will use some simple yet useful techniques to visualize the distribution of the data.\n",
        "\n",
        "Let's start with:\n",
        "\n",
        "1. A scatterplot matrix to visualize the pair-wise correlations between different features and outcome in the (X_train_std, Y_train_std) data. You will use the <span style=\"color:chocolate\">sns.pairplot()</span> method from the seaborn library imported at the top of the notebook;\n",
        "2. Is any of the variables in the data normally distributed? Is it necessary for the explanatory or target variable to be normally distributed in order to train a ML model?"
      ]
    },
    {
      "cell_type": "code",
      "execution_count": null,
      "metadata": {
        "colab": {
          "base_uri": "https://localhost:8080/",
          "height": 1000
        },
        "id": "0nPakvwfJqU0",
        "outputId": "f51275b7-c714-4533-ea1a-5ed17e56327f"
      },
      "outputs": [
        {
          "output_type": "execute_result",
          "data": {
            "text/plain": [
              "Text(0.5, 0.98, 'Scatterplot Matrix of Features and Outcome Variable')"
            ]
          },
          "metadata": {},
          "execution_count": 14
        },
        {
          "output_type": "display_data",
          "data": {
            "text/plain": [
              "<Figure size 1000x1000 with 30 Axes>"
            ],
            "image/png": "[encoded data removed]"
          },
          "metadata": {}
        }
      ],
      "source": [
        "# YOUR CODE HERE\n",
        "\n",
        "# Creating scatterplot matrix to visualize pair-wise correlations between\n",
        "# different features and the outcome variable\n",
        "df_train = pd.concat([Y_train_std, X_train_std], axis = 1)\n",
        "sp = sns.pairplot(df_train, height = 2)\n",
        "sp.fig.suptitle(\"Scatterplot Matrix of Features and Outcome Variable\",\n",
        "                verticalalignment = 'bottom')"
      ]
    },
    {
      "cell_type": "code",
      "source": [
        "print(\"peak-rpm, city-mpg, and highway-mpg all seem to be somewhat normally\")\n",
        "print(\"distributed. However, it is not necessary for the explanatory or target\")\n",
        "print(\"variables to be normally distributed in order to train a ML model.\")"
      ],
      "metadata": {
        "colab": {
          "base_uri": "https://localhost:8080/"
        },
        "id": "uyGjnNnOh2WK",
        "outputId": "4619e4ea-3325-4bf1-f85f-012682f44829"
      },
      "execution_count": null,
      "outputs": [
        {
          "output_type": "stream",
          "name": "stdout",
          "text": [
            "peak-rpm, city-mpg, and highway-mpg all seem to be somewhat normally\n",
            "distributed. However, it is not necessary for the explanatory or target\n",
            "variables to be normally distributed in order to train a ML model.\n"
          ]
        }
      ]
    },
    {
      "cell_type": "markdown",
      "metadata": {
        "id": "skLOuJ17JqU0"
      },
      "source": [
        "### <span style=\"color:chocolate\">Exercise 8:</span> Correlation matrix (10 points)"
      ]
    },
    {
      "cell_type": "markdown",
      "metadata": {
        "id": "zxEIcCVxJqU0"
      },
      "source": [
        "In this exercise you will:\n",
        "\n",
        "1. Plot a correlation matrix in the form of a heatmap to visualize the linear relationships between different features and outcome in the (X_train_std, Y_train_std) data. Hint: this example here is very useful: https://seaborn.pydata.org/examples/many_pairwise_correlations.html\n",
        "    \n",
        "2. Answer the following questions:\n",
        " - Which two features are likely to be most redundant?\n",
        " - Which feature is likely to be least useful for predicting price?"
      ]
    },
    {
      "cell_type": "code",
      "execution_count": null,
      "metadata": {
        "colab": {
          "base_uri": "https://localhost:8080/",
          "height": 563
        },
        "id": "-w25GdRzJqU0",
        "outputId": "4f5366d1-7d72-46e2-be76-31beee4c81a5"
      },
      "outputs": [
        {
          "output_type": "execute_result",
          "data": {
            "text/plain": [
              "Text(0.5, 1.0, 'Heatmap of Features and Outcome Variable')"
            ]
          },
          "metadata": {},
          "execution_count": 16
        },
        {
          "output_type": "display_data",
          "data": {
            "text/plain": [
              "<Figure size 640x480 with 2 Axes>"
            ],
            "image/png": "[encoded data removed]"
          },
          "metadata": {}
        }
      ],
      "source": [
        "# YOUR CODE HERE\n",
        "\n",
        "# Plotting a correlation matrix in heatmap format\n",
        "cm = df_train.corr()  # Getting the correlation matrix\n",
        "hm = sns.heatmap(cm, annot = True)\n",
        "hm.set_title(\"Heatmap of Features and Outcome Variable\")"
      ]
    },
    {
      "cell_type": "code",
      "source": [
        "print(\"1. The two features that are most likely to be redundant are city-mpg\")\n",
        "print(\"and highway-mpg, as they seem to be extremely closely correlated with\")\n",
        "print(\"one another (correlation of 0.97). This makes sense, as these variables\")\n",
        "print(\"are both measuring mpg, with the only difference being whether they're\")\n",
        "print(\"measured in the city or on the highway (which should be comparable).\\n\")\n",
        "\n",
        "print(\"2. peak-rpm has the lowest correlation with price in terms of\")\n",
        "print(\"magnitude. Therefore, it would seem that peak-rpm is the least useful\")\n",
        "print(\"feature for predicting price.\")"
      ],
      "metadata": {
        "colab": {
          "base_uri": "https://localhost:8080/"
        },
        "id": "fm_V74SmnoJk",
        "outputId": "e1a3ddeb-823c-430c-e605-eb3aa5521bbc"
      },
      "execution_count": null,
      "outputs": [
        {
          "output_type": "stream",
          "name": "stdout",
          "text": [
            "1. The two features that are most likely to be redundant are city-mpg\n",
            "and highway-mpg, as they seem to be extremely closely correlated with\n",
            "one another (correlation of 0.97). This makes sense, as these variables\n",
            "are both measuring mpg, with the only difference being whether they're\n",
            "measured in the city or on the highway (which should be comparable).\n",
            "\n",
            "2. peak-rpm has the lowest correlation with price in terms of\n",
            "magnitude. Therefore, it would seem that peak-rpm is the least useful\n",
            "feature for predicting price.\n"
          ]
        }
      ]
    },
    {
      "cell_type": "markdown",
      "metadata": {
        "id": "610XcQkpJqU0"
      },
      "source": [
        "---\n",
        "### Step 4: Modeling"
      ]
    },
    {
      "cell_type": "markdown",
      "metadata": {
        "id": "qHcqqrXrJqU0"
      },
      "source": [
        "### <span style=\"color:chocolate\">Exercise 9:</span> Baseline model (5 points)"
      ]
    },
    {
      "cell_type": "markdown",
      "metadata": {
        "id": "pYvsX_ALJqU5"
      },
      "source": [
        "Let's start by evaluating a baseline model. Precisely, you'll use the average price of cars in the training set as our baseline model -- that is, the baseline always predicts the average price regardless of the input.\n",
        "\n",
        "1. Implement this baseline using the Y_train_std data and print the average price. Note: You can revert the price variable to the original scale for interpretation purposes."
      ]
    },
    {
      "cell_type": "code",
      "execution_count": null,
      "metadata": {
        "colab": {
          "base_uri": "https://localhost:8080/"
        },
        "id": "bamP01bSJqU5",
        "outputId": "3fcede5e-f9d5-448e-d674-242fe48b4ed2"
      },
      "outputs": [
        {
          "output_type": "stream",
          "name": "stdout",
          "text": [
            "The baseline prediction will stay the same no matter what the input is.\n",
            "In this case, reverting to the original price variable, the baseline\n",
            "will always predict the price to be: 12889.01\n"
          ]
        }
      ],
      "source": [
        "# YOUR CODE HERE\n",
        "\n",
        "baseline_yhat = ((Y_train_std * Y_train_stddev) + Y_train_mean).mean().iloc[0]\n",
        "print(\"The baseline prediction will stay the same no matter what the input is.\")\n",
        "print(\"In this case, reverting to the original price variable, the baseline\")\n",
        "print(\"will always predict the price to be:\", round(baseline_yhat, 2))\n",
        "\n",
        "# Creating Y_hat_baseline_predictions array with mean as prediction for all\n",
        "Y_hat_baseline_predictions = np.ones(Y_train_std.shape[0]) * baseline_yhat"
      ]
    },
    {
      "cell_type": "markdown",
      "metadata": {
        "id": "osBXeXWygp4T"
      },
      "source": [
        "### <span style=\"color:chocolate\">Exercise 10:</span> Improvement over Baseline with TensorFlow (10 points)"
      ]
    },
    {
      "cell_type": "markdown",
      "metadata": {
        "id": "vDsxLnljlp0C"
      },
      "source": [
        "Let's train a linear regression model much like we did in the previous assignment, but this time using TensorFlow.\n",
        "\n",
        "1. Fill in the <span style=\"color:green\">NotImplemented</span> parts of the build_model() function below by following the instructions provided as comments. Hint: refer to Demo 3 in [bCourses/Modules/Live Session Demos](https://bcourses.berkeley.edu/courses/1534588/files/88733489?module_item_id=17073646) for an example.\n",
        "2. Build and compile a model using the build_model() function and the (X_train_std, Y_train_std) data. Set learning_rate = 0.0001. Call the resulting object *model_tf*.\n",
        "3. Train *model_tf* using the (X_train_std, Y_train_std) data. Set num_epochs = 5. Pass the (X_val_std, Y_val_std) data for validation. Hint: see the documentation behind the [tf.keras.Model.fit()](https://bcourses.berkeley.edu/courses/1534588/files/88733489?module_item_id=17073646) method.\n",
        "3. Generate a plot with the loss values on the y-axis and the epoch number on the x-axis for visualization. Make sure to include axes name and title. Hint: check what the [tf.keras.Model.fit()](https://bcourses.berkeley.edu/courses/1534588/files/88733489?module_item_id=17073646) method returns.\n",
        "\n",
        "More notes on point 1: the idea is to build a *computational graph* for linear regression, and then send data through it. There are many ways to build graphs, but [TenforFlow Keras API](https://www.tensorflow.org/api_docs/python/tf/keras) is recommended."
      ]
    },
    {
      "cell_type": "code",
      "execution_count": null,
      "metadata": {
        "id": "pfdRzjk-RgpG"
      },
      "outputs": [],
      "source": [
        "def build_model(num_features, learning_rate):\n",
        "  \"\"\"Build a TF linear regression model using Keras.\n",
        "\n",
        "  Args:\n",
        "    num_features: The number of input features.\n",
        "    learning_rate: The desired learning rate for SGD.\n",
        "\n",
        "  Returns:\n",
        "    model: A tf.keras model (graph).\n",
        "  \"\"\"\n",
        "  # This is not strictly necessary, but each time you build a model, TF adds\n",
        "  # new nodes (rather than overwriting), so the colab session can end up\n",
        "  # storing lots of copies of the graph when you only care about the most\n",
        "  # recent. Also, as there is some randomness built into training with SGD,\n",
        "  # setting a random seed ensures that results are the same on each identical\n",
        "  # training run.\n",
        "  tf.keras.backend.clear_session()\n",
        "  tf.random.set_seed(0)\n",
        "\n",
        "  # Build a model using keras.Sequential. While this is intended for neural\n",
        "  # networks (which may have multiple layers), we want just a single layer for\n",
        "  # linear regression.\n",
        "  model = tf.keras.Sequential()\n",
        "  model.add(tf.keras.layers.Dense(\n",
        "      units=1,                     # output dim\n",
        "      input_shape=[num_features],  # input dim\n",
        "      use_bias=True,               # use a bias (intercept) param\n",
        "      kernel_initializer=tf.ones_initializer,  # initialize params to 1\n",
        "      bias_initializer=tf.ones_initializer,    # initialize bias to 1\n",
        "  ))\n",
        "\n",
        "  # We need to choose an optimizer. We'll use GD, which is actually mini-batch GD\n",
        "  optimizer = tf.keras.optimizers.SGD(learning_rate=learning_rate)\n",
        "\n",
        "  # Finally, compile the model. This finalizes the graph for training.\n",
        "  # We specify the MSE loss and the optimizer above\n",
        "  model.compile(optimizer=optimizer, loss='mse')\n",
        "\n",
        "  return model"
      ]
    },
    {
      "cell_type": "code",
      "execution_count": null,
      "metadata": {
        "colab": {
          "base_uri": "https://localhost:8080/"
        },
        "id": "sKDmFqJkJqU5",
        "outputId": "0dcb3815-ba67-4925-cdd7-bf10f57b7588"
      },
      "outputs": [
        {
          "output_type": "stream",
          "name": "stdout",
          "text": [
            "Epoch 1/5\n"
          ]
        },
        {
          "output_type": "stream",
          "name": "stderr",
          "text": [
            "/usr/local/lib/python3.11/dist-packages/keras/src/layers/core/dense.py:87: UserWarning: Do not pass an `input_shape`/`input_dim` argument to a layer. When using Sequential models, prefer using an `Input(shape)` object as the first layer in the model instead.\n",
            "  super().__init__(activity_regularizer=activity_regularizer, **kwargs)\n"
          ]
        },
        {
          "output_type": "stream",
          "name": "stdout",
          "text": [
            "\u001b[1m4/4\u001b[0m \u001b[32m━━━━━━━━━━━━━━━━━━━━\u001b[0m\u001b[37m\u001b[0m \u001b[1m1s\u001b[0m 88ms/step - loss: 5.5000 - val_loss: 4.8144\n",
            "Epoch 2/5\n",
            "\u001b[1m4/4\u001b[0m \u001b[32m━━━━━━━━━━━━━━━━━━━━\u001b[0m\u001b[37m\u001b[0m \u001b[1m0s\u001b[0m 17ms/step - loss: 5.4840 - val_loss: 4.8031\n",
            "Epoch 3/5\n",
            "\u001b[1m4/4\u001b[0m \u001b[32m━━━━━━━━━━━━━━━━━━━━\u001b[0m\u001b[37m\u001b[0m \u001b[1m0s\u001b[0m 22ms/step - loss: 5.4681 - val_loss: 4.7919\n",
            "Epoch 4/5\n",
            "\u001b[1m4/4\u001b[0m \u001b[32m━━━━━━━━━━━━━━━━━━━━\u001b[0m\u001b[37m\u001b[0m \u001b[1m0s\u001b[0m 21ms/step - loss: 5.4523 - val_loss: 4.7808\n",
            "Epoch 5/5\n",
            "\u001b[1m4/4\u001b[0m \u001b[32m━━━━━━━━━━━━━━━━━━━━\u001b[0m\u001b[37m\u001b[0m \u001b[1m0s\u001b[0m 23ms/step - loss: 5.4365 - val_loss: 4.7696\n"
          ]
        }
      ],
      "source": [
        "tf.random.set_seed(0)\n",
        "# 2. Build and compile model\n",
        "# YOUR CODE HERE\n",
        "\n",
        "# Building and compiling the model\n",
        "model_tf = build_model(num_features = X_train.shape[1], learning_rate = 0.0001)\n",
        "\n",
        "# 3. Fit the model\n",
        "# YOUR CODE HERE\n",
        "\n",
        "# Training model_tf using X_train_std and Y_train_std\n",
        "model_tf_fit = model_tf.fit(\n",
        "  x = X_train_std,\n",
        "  y = Y_train_std,\n",
        "  validation_data=[X_val_std, Y_val_std],\n",
        "  epochs=5,\n",
        "  verbose=1)"
      ]
    },
    {
      "cell_type": "code",
      "source": [
        "# Generating a plot with loss on y-axis and epoch on x-axis\n",
        "hist = model_tf_fit.history\n",
        "plt.plot(range(1, 6), hist['loss'], label='Training Loss')\n",
        "plt.plot(range(1, 6), hist['val_loss'], label='Validation Loss')\n",
        "plt.xlabel('Epoch')\n",
        "plt.ylabel('Loss')\n",
        "plt.title('Loss vs Epoch')\n",
        "plt.legend()\n",
        "plt.show()"
      ],
      "metadata": {
        "colab": {
          "base_uri": "https://localhost:8080/",
          "height": 480
        },
        "id": "NGMItlVhvxf4",
        "outputId": "091b332a-7ee1-48b1-d60a-985f8933997f"
      },
      "execution_count": null,
      "outputs": [
        {
          "output_type": "display_data",
          "data": {
            "text/plain": [
              "<Figure size 640x480 with 1 Axes>"
            ],
            "image/png": "[encoded data removed]"
          },
          "metadata": {}
        }
      ]
    },
    {
      "cell_type": "markdown",
      "metadata": {
        "id": "p1PiCviRJqU5"
      },
      "source": [
        "---\n",
        "### Step 5: Hyperparameter tuning"
      ]
    },
    {
      "cell_type": "markdown",
      "metadata": {
        "id": "-mSI15HWJqU5"
      },
      "source": [
        "Hyperparameter tuning is a crucial step in optimizing ML models. It involves systematically adjusting hyperparameters such as learning rate, number of epochs, and optimizer to find the model configuration that leads to the best generalization performance.\n",
        "\n",
        "This tuning process is typically conducted by monitoring the model's performance on the validation vs. training set. It's important to note that using the test set for hyperparameter tuning can compromise the integrity of the evaluation process by violating the assumption of \"blindness\" of the test data."
      ]
    },
    {
      "cell_type": "markdown",
      "metadata": {
        "id": "3eeWMlIeJqU5"
      },
      "source": [
        "### <span style=\"color:chocolate\">Exercise 11:</span> Hyperparameter tuning (10 points)"
      ]
    },
    {
      "cell_type": "markdown",
      "metadata": {
        "id": "kJueUdQbJqU5"
      },
      "source": [
        "1. Fine-tune the **learning rate** and **number of epochs** hyperparameters of *model_tf* to determine the setup that yields the most optimal generalization performance. Feel free to explore various values for these hyperparameters. Hint: you can manually test different hyperparameter values or you can use the [Keras Tuner](https://www.tensorflow.org/tutorials/keras/keras_tuner). If you decide to work with the Keras Tuner, define a new model building function named <span style=\"color:chocolate\">build_model_tuner()</span>.\n",
        "\n",
        "After identifying your preferred model configuration, print the following information:\n",
        "\n",
        "2. The learned parameters of the tuned model (this should include the bias term). Hint: use  <span style=\"color:chocolate\">[model_name].layers[0].get_weights()</span>.\n",
        "3. The loss at the final epoch on both the training and validation datasets;\n",
        "4. The difference between the last-epoch loss observed on the training and validation datasets.\n",
        "\n",
        "\n",
        "Please note that we will consider 'optimal model configuration' any last-epoch training loss that is below 0.31 and any last epoch validation loss that is below 0.48."
      ]
    },
    {
      "cell_type": "code",
      "execution_count": null,
      "metadata": {
        "id": "EnlXpns9JqU5",
        "colab": {
          "base_uri": "https://localhost:8080/"
        },
        "outputId": "6e12638e-9e6c-4f42-ef49-5290b628a862"
      },
      "outputs": [
        {
          "output_type": "stream",
          "name": "stdout",
          "text": [
            "Epoch 1/6\n"
          ]
        },
        {
          "output_type": "stream",
          "name": "stderr",
          "text": [
            "/usr/local/lib/python3.11/dist-packages/keras/src/layers/core/dense.py:87: UserWarning: Do not pass an `input_shape`/`input_dim` argument to a layer. When using Sequential models, prefer using an `Input(shape)` object as the first layer in the model instead.\n",
            "  super().__init__(activity_regularizer=activity_regularizer, **kwargs)\n"
          ]
        },
        {
          "output_type": "stream",
          "name": "stdout",
          "text": [
            "\u001b[1m4/4\u001b[0m \u001b[32m━━━━━━━━━━━━━━━━━━━━\u001b[0m\u001b[37m\u001b[0m \u001b[1m0s\u001b[0m 47ms/step - loss: 3.5970 - val_loss: 1.2237\n",
            "Epoch 2/6\n",
            "\u001b[1m4/4\u001b[0m \u001b[32m━━━━━━━━━━━━━━━━━━━━\u001b[0m\u001b[37m\u001b[0m \u001b[1m0s\u001b[0m 11ms/step - loss: 0.6396 - val_loss: 0.6750\n",
            "Epoch 3/6\n",
            "\u001b[1m4/4\u001b[0m \u001b[32m━━━━━━━━━━━━━━━━━━━━\u001b[0m\u001b[37m\u001b[0m \u001b[1m0s\u001b[0m 11ms/step - loss: 0.3739 - val_loss: 0.5417\n",
            "Epoch 4/6\n",
            "\u001b[1m4/4\u001b[0m \u001b[32m━━━━━━━━━━━━━━━━━━━━\u001b[0m\u001b[37m\u001b[0m \u001b[1m0s\u001b[0m 44ms/step - loss: 0.3169 - val_loss: 0.4899\n",
            "Epoch 5/6\n",
            "\u001b[1m4/4\u001b[0m \u001b[32m━━━━━━━━━━━━━━━━━━━━\u001b[0m\u001b[37m\u001b[0m \u001b[1m0s\u001b[0m 22ms/step - loss: 0.2962 - val_loss: 0.4598\n",
            "Epoch 6/6\n",
            "\u001b[1m4/4\u001b[0m \u001b[32m━━━━━━━━━━━━━━━━━━━━\u001b[0m\u001b[37m\u001b[0m \u001b[1m0s\u001b[0m 25ms/step - loss: 0.2845 - val_loss: 0.4391\n"
          ]
        }
      ],
      "source": [
        "tf.random.set_seed(0)\n",
        "# YOUR CODE HERE\n",
        "\n",
        "# Building and compiling the model using parameters after manual adjustments\n",
        "model_tf = build_model(num_features = X_train.shape[1], learning_rate = 0.1)\n",
        "\n",
        "# Training model_tf using X_train_std and Y_train_std\n",
        "model_tf_fit = model_tf.fit(\n",
        "  x = X_train_std,\n",
        "  y = Y_train_std,\n",
        "  validation_data=[X_val_std, Y_val_std],\n",
        "  epochs=6,\n",
        "  batch_size=32,\n",
        "  verbose=1)"
      ]
    },
    {
      "cell_type": "code",
      "source": [
        "# Generating a plot with loss on y-axis and epoch on x-axis\n",
        "hist = model_tf_fit.history\n",
        "plt.plot(range(1, 7), hist['loss'], label='Training Loss')\n",
        "plt.plot(range(1, 7), hist['val_loss'], label='Validation Loss')\n",
        "plt.xlabel('Epoch')\n",
        "plt.ylabel('Loss')\n",
        "plt.title('Loss vs Epoch')\n",
        "plt.legend()\n",
        "plt.show()"
      ],
      "metadata": {
        "colab": {
          "base_uri": "https://localhost:8080/",
          "height": 480
        },
        "id": "AJQRRaLy8JM1",
        "outputId": "a33e6f7b-8ea3-470b-916c-93105d5e86be"
      },
      "execution_count": null,
      "outputs": [
        {
          "output_type": "display_data",
          "data": {
            "text/plain": [
              "<Figure size 640x480 with 1 Axes>"
            ],
            "image/png": "[encoded data removed]"
          },
          "metadata": {}
        }
      ]
    },
    {
      "cell_type": "code",
      "source": [
        "# 1. Identifying optimal model configuration\n",
        "print(\"1. A model with a learning rate of 0.1 and epochs of 6 seems to\")\n",
        "print(\"yield smooth and reasonable training and validation loss curves. These\")\n",
        "print(\"hyperparameters seem to give us a good sense of how the model is being\")\n",
        "print(\"trained, and it does not appear that it is overfitting. Lastly, the\")\n",
        "print(\"last-epoch training loss is below 0.31 and the last-epoch validation\")\n",
        "print(\"loss is below 0.48.\\n\")\n",
        "\n",
        "# 2. Getting the learned parameters of the tuned model (with the bias term)\n",
        "print(\"2. The learned parameters for the features of the tuned model are:\")\n",
        "print(model_tf.layers[0].get_weights()[0])\n",
        "print(\"where the parameters are horsepower, peak-rpm, city-mpg, & highway-mpg,\")\n",
        "print(\"respectively.\\n\")\n",
        "print(\"The learned parameter for the bias term of the tuned model is:\")\n",
        "print(model_tf.layers[0].get_weights()[1], '\\n')\n",
        "\n",
        "# 3. The loss at the final epoch on the training and validation datasets\n",
        "print(\"3. Loss at the final epoch on the training set:\", hist['loss'][-1])\n",
        "print(\"Loss at the final epoch on the validation set:\", hist['val_loss'][-1])\n",
        "\n",
        "# 4. The difference between the last-epoch loss observed on the datasets\n",
        "print(\"\\n4. The difference between the last-epoch loss observed on the\")\n",
        "print(\"training and validation datasets is:\",\n",
        "      hist['loss'][-1] - hist['val_loss'][-1])\n"
      ],
      "metadata": {
        "colab": {
          "base_uri": "https://localhost:8080/"
        },
        "id": "0PR73x-O8x9A",
        "outputId": "14798da0-e9d0-4e08-8235-096faa923339"
      },
      "execution_count": null,
      "outputs": [
        {
          "output_type": "stream",
          "name": "stdout",
          "text": [
            "1. A model with a learning rate of 0.1 and epochs of 6 seems to\n",
            "yield smooth and reasonable training and validation loss curves. These\n",
            "hyperparameters seem to give us a good sense of how the model is being\n",
            "trained, and it does not appear that it is overfitting. Lastly, the\n",
            "last-epoch training loss is below 0.31 and the last-epoch validation\n",
            "loss is below 0.48.\n",
            "\n",
            "2. The learned parameters for the features of the tuned model are:\n",
            "[[ 1.0085415e+00]\n",
            " [-2.0104854e-01]\n",
            " [ 1.9908512e-01]\n",
            " [ 6.1692670e-05]]\n",
            "where the parameters are horsepower, peak-rpm, city-mpg, & highway-mpg,\n",
            "respectively.\n",
            "\n",
            "The learned parameter for the bias term of the tuned model is:\n",
            "[0.00705744] \n",
            "\n",
            "3. Loss at the final epoch on the training set: 0.3045870065689087\n",
            "Loss at the final epoch on the validation set: 0.43911105394363403\n",
            "\n",
            "4. The difference between the last-epoch loss observed on the\n",
            "training and validation datasets is: -0.13452404737472534\n"
          ]
        }
      ]
    },
    {
      "cell_type": "markdown",
      "metadata": {
        "id": "hAYk7EzkJqU5"
      },
      "source": [
        "---\n",
        "### Step 6: Evaluation and Generalization"
      ]
    },
    {
      "cell_type": "markdown",
      "metadata": {
        "id": "ABmQ5_IqJqU5"
      },
      "source": [
        "\n",
        "Now that you've determined the optimal set of hyperparameters, it's time to evaluate your optimized (tuned) model on the test data to gauge its performance in real-world scenarios, commonly known as inference."
      ]
    },
    {
      "cell_type": "markdown",
      "metadata": {
        "id": "3eA3DeP8JqU5"
      },
      "source": [
        "### <span style=\"color:chocolate\">Exercise 12:</span> Computing MSE (10 points)"
      ]
    },
    {
      "cell_type": "markdown",
      "metadata": {
        "id": "2wczomqqJqU5"
      },
      "source": [
        "1. Calculate the MSE on both (X_train_std, Y_train_std) and (X_test_std, Y_test_std) datasets. Hint: You can utilize the <span style=\"color:chocolate\">model.evaluate()</span> method provided by tf.keras.\n",
        "\n",
        "2. Does the model demonstrate strong generalization capabilities? Provide an explanation based on your observations.\n",
        "\n",
        "4. Generate a plot to visualize the accuracy of the predictions. Plot the actual (observed) Y_test values on the x-axis and the predicted Y_test values on the y-axis. Additionally, include a 45-degree line in the plot for reference. Ensure that the plot contains appropriate axis labels and a title. Provide commentary on the model's fit based on this visualization. Hint: You can utilize the <span style=\"color:chocolate\">model.predict()</span> method available in tf.keras."
      ]
    },
    {
      "cell_type": "code",
      "execution_count": null,
      "metadata": {
        "id": "Mtjgj1PQJqU6",
        "colab": {
          "base_uri": "https://localhost:8080/",
          "height": 837
        },
        "outputId": "829a8f58-1f29-494e-f9a4-a41923d82438"
      },
      "outputs": [
        {
          "output_type": "stream",
          "name": "stdout",
          "text": [
            "1. MSE between Y_train_std and the predicted values from X_train_std: 0.2904266119003296\n",
            "MSE between Y_test_std and the predicted values from X_test_std: 0.2833482325077057 \n",
            "\n",
            "2. This model does seem to demonstrate strong generalization\n",
            "capabilities. The training data loss is under 0.30, and even with a\n",
            "completely unseen test data set, the loss remains about the same, still\n",
            "under 0.30.\n",
            "\n",
            "\u001b[1m2/2\u001b[0m \u001b[32m━━━━━━━━━━━━━━━━━━━━\u001b[0m\u001b[37m\u001b[0m \u001b[1m0s\u001b[0m 4ms/step \n"
          ]
        },
        {
          "output_type": "display_data",
          "data": {
            "text/plain": [
              "<Figure size 640x480 with 1 Axes>"
            ],
            "image/png": "[encoded data removed]"
          },
          "metadata": {}
        },
        {
          "output_type": "stream",
          "name": "stdout",
          "text": [
            "3. Based on this visualization, the model does not seem to do a great\n",
            "job with its fit. While the model may be generalizable, the error is\n",
            "still pretty high, and we can see that when comparing the\n",
            "Y_test_std_pred (predicted) values versus Y_test_std (actual) values\n",
            "against the red line at 45 degrees. Even though the fit seems better\n",
            "for values that are below the average of the dataset, the datapoints\n",
            "are not very tightly clustered around the red line. In fact, there\n",
            "seem to be many outliers in the data, some of which are over 2 standard\n",
            "deviations greater than the mean. Therefore, while this model may be\n",
            "generalizable, its fit is not great, and we can likely minimize the\n",
            "error by improving or changing the model.\n"
          ]
        }
      ],
      "source": [
        "# YOUR CODE HERE\n",
        "\n",
        "# 1. Calculating the MSE on X_train_std and Y_train_std\n",
        "print(\"1. MSE between Y_train_std and the predicted values from X_train_std:\",\n",
        "      model_tf.evaluate(X_train_std, Y_train_std, verbose = 0))\n",
        "print(\"MSE between Y_test_std and the predicted values from X_test_std:\",\n",
        "      model_tf.evaluate(X_test_std, Y_test_std, verbose = 0), '\\n')\n",
        "\n",
        "# 2. Confirming that the model demonstrates strong generalization capabilities\n",
        "print(\"2. This model does seem to demonstrate strong generalization\")\n",
        "print(\"capabilities. The training data loss is under 0.30, and even with a\")\n",
        "print(\"completely unseen test data set, the loss remains about the same, still\")\n",
        "print(\"under 0.30.\\n\")\n",
        "\n",
        "# 3. Generating a plot to visualize accuracy of the predictions\n",
        "Y_test_std_pred = model_tf.predict(X_test_std) # Getting Y_test_std predictions\n",
        "\n",
        "plt.scatter(Y_test_std, Y_test_std_pred, label = 'Pred vs Actual Y_test_std')\n",
        "plt.plot([Y_test_std.min(), Y_test_std.max()], [Y_test_std.min(),\n",
        "  Y_test_std.max()], color='red', label=\"45-degree line\")\n",
        "plt.xlabel('Actual Y_test_std values')\n",
        "plt.ylabel('Predicted Y_test_std_pred values')\n",
        "plt.title('Predicted vs Actual Y_test_std Values')\n",
        "plt.legend()\n",
        "plt.show()\n",
        "\n",
        "print(\"3. Based on this visualization, the model does not seem to do a great\")\n",
        "print(\"job with its fit. While the model may be generalizable, the error is\")\n",
        "print(\"still pretty high, and we can see that when comparing the\")\n",
        "print(\"Y_test_std_pred (predicted) values versus Y_test_std (actual) values\")\n",
        "print(\"against the red line at 45 degrees. Even though the fit seems better\")\n",
        "print(\"for values that are below the average of the dataset, the datapoints\")\n",
        "print(\"are not very tightly clustered around the red line. In fact, there\")\n",
        "print(\"seem to be many outliers in the data, some of which are over 2 standard\")\n",
        "print(\"deviations greater than the mean. Therefore, while this model may be\")\n",
        "print(\"generalizable, its fit is not great, and we can likely minimize the\")\n",
        "print(\"error by improving or changing the model.\")\n"
      ]
    },
    {
      "cell_type": "markdown",
      "metadata": {
        "id": "w27V8It6JqU6"
      },
      "source": [
        "----\n",
        "#### <span style=\"color:chocolate\">Additional practice question</span> (not graded)"
      ]
    },
    {
      "cell_type": "markdown",
      "metadata": {
        "id": "ofZ9dC9GJqU6"
      },
      "source": [
        "In Exercise 12, you reported an aggregated MSE. Let's revisit the exercise by:\n",
        "\n",
        "1. Performing a subgroup evaluation of the model. Specifically, calculate the test data MSE for the following makes: ['alfa-romero', 'audi', 'chevrolet', 'dodge', 'honda'].\n",
        "2. Addressing the question: Is the model \"fair\" across each make?"
      ]
    },
    {
      "cell_type": "code",
      "execution_count": null,
      "metadata": {
        "id": "-oWO4WhQJqU6",
        "colab": {
          "base_uri": "https://localhost:8080/"
        },
        "outputId": "7f6e2b23-9a74-4b0c-8e67-68c6187443eb"
      },
      "outputs": [
        {
          "output_type": "stream",
          "name": "stdout",
          "text": [
            "1. Calculating the MSE for each make of the test dataset:\n",
            "MSE of the test dataset for alfa-romero: 0.0385516919195652\n",
            "MSE of the test dataset for audi: 0.13210703432559967\n",
            "MSE of the test dataset for chevrolet: 0.04523688182234764\n",
            "MSE of the test dataset for dodge: []\n",
            "MSE of the test dataset for honda: 0.07925613969564438\n"
          ]
        },
        {
          "output_type": "stream",
          "name": "stderr",
          "text": [
            "/usr/lib/python3.11/contextlib.py:158: UserWarning: Your input ran out of data; interrupting training. Make sure that your dataset or generator can generate at least `steps_per_epoch * epochs` batches. You may need to use the `.repeat()` function when building your dataset.\n",
            "  self.gen.throw(typ, value, traceback)\n"
          ]
        }
      ],
      "source": [
        "# YOUR CODE HERE\n",
        "\n",
        "# Calculating the test data MSE by make\n",
        "\n",
        "# Retaining only the specified columns\n",
        "car_data_make = car_data_init[\n",
        "    ['horsepower', 'peak-rpm', 'city-mpg', 'highway-mpg', 'price']]\n",
        "\n",
        "# Converting the data type of each column to numeric and coercing missing\n",
        "# values to NaN\n",
        "car_data_make = car_data_make.apply(pd.to_numeric, errors = 'coerce')\n",
        "\n",
        "# Getting the make into the dataframe\n",
        "car_data_make = pd.concat((car_data_make, car_data_init[['make']]), axis = 1)\n",
        "\n",
        "# Removing rows that have missing values\n",
        "car_data_make = car_data_make.dropna(ignore_index = True)\n",
        "\n",
        "# Getting the indices that match with the test data\n",
        "car_data_make = car_data_make.loc[Y_test_std.index.values]\n",
        "\n",
        "# Getting only the specific data for each make\n",
        "car_data_alfa_romero = car_data_make[car_data_make['make'] == 'alfa-romero']\n",
        "car_data_audi = car_data_make[car_data_make['make'] == 'audi']\n",
        "car_data_chevrolet = car_data_make[car_data_make['make'] == 'chevrolet']\n",
        "car_data_dodge = car_data_make[car_data_make['make'] == 'dodge']\n",
        "car_data_honda = car_data_make[car_data_make['make'] == 'honda']\n",
        "\n",
        "# Getting the features and outcome data splits\n",
        "X_alfa_romero = car_data_alfa_romero[['horsepower', 'peak-rpm', 'city-mpg',\n",
        "  'highway-mpg']]\n",
        "Y_alfa_romero = car_data_alfa_romero[['price']]\n",
        "\n",
        "X_audi = car_data_audi[['horsepower', 'peak-rpm', 'city-mpg',\n",
        "  'highway-mpg']]\n",
        "Y_audi = car_data_audi[['price']]\n",
        "\n",
        "X_chevrolet = car_data_chevrolet[['horsepower', 'peak-rpm', 'city-mpg',\n",
        "  'highway-mpg']]\n",
        "Y_chevrolet = car_data_chevrolet[['price']]\n",
        "\n",
        "X_dodge = car_data_dodge[['horsepower', 'peak-rpm', 'city-mpg',\n",
        "  'highway-mpg']]\n",
        "Y_dodge = car_data_dodge[['price']]\n",
        "\n",
        "X_honda = car_data_honda[['horsepower', 'peak-rpm', 'city-mpg',\n",
        "  'highway-mpg']]\n",
        "Y_honda = car_data_honda[['price']]\n",
        "\n",
        "# Standardizing all features for the makes\n",
        "X_alfa_romero_std = (X_alfa_romero - X_train_mean) / X_train_stddev\n",
        "X_audi_std = (X_audi - X_train_mean) / X_train_stddev\n",
        "X_chevrolet_std = (X_chevrolet - X_train_mean) / X_train_stddev\n",
        "X_dodge_std = (X_dodge - X_train_mean) / X_train_stddev\n",
        "X_honda_std = (X_honda - X_train_mean) / X_train_stddev\n",
        "\n",
        "# Standardizing the outcomes for the makes\n",
        "Y_alfa_romero_std = (Y_alfa_romero - Y_train_mean) / Y_train_stddev\n",
        "Y_audi_std = (Y_audi - Y_train_mean) / Y_train_stddev\n",
        "Y_chevrolet_std = (Y_chevrolet - Y_train_mean) / Y_train_stddev\n",
        "Y_dodge_std = (Y_dodge - Y_train_mean) / Y_train_stddev\n",
        "Y_honda_std = (Y_honda - Y_train_mean) / Y_train_stddev\n",
        "\n",
        "# Calculating the MSE for each make of the test dataset\n",
        "print(\"1. Calculating the MSE for each make of the test dataset:\")\n",
        "print(\"MSE of the test dataset for alfa-romero:\",\n",
        "      model_tf.evaluate(X_alfa_romero_std, Y_alfa_romero_std, verbose = 0))\n",
        "print(\"MSE of the test dataset for audi:\",\n",
        "      model_tf.evaluate(X_audi_std, Y_audi_std, verbose = 0))\n",
        "print(\"MSE of the test dataset for chevrolet:\",\n",
        "      model_tf.evaluate(X_chevrolet_std, Y_chevrolet_std, verbose = 0))\n",
        "print(\"MSE of the test dataset for dodge:\",\n",
        "      model_tf.evaluate(X_dodge_std, Y_dodge_std, verbose = 0))\n",
        "print(\"MSE of the test dataset for honda:\",\n",
        "      model_tf.evaluate(X_honda_std, Y_honda_std, verbose = 0))\n"
      ]
    },
    {
      "cell_type": "code",
      "source": [
        "print(\"2. The model is almost definitely not fair across make. Most\")\n",
        "print(\"importantly, each make is represented at different amounts in the\")\n",
        "print(\"training, validation, and test datasets, which causes the model to\")\n",
        "print(\"train more closely to certain makes than others. This also causes some\")\n",
        "print(\"makes (like dodge) to have no data in the test dataset, which results\")\n",
        "print(\"in the complete inability to calculate its MSE. Even if we did get\")\n",
        "print(\"lucky and dodge were in the test dataset, the model would still not be\")\n",
        "print(\"fair across make as there are simply different numbers of makes in the\")\n",
        "print(\"dataset. For example, if there were 20 datapoints for one particular\")\n",
        "print(\"make and only a single datapoint for another make, the model would\")\n",
        "print(\"clearly not generalize well to that latter make.\")"
      ],
      "metadata": {
        "colab": {
          "base_uri": "https://localhost:8080/"
        },
        "id": "BgQU_C-1zB-l",
        "outputId": "b5092bda-0f74-4ea8-f6ac-fb35a6a240c0"
      },
      "execution_count": null,
      "outputs": [
        {
          "output_type": "stream",
          "name": "stdout",
          "text": [
            "2. The model is almost definitely not fair across make. Most\n",
            "importantly, each make is represented at different amounts in the\n",
            "training, validation, and test datasets, which causes the model to\n",
            "train more closely to certain makes than others. This also causes some\n",
            "makes (like dodge) to have no data in the test dataset, which results\n",
            "in the complete inability to calculate its MSE. Even if we did get\n",
            "lucky and dodge were in the test dataset, the model would still not be\n",
            "fair across make as there are simply different numbers of makes in the\n",
            "dataset. For example, if there were 20 datapoints for one particular\n",
            "make and only a single datapoint for another make, the model would\n",
            "clearly not generalize well to that latter make.\n"
          ]
        }
      ]
    },
    {
      "cell_type": "code",
      "source": [],
      "metadata": {
        "id": "iT_n0zqo3KsT"
      },
      "execution_count": null,
      "outputs": []
    }
  ],
  "metadata": {
    "colab": {
      "provenance": [],
      "toc_visible": true
    },
    "kernelspec": {
      "display_name": "Python 3",
      "name": "python3"
    },
    "language_info": {
      "codemirror_mode": {
        "name": "ipython",
        "version": 3
      },
      "file_extension": ".py",
      "mimetype": "text/x-python",
      "name": "python",
      "nbconvert_exporter": "python",
      "pygments_lexer": "ipython3",
      "version": "3.12.4"
    }
  },
  "nbformat": 4,
  "nbformat_minor": 0
}