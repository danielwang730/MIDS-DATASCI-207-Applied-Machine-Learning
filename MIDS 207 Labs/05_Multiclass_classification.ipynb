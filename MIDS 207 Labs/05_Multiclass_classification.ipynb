{
  "cells": [
    {
      "cell_type": "markdown",
      "id": "67abc16d",
      "metadata": {
        "id": "67abc16d"
      },
      "source": [
        "# Assignment 5"
      ]
    },
    {
      "cell_type": "markdown",
      "id": "5a72deb5",
      "metadata": {
        "id": "5a72deb5"
      },
      "source": [
        "### <span style=\"color:chocolate\"> Submission requirements </span>\n",
        "\n",
        "Your work will not be graded if your notebook doesn't include output. In other words, <span style=\"color:red\"> make sure to rerun your notebook before submitting to Gradescope </span> (Note: if you are using Google Colab: go to Edit > Notebook Settings  and uncheck Omit code cell output when saving this notebook, otherwise the output is not printed).\n",
        "\n",
        "Additional points may be deducted if these requirements are not met:\n",
        "    \n",
        "* Comment your code;\n",
        "* Each graph should have a title, labels for each axis, and (if needed) a legend. Each graph should be understandable on its own;\n",
        "* Try and minimize the use of the global namespace (meaning, keep things inside functions).\n",
        "\n",
        "Additional notes:\n",
        "\n",
        "* Please note that in this assignment, students are expected to work independently. As a result, no two solutions should look identical in terms of coding;\n",
        "* You may import any libraries you need to complete the assignment. However, you must implement the model using TensorFlow (do not use PyTorch);\n",
        "* Follow the same steps/idea as in Assignment 4; the difference here is that you extend a logistic model to more than two classes;\n",
        "* <span style=\"color:chocolate\"> Focus on the execution of the task rather than model performance </span> (this is how the TA will grade your work);\n",
        "* Even though the prediction performance for your chosen outcome is low, it doesn't necessarily mean there is something wrong with your implementation. It could also be that the data is not supportive enough for your prediction task... again, focus on the learning opportunity and not the numbers you get;\n",
        "* Your instructional team has extensive experience developing and running ML models. Often, we encounter situations where a model doesn't perform well on a predictive task. This can happen due to the nature of the data or the need for significant tweaking of variables to achieve good results;\n",
        "* Do not spend significantly more time on this task than you did on Assignment 4, unless you wish to experiment and learn more.\n",
        "---"
      ]
    },
    {
      "cell_type": "markdown",
      "id": "52b6df70",
      "metadata": {
        "id": "52b6df70"
      },
      "source": [
        "``Objective``\n",
        "* Perform multiclass classification using logistic regression. <span style=\"color:chocolate\"> You will choose the outcome of interest. </span>\n",
        "\n",
        "``Motivation``\n",
        "* Chocolate is one of the most popular candies in the world. Each year, residents of the United States collectively eat more than 2.8 billions pounds (Source: Kaggle). However, not all chocolate bars are created equal! In this assignment, you will have the opportunity to delve into the world of chocolate by choosing your own machine learning task.\n",
        "\n",
        "\n",
        "``Data``\n",
        "\n",
        "* The [Chocolate Bar dataset](https://www.kaggle.com/datasets/rtatman/chocolate-bar-ratings) contains expert ratings of 1,795 individual chocolate bars, along with information on their regional origin, percentage of cocoa, the variety of chocolate bean used and where the beans were grown (Source: Kaggle)."
      ]
    },
    {
      "cell_type": "markdown",
      "id": "b999fc96",
      "metadata": {
        "id": "b999fc96"
      },
      "source": [
        "### Import libraries"
      ]
    },
    {
      "cell_type": "code",
      "source": [
        "!pip install keras_tuner"
      ],
      "metadata": {
        "colab": {
          "base_uri": "https://localhost:8080/"
        },
        "id": "fHJQMXCXxgSV",
        "outputId": "b66dbc07-cc68-454f-80ea-21d18453332f"
      },
      "id": "fHJQMXCXxgSV",
      "execution_count": 2,
      "outputs": [
        {
          "output_type": "stream",
          "name": "stdout",
          "text": [
            "Requirement already satisfied: keras_tuner in /usr/local/lib/python3.11/dist-packages (1.4.7)\n",
            "Requirement already satisfied: keras in /usr/local/lib/python3.11/dist-packages (from keras_tuner) (3.8.0)\n",
            "Requirement already satisfied: packaging in /usr/local/lib/python3.11/dist-packages (from keras_tuner) (24.2)\n",
            "Requirement already satisfied: requests in /usr/local/lib/python3.11/dist-packages (from keras_tuner) (2.32.3)\n",
            "Requirement already satisfied: kt-legacy in /usr/local/lib/python3.11/dist-packages (from keras_tuner) (1.0.5)\n",
            "Requirement already satisfied: absl-py in /usr/local/lib/python3.11/dist-packages (from keras->keras_tuner) (1.4.0)\n",
            "Requirement already satisfied: numpy in /usr/local/lib/python3.11/dist-packages (from keras->keras_tuner) (1.26.4)\n",
            "Requirement already satisfied: rich in /usr/local/lib/python3.11/dist-packages (from keras->keras_tuner) (13.9.4)\n",
            "Requirement already satisfied: namex in /usr/local/lib/python3.11/dist-packages (from keras->keras_tuner) (0.0.8)\n",
            "Requirement already satisfied: h5py in /usr/local/lib/python3.11/dist-packages (from keras->keras_tuner) (3.12.1)\n",
            "Requirement already satisfied: optree in /usr/local/lib/python3.11/dist-packages (from keras->keras_tuner) (0.14.0)\n",
            "Requirement already satisfied: ml-dtypes in /usr/local/lib/python3.11/dist-packages (from keras->keras_tuner) (0.4.1)\n",
            "Requirement already satisfied: charset-normalizer<4,>=2 in /usr/local/lib/python3.11/dist-packages (from requests->keras_tuner) (3.4.1)\n",
            "Requirement already satisfied: idna<4,>=2.5 in /usr/local/lib/python3.11/dist-packages (from requests->keras_tuner) (3.10)\n",
            "Requirement already satisfied: urllib3<3,>=1.21.1 in /usr/local/lib/python3.11/dist-packages (from requests->keras_tuner) (2.3.0)\n",
            "Requirement already satisfied: certifi>=2017.4.17 in /usr/local/lib/python3.11/dist-packages (from requests->keras_tuner) (2025.1.31)\n",
            "Requirement already satisfied: typing-extensions>=4.5.0 in /usr/local/lib/python3.11/dist-packages (from optree->keras->keras_tuner) (4.12.2)\n",
            "Requirement already satisfied: markdown-it-py>=2.2.0 in /usr/local/lib/python3.11/dist-packages (from rich->keras->keras_tuner) (3.0.0)\n",
            "Requirement already satisfied: pygments<3.0.0,>=2.13.0 in /usr/local/lib/python3.11/dist-packages (from rich->keras->keras_tuner) (2.18.0)\n",
            "Requirement already satisfied: mdurl~=0.1 in /usr/local/lib/python3.11/dist-packages (from markdown-it-py>=2.2.0->rich->keras->keras_tuner) (0.1.2)\n"
          ]
        }
      ]
    },
    {
      "cell_type": "code",
      "execution_count": 3,
      "id": "ce1be241",
      "metadata": {
        "id": "ce1be241"
      },
      "outputs": [],
      "source": [
        "%reset -f\n",
        "from __future__ import print_function\n",
        "\n",
        "import math\n",
        "import numpy as np\n",
        "import numpy.linalg as nla\n",
        "import pandas as pd\n",
        "import re\n",
        "import six\n",
        "from os.path import join\n",
        "import tensorflow as tf\n",
        "from tensorflow.keras import initializers\n",
        "from matplotlib import pyplot as plt\n",
        "from sklearn.model_selection import train_test_split\n",
        "import keras_tuner as kt\n",
        "from keras_tuner import HyperParameters\n",
        "import keras.backend as K\n",
        "\n",
        "# feel free to import other libraries as needed\n",
        "\n",
        "import warnings\n",
        "warnings.filterwarnings('ignore')"
      ]
    },
    {
      "cell_type": "code",
      "source": [
        "import sklearn.metrics"
      ],
      "metadata": {
        "id": "12WeIsSA_U2K"
      },
      "id": "12WeIsSA_U2K",
      "execution_count": 4,
      "outputs": []
    },
    {
      "cell_type": "markdown",
      "id": "2f44e88f",
      "metadata": {
        "id": "2f44e88f"
      },
      "source": [
        "### Define functions"
      ]
    },
    {
      "cell_type": "code",
      "execution_count": 5,
      "id": "fd91c8a9",
      "metadata": {
        "id": "fd91c8a9"
      },
      "outputs": [],
      "source": [
        "def read_data():\n",
        "    ''''''\n",
        "    # Read data\n",
        "    df = pd.read_csv(\n",
        "        \"https://download.mlcc.google.com/mledu-datasets/flavors_of_cacao.csv\",\n",
        "        sep=\",\",\n",
        "        encoding='latin-1'\n",
        "    )\n",
        "\n",
        "    return df"
      ]
    },
    {
      "cell_type": "code",
      "execution_count": 6,
      "id": "7a182b69",
      "metadata": {
        "id": "7a182b69"
      },
      "outputs": [],
      "source": [
        "def clean_data(df):\n",
        "    ''''''\n",
        "    # Set the output display to have one digit for decimal places and limit it to\n",
        "    # printing 15 rows.\n",
        "    pd.options.display.float_format = '{:.2f}'.format\n",
        "    pd.options.display.max_rows = 15\n",
        "\n",
        "    # Rename the columns.\n",
        "    df.columns = [\n",
        "        'maker', 'specific_origin', 'reference_number',\n",
        "        'review_date', 'cocoa_percent', 'maker_location',\n",
        "        'rating', 'bean_type', 'broad_origin'\n",
        "    ]\n",
        "\n",
        "    # df.dtypes\n",
        "\n",
        "    # Replace empty/null values with \"Blend\"\n",
        "    df['bean_type'] = df['bean_type'].fillna('Blend')\n",
        "\n",
        "    # Cast bean_type to string to remove leading 'u'\n",
        "    df['bean_type'] = df['bean_type'].astype(str)\n",
        "    df['cocoa_percent'] = df['cocoa_percent'].str.strip('%')\n",
        "    df['cocoa_percent'] = pd.to_numeric(df['cocoa_percent'])\n",
        "\n",
        "    # Correct spelling mistakes, and replace city with country name\n",
        "    df['maker_location'] = df['maker_location']\\\n",
        "    .str.replace('Amsterdam', 'Holland')\\\n",
        "    .str.replace('U.K.', 'England')\\\n",
        "    .str.replace('Niacragua', 'Nicaragua')\\\n",
        "    .str.replace('Domincan Republic', 'Dominican Republic')\n",
        "\n",
        "    # Adding this so that Holland and Netherlands map to the same country.\n",
        "    df['maker_location'] = df['maker_location']\\\n",
        "    .str.replace('Holland', 'Netherlands')\n",
        "\n",
        "    def cleanup_spelling_abbrev(text):\n",
        "        replacements = [\n",
        "            ['-', ', '], ['/ ', ', '], ['/', ', '], ['\\(', ', '], [' and', ', '], [' &', ', '], ['\\)', ''],\n",
        "            ['Dom Rep|DR|Domin Rep|Dominican Rep,|Domincan Republic', 'Dominican Republic'],\n",
        "            ['Mad,|Mad$', 'Madagascar, '],\n",
        "            ['PNG', 'Papua New Guinea, '],\n",
        "            ['Guat,|Guat$', 'Guatemala, '],\n",
        "            ['Ven,|Ven$|Venez,|Venez$', 'Venezuela, '],\n",
        "            ['Ecu,|Ecu$|Ecuad,|Ecuad$', 'Ecuador, '],\n",
        "            ['Nic,|Nic$', 'Nicaragua, '],\n",
        "            ['Cost Rica', 'Costa Rica'],\n",
        "            ['Mex,|Mex$', 'Mexico, '],\n",
        "            ['Jam,|Jam$', 'Jamaica, '],\n",
        "            ['Haw,|Haw$', 'Hawaii, '],\n",
        "            ['Gre,|Gre$', 'Grenada, '],\n",
        "            ['Tri,|Tri$', 'Trinidad, '],\n",
        "            ['C Am', 'Central America'],\n",
        "            ['S America', 'South America'],\n",
        "            [', $', ''], [',  ', ', '], [', ,', ', '], ['\\xa0', ' '],[',\\s+', ','],\n",
        "            [' Bali', ',Bali']\n",
        "        ]\n",
        "        for i, j in replacements:\n",
        "            text = re.sub(i, j, text)\n",
        "        return text\n",
        "\n",
        "    df['specific_origin'] = df['specific_origin'].str.replace('.', '').apply(cleanup_spelling_abbrev)\n",
        "\n",
        "    # Cast specific_origin to string\n",
        "    df['specific_origin'] = df['specific_origin'].astype(str)\n",
        "\n",
        "    # Replace null-valued fields with the same value as for specific_origin\n",
        "    df['broad_origin'] = df['broad_origin'].fillna(df['specific_origin'])\n",
        "\n",
        "    # Clean up spelling mistakes and deal with abbreviations\n",
        "    df['broad_origin'] = df['broad_origin'].str.replace('.', '').apply(cleanup_spelling_abbrev)\n",
        "\n",
        "    # Change 'Trinitario, Criollo' to \"Criollo, Trinitario\"\n",
        "    # Check with df['bean_type'].unique()\n",
        "    df.loc[df['bean_type'].isin(['Trinitario, Criollo']),'bean_type'] = \"Criollo, Trinitario\"\n",
        "    # Confirm with df[df['bean_type'].isin(['Trinitario, Criollo'])]\n",
        "\n",
        "    # Fix chocolate maker names\n",
        "    df.loc[df['maker']=='Shattel','maker'] = 'Shattell'\n",
        "    df['maker'] = df['maker'].str.replace(u'Na\\xef\\xbf\\xbdve','Naive')\n",
        "\n",
        "    return df"
      ]
    },
    {
      "cell_type": "markdown",
      "id": "389425c1",
      "metadata": {
        "id": "389425c1"
      },
      "source": [
        "---\n",
        "### Step 1: Data ingestion"
      ]
    },
    {
      "cell_type": "markdown",
      "id": "b454bc04",
      "metadata": {
        "id": "b454bc04"
      },
      "source": [
        "First, we'll initiate the process of discovering the chocolate world by loading the data. Then, to assist with this assignment, we'll start by tidying up the data a little bit. This involves renaming columns and conducting some string preprocessing tasks, which will be handled by the <span style=\"color:chocolate\">clean_data()</span> function mentioned earlier."
      ]
    },
    {
      "cell_type": "code",
      "execution_count": 7,
      "id": "48857a26",
      "metadata": {
        "colab": {
          "base_uri": "https://localhost:8080/",
          "height": 224
        },
        "id": "48857a26",
        "outputId": "bb8346ec-84ae-4b78-f2c2-5efe669b090a"
      },
      "outputs": [
        {
          "output_type": "stream",
          "name": "stdout",
          "text": [
            "Shape of data (1795, 9)\n"
          ]
        },
        {
          "output_type": "execute_result",
          "data": {
            "text/plain": [
              "      maker specific_origin  reference_number  review_date  cocoa_percent  \\\n",
              "0  A. Morin     Agua Grande              1876         2016          63.00   \n",
              "1  A. Morin           Kpime              1676         2015          70.00   \n",
              "2  A. Morin          Atsane              1676         2015          70.00   \n",
              "3  A. Morin           Akata              1680         2015          70.00   \n",
              "4  A. Morin          Quilla              1704         2015          70.00   \n",
              "\n",
              "  maker_location  rating bean_type broad_origin  \n",
              "0         France    3.75     Blend     Sao Tome  \n",
              "1         France    2.75     Blend         Togo  \n",
              "2         France    3.00     Blend         Togo  \n",
              "3         France    3.50     Blend         Togo  \n",
              "4         France    3.50     Blend         Peru  "
            ],
            "text/html": [
              "\n",
              "  <div id=\"df-0db45e5b-da9e-43b4-ae6c-645dde7e9966\" class=\"colab-df-container\">\n",
              "    <div>\n",
              "<style scoped>\n",
              "    .dataframe tbody tr th:only-of-type {\n",
              "        vertical-align: middle;\n",
              "    }\n",
              "\n",
              "    .dataframe tbody tr th {\n",
              "        vertical-align: top;\n",
              "    }\n",
              "\n",
              "    .dataframe thead th {\n",
              "        text-align: right;\n",
              "    }\n",
              "</style>\n",
              "<table border=\"1\" class=\"dataframe\">\n",
              "  <thead>\n",
              "    <tr style=\"text-align: right;\">\n",
              "      <th></th>\n",
              "      <th>maker</th>\n",
              "      <th>specific_origin</th>\n",
              "      <th>reference_number</th>\n",
              "      <th>review_date</th>\n",
              "      <th>cocoa_percent</th>\n",
              "      <th>maker_location</th>\n",
              "      <th>rating</th>\n",
              "      <th>bean_type</th>\n",
              "      <th>broad_origin</th>\n",
              "    </tr>\n",
              "  </thead>\n",
              "  <tbody>\n",
              "    <tr>\n",
              "      <th>0</th>\n",
              "      <td>A. Morin</td>\n",
              "      <td>Agua Grande</td>\n",
              "      <td>1876</td>\n",
              "      <td>2016</td>\n",
              "      <td>63.00</td>\n",
              "      <td>France</td>\n",
              "      <td>3.75</td>\n",
              "      <td>Blend</td>\n",
              "      <td>Sao Tome</td>\n",
              "    </tr>\n",
              "    <tr>\n",
              "      <th>1</th>\n",
              "      <td>A. Morin</td>\n",
              "      <td>Kpime</td>\n",
              "      <td>1676</td>\n",
              "      <td>2015</td>\n",
              "      <td>70.00</td>\n",
              "      <td>France</td>\n",
              "      <td>2.75</td>\n",
              "      <td>Blend</td>\n",
              "      <td>Togo</td>\n",
              "    </tr>\n",
              "    <tr>\n",
              "      <th>2</th>\n",
              "      <td>A. Morin</td>\n",
              "      <td>Atsane</td>\n",
              "      <td>1676</td>\n",
              "      <td>2015</td>\n",
              "      <td>70.00</td>\n",
              "      <td>France</td>\n",
              "      <td>3.00</td>\n",
              "      <td>Blend</td>\n",
              "      <td>Togo</td>\n",
              "    </tr>\n",
              "    <tr>\n",
              "      <th>3</th>\n",
              "      <td>A. Morin</td>\n",
              "      <td>Akata</td>\n",
              "      <td>1680</td>\n",
              "      <td>2015</td>\n",
              "      <td>70.00</td>\n",
              "      <td>France</td>\n",
              "      <td>3.50</td>\n",
              "      <td>Blend</td>\n",
              "      <td>Togo</td>\n",
              "    </tr>\n",
              "    <tr>\n",
              "      <th>4</th>\n",
              "      <td>A. Morin</td>\n",
              "      <td>Quilla</td>\n",
              "      <td>1704</td>\n",
              "      <td>2015</td>\n",
              "      <td>70.00</td>\n",
              "      <td>France</td>\n",
              "      <td>3.50</td>\n",
              "      <td>Blend</td>\n",
              "      <td>Peru</td>\n",
              "    </tr>\n",
              "  </tbody>\n",
              "</table>\n",
              "</div>\n",
              "    <div class=\"colab-df-buttons\">\n",
              "\n",
              "  <div class=\"colab-df-container\">\n",
              "    <button class=\"colab-df-convert\" onclick=\"convertToInteractive('df-0db45e5b-da9e-43b4-ae6c-645dde7e9966')\"\n",
              "            title=\"Convert this dataframe to an interactive table.\"\n",
              "            style=\"display:none;\">\n",
              "\n",
              "  <svg xmlns=\"http://www.w3.org/2000/svg\" height=\"24px\" viewBox=\"0 -960 960 960\">\n",
              "    <path d=\"M120-120v-720h720v720H120Zm60-500h600v-160H180v160Zm220 220h160v-160H400v160Zm0 220h160v-160H400v160ZM180-400h160v-160H180v160Zm440 0h160v-160H620v160ZM180-180h160v-160H180v160Zm440 0h160v-160H620v160Z\"/>\n",
              "  </svg>\n",
              "    </button>\n",
              "\n",
              "  <style>\n",
              "    .colab-df-container {\n",
              "      display:flex;\n",
              "      gap: 12px;\n",
              "    }\n",
              "\n",
              "    .colab-df-convert {\n",
              "      background-color: #E8F0FE;\n",
              "      border: none;\n",
              "      border-radius: 50%;\n",
              "      cursor: pointer;\n",
              "      display: none;\n",
              "      fill: #1967D2;\n",
              "      height: 32px;\n",
              "      padding: 0 0 0 0;\n",
              "      width: 32px;\n",
              "    }\n",
              "\n",
              "    .colab-df-convert:hover {\n",
              "      background-color: #E2EBFA;\n",
              "      box-shadow: 0px 1px 2px rgba(60, 64, 67, 0.3), 0px 1px 3px 1px rgba(60, 64, 67, 0.15);\n",
              "      fill: #174EA6;\n",
              "    }\n",
              "\n",
              "    .colab-df-buttons div {\n",
              "      margin-bottom: 4px;\n",
              "    }\n",
              "\n",
              "    [theme=dark] .colab-df-convert {\n",
              "      background-color: #3B4455;\n",
              "      fill: #D2E3FC;\n",
              "    }\n",
              "\n",
              "    [theme=dark] .colab-df-convert:hover {\n",
              "      background-color: #434B5C;\n",
              "      box-shadow: 0px 1px 3px 1px rgba(0, 0, 0, 0.15);\n",
              "      filter: drop-shadow(0px 1px 2px rgba(0, 0, 0, 0.3));\n",
              "      fill: #FFFFFF;\n",
              "    }\n",
              "  </style>\n",
              "\n",
              "    <script>\n",
              "      const buttonEl =\n",
              "        document.querySelector('#df-0db45e5b-da9e-43b4-ae6c-645dde7e9966 button.colab-df-convert');\n",
              "      buttonEl.style.display =\n",
              "        google.colab.kernel.accessAllowed ? 'block' : 'none';\n",
              "\n",
              "      async function convertToInteractive(key) {\n",
              "        const element = document.querySelector('#df-0db45e5b-da9e-43b4-ae6c-645dde7e9966');\n",
              "        const dataTable =\n",
              "          await google.colab.kernel.invokeFunction('convertToInteractive',\n",
              "                                                    [key], {});\n",
              "        if (!dataTable) return;\n",
              "\n",
              "        const docLinkHtml = 'Like what you see? Visit the ' +\n",
              "          '<a target=\"_blank\" href=https://colab.research.google.com/notebooks/data_table.ipynb>data table notebook</a>'\n",
              "          + ' to learn more about interactive tables.';\n",
              "        element.innerHTML = '';\n",
              "        dataTable['output_type'] = 'display_data';\n",
              "        await google.colab.output.renderOutput(dataTable, element);\n",
              "        const docLink = document.createElement('div');\n",
              "        docLink.innerHTML = docLinkHtml;\n",
              "        element.appendChild(docLink);\n",
              "      }\n",
              "    </script>\n",
              "  </div>\n",
              "\n",
              "\n",
              "<div id=\"df-1951db1c-247f-45ff-abf8-44a1b1ea9491\">\n",
              "  <button class=\"colab-df-quickchart\" onclick=\"quickchart('df-1951db1c-247f-45ff-abf8-44a1b1ea9491')\"\n",
              "            title=\"Suggest charts\"\n",
              "            style=\"display:none;\">\n",
              "\n",
              "<svg xmlns=\"http://www.w3.org/2000/svg\" height=\"24px\"viewBox=\"0 0 24 24\"\n",
              "     width=\"24px\">\n",
              "    <g>\n",
              "        <path d=\"M19 3H5c-1.1 0-2 .9-2 2v14c0 1.1.9 2 2 2h14c1.1 0 2-.9 2-2V5c0-1.1-.9-2-2-2zM9 17H7v-7h2v7zm4 0h-2V7h2v10zm4 0h-2v-4h2v4z\"/>\n",
              "    </g>\n",
              "</svg>\n",
              "  </button>\n",
              "\n",
              "<style>\n",
              "  .colab-df-quickchart {\n",
              "      --bg-color: #E8F0FE;\n",
              "      --fill-color: #1967D2;\n",
              "      --hover-bg-color: #E2EBFA;\n",
              "      --hover-fill-color: #174EA6;\n",
              "      --disabled-fill-color: #AAA;\n",
              "      --disabled-bg-color: #DDD;\n",
              "  }\n",
              "\n",
              "  [theme=dark] .colab-df-quickchart {\n",
              "      --bg-color: #3B4455;\n",
              "      --fill-color: #D2E3FC;\n",
              "      --hover-bg-color: #434B5C;\n",
              "      --hover-fill-color: #FFFFFF;\n",
              "      --disabled-bg-color: #3B4455;\n",
              "      --disabled-fill-color: #666;\n",
              "  }\n",
              "\n",
              "  .colab-df-quickchart {\n",
              "    background-color: var(--bg-color);\n",
              "    border: none;\n",
              "    border-radius: 50%;\n",
              "    cursor: pointer;\n",
              "    display: none;\n",
              "    fill: var(--fill-color);\n",
              "    height: 32px;\n",
              "    padding: 0;\n",
              "    width: 32px;\n",
              "  }\n",
              "\n",
              "  .colab-df-quickchart:hover {\n",
              "    background-color: var(--hover-bg-color);\n",
              "    box-shadow: 0 1px 2px rgba(60, 64, 67, 0.3), 0 1px 3px 1px rgba(60, 64, 67, 0.15);\n",
              "    fill: var(--button-hover-fill-color);\n",
              "  }\n",
              "\n",
              "  .colab-df-quickchart-complete:disabled,\n",
              "  .colab-df-quickchart-complete:disabled:hover {\n",
              "    background-color: var(--disabled-bg-color);\n",
              "    fill: var(--disabled-fill-color);\n",
              "    box-shadow: none;\n",
              "  }\n",
              "\n",
              "  .colab-df-spinner {\n",
              "    border: 2px solid var(--fill-color);\n",
              "    border-color: transparent;\n",
              "    border-bottom-color: var(--fill-color);\n",
              "    animation:\n",
              "      spin 1s steps(1) infinite;\n",
              "  }\n",
              "\n",
              "  @keyframes spin {\n",
              "    0% {\n",
              "      border-color: transparent;\n",
              "      border-bottom-color: var(--fill-color);\n",
              "      border-left-color: var(--fill-color);\n",
              "    }\n",
              "    20% {\n",
              "      border-color: transparent;\n",
              "      border-left-color: var(--fill-color);\n",
              "      border-top-color: var(--fill-color);\n",
              "    }\n",
              "    30% {\n",
              "      border-color: transparent;\n",
              "      border-left-color: var(--fill-color);\n",
              "      border-top-color: var(--fill-color);\n",
              "      border-right-color: var(--fill-color);\n",
              "    }\n",
              "    40% {\n",
              "      border-color: transparent;\n",
              "      border-right-color: var(--fill-color);\n",
              "      border-top-color: var(--fill-color);\n",
              "    }\n",
              "    60% {\n",
              "      border-color: transparent;\n",
              "      border-right-color: var(--fill-color);\n",
              "    }\n",
              "    80% {\n",
              "      border-color: transparent;\n",
              "      border-right-color: var(--fill-color);\n",
              "      border-bottom-color: var(--fill-color);\n",
              "    }\n",
              "    90% {\n",
              "      border-color: transparent;\n",
              "      border-bottom-color: var(--fill-color);\n",
              "    }\n",
              "  }\n",
              "</style>\n",
              "\n",
              "  <script>\n",
              "    async function quickchart(key) {\n",
              "      const quickchartButtonEl =\n",
              "        document.querySelector('#' + key + ' button');\n",
              "      quickchartButtonEl.disabled = true;  // To prevent multiple clicks.\n",
              "      quickchartButtonEl.classList.add('colab-df-spinner');\n",
              "      try {\n",
              "        const charts = await google.colab.kernel.invokeFunction(\n",
              "            'suggestCharts', [key], {});\n",
              "      } catch (error) {\n",
              "        console.error('Error during call to suggestCharts:', error);\n",
              "      }\n",
              "      quickchartButtonEl.classList.remove('colab-df-spinner');\n",
              "      quickchartButtonEl.classList.add('colab-df-quickchart-complete');\n",
              "    }\n",
              "    (() => {\n",
              "      let quickchartButtonEl =\n",
              "        document.querySelector('#df-1951db1c-247f-45ff-abf8-44a1b1ea9491 button');\n",
              "      quickchartButtonEl.style.display =\n",
              "        google.colab.kernel.accessAllowed ? 'block' : 'none';\n",
              "    })();\n",
              "  </script>\n",
              "</div>\n",
              "\n",
              "    </div>\n",
              "  </div>\n"
            ],
            "application/vnd.google.colaboratory.intrinsic+json": {
              "type": "dataframe",
              "variable_name": "df",
              "summary": "{\n  \"name\": \"df\",\n  \"rows\": 1795,\n  \"fields\": [\n    {\n      \"column\": \"maker\",\n      \"properties\": {\n        \"dtype\": \"category\",\n        \"num_unique_values\": 414,\n        \"samples\": [\n          \"Spencer\",\n          \"Sol Cacao\",\n          \"Taza\"\n        ],\n        \"semantic_type\": \"\",\n        \"description\": \"\"\n      }\n    },\n    {\n      \"column\": \"specific_origin\",\n      \"properties\": {\n        \"dtype\": \"string\",\n        \"num_unique_values\": 1038,\n        \"samples\": [\n          \"Patanemo\",\n          \"Madagascar,lot M0403R\",\n          \"Satipo region,white label\"\n        ],\n        \"semantic_type\": \"\",\n        \"description\": \"\"\n      }\n    },\n    {\n      \"column\": \"reference_number\",\n      \"properties\": {\n        \"dtype\": \"number\",\n        \"std\": 552,\n        \"min\": 5,\n        \"max\": 1952,\n        \"num_unique_values\": 440,\n        \"samples\": [\n          135,\n          995,\n          1363\n        ],\n        \"semantic_type\": \"\",\n        \"description\": \"\"\n      }\n    },\n    {\n      \"column\": \"review_date\",\n      \"properties\": {\n        \"dtype\": \"number\",\n        \"std\": 2,\n        \"min\": 2006,\n        \"max\": 2017,\n        \"num_unique_values\": 12,\n        \"samples\": [\n          2007,\n          2008,\n          2016\n        ],\n        \"semantic_type\": \"\",\n        \"description\": \"\"\n      }\n    },\n    {\n      \"column\": \"cocoa_percent\",\n      \"properties\": {\n        \"dtype\": \"number\",\n        \"std\": 6.323118338429146,\n        \"min\": 42.0,\n        \"max\": 100.0,\n        \"num_unique_values\": 45,\n        \"samples\": [\n          46.0,\n          69.0,\n          91.0\n        ],\n        \"semantic_type\": \"\",\n        \"description\": \"\"\n      }\n    },\n    {\n      \"column\": \"maker_location\",\n      \"properties\": {\n        \"dtype\": \"category\",\n        \"num_unique_values\": 58,\n        \"samples\": [\n          \"France\",\n          \"Switzerland\",\n          \"Singapore\"\n        ],\n        \"semantic_type\": \"\",\n        \"description\": \"\"\n      }\n    },\n    {\n      \"column\": \"rating\",\n      \"properties\": {\n        \"dtype\": \"number\",\n        \"std\": 0.4780623935863263,\n        \"min\": 1.0,\n        \"max\": 5.0,\n        \"num_unique_values\": 13,\n        \"samples\": [\n          2.0,\n          1.5,\n          3.75\n        ],\n        \"semantic_type\": \"\",\n        \"description\": \"\"\n      }\n    },\n    {\n      \"column\": \"bean_type\",\n      \"properties\": {\n        \"dtype\": \"category\",\n        \"num_unique_values\": 39,\n        \"samples\": [\n          \"Forastero, Trinitario\",\n          \"Trinitario (Amelonado)\",\n          \"Forastero\"\n        ],\n        \"semantic_type\": \"\",\n        \"description\": \"\"\n      }\n    },\n    {\n      \"column\": \"broad_origin\",\n      \"properties\": {\n        \"dtype\": \"category\",\n        \"num_unique_values\": 160,\n        \"samples\": [\n          \"Peru,Madagascar,Dominican Republic\",\n          \"El Salvador\",\n          \"Dominican Republic,Madagascar\"\n        ],\n        \"semantic_type\": \"\",\n        \"description\": \"\"\n      }\n    }\n  ]\n}"
            }
          },
          "metadata": {},
          "execution_count": 7
        }
      ],
      "source": [
        "df = clean_data(read_data())\n",
        "print('Shape of data', df.shape)\n",
        "df.head()"
      ]
    },
    {
      "cell_type": "markdown",
      "id": "5c3be38f",
      "metadata": {
        "id": "5c3be38f"
      },
      "source": [
        "### <span style=\"color:chocolate\">Exercise 1:</span> Getting to know the data (5 points)"
      ]
    },
    {
      "cell_type": "markdown",
      "id": "ed93cfb1",
      "metadata": {
        "id": "ed93cfb1"
      },
      "source": [
        "Answer the following questions:\n",
        "    \n",
        "1. How many columns does the dataset contain?\n",
        "2. How many rows are there in the dataset?\n",
        "3. What are the column names?\n",
        "4. List the number of unique values for each column in the data;\n",
        "5. What are the unique cocoa_percent values?"
      ]
    },
    {
      "cell_type": "code",
      "execution_count": 8,
      "id": "2fa25981",
      "metadata": {
        "colab": {
          "base_uri": "https://localhost:8080/"
        },
        "id": "2fa25981",
        "outputId": "c9ea2b78-a008-47f4-db06-3b034b0f242b"
      },
      "outputs": [
        {
          "output_type": "stream",
          "name": "stdout",
          "text": [
            "1. Number of columns in dataset: 9\n",
            "\n",
            "2. Number of rows in dataset: 1795\n",
            "\n",
            "3. Column names:\n",
            "Index(['maker', 'specific_origin', 'reference_number', 'review_date',\n",
            "       'cocoa_percent', 'maker_location', 'rating', 'bean_type',\n",
            "       'broad_origin'],\n",
            "      dtype='object')\n",
            "\n",
            "4. Number of unique values for each column:\n",
            "maker                414\n",
            "specific_origin     1038\n",
            "reference_number     440\n",
            "review_date           12\n",
            "cocoa_percent         45\n",
            "maker_location        58\n",
            "rating                13\n",
            "bean_type             39\n",
            "broad_origin         160\n",
            "dtype: int64\n",
            "\n",
            "5. Unique cocoa_percent values:\n",
            "[ 63.   70.   60.   80.   88.   72.   55.   75.   65.   85.   73.   64.\n",
            "  66.   68.   50.  100.   77.   90.   71.   83.   78.   74.   76.   86.\n",
            "  82.   69.   91.   42.   61.   73.5  62.   67.   58.   60.5  79.   81.\n",
            "  57.   72.5  56.   46.   89.   99.   84.   53.   87. ]\n"
          ]
        }
      ],
      "source": [
        "# YOUR CODE HERE\n",
        "\n",
        "print(\"1. Number of columns in dataset:\", len(df.columns))\n",
        "print(\"\\n2. Number of rows in dataset:\", len(df))\n",
        "print(\"\\n3. Column names:\")\n",
        "print(df.columns)\n",
        "print(\"\\n4. Number of unique values for each column:\")\n",
        "print(df.nunique(axis=0))\n",
        "print(\"\\n5. Unique cocoa_percent values:\")\n",
        "print(df[\"cocoa_percent\"].unique())"
      ]
    },
    {
      "cell_type": "markdown",
      "id": "2deb7815",
      "metadata": {
        "id": "2deb7815"
      },
      "source": [
        "### <span style=\"color:chocolate\">Exercise 2:</span> Choosing the prediction task (5 points)"
      ]
    },
    {
      "cell_type": "markdown",
      "id": "858aaf43",
      "metadata": {
        "id": "858aaf43"
      },
      "source": [
        "Now that you’ve explored the data, choose a multiclass outcome (anything except \"ratings\") that you’re interested in predicting. Note: The outcome should have <span style=\"color:chocolate\">at least 3 classes</span>!\n",
        "\n",
        "If your chosen outcome variable requires preprocessing, go ahead and handle that below. For instance, you might choose to predict \"cocoa_percent\". Discretizing it into \"0=low,\" \"1=medium,\" and \"2=high\" makes it easier to work with/interpret the results."
      ]
    },
    {
      "cell_type": "markdown",
      "id": "97c9b3e0",
      "metadata": {
        "id": "97c9b3e0"
      },
      "source": [
        "Your answer here:"
      ]
    },
    {
      "cell_type": "code",
      "execution_count": 9,
      "id": "63cf0526-3e99-4a59-ade9-d5935f41a035",
      "metadata": {
        "colab": {
          "base_uri": "https://localhost:8080/"
        },
        "id": "63cf0526-3e99-4a59-ade9-d5935f41a035",
        "outputId": "57db8e50-3d56-4a1e-9f5a-15f30bf3307f"
      },
      "outputs": [
        {
          "output_type": "stream",
          "name": "stdout",
          "text": [
            "Choosing bean_type as multiclass outcome variable:\n",
            "['Blend' 'Criollo' 'Trinitario' 'Forastero (Arriba)' 'Forastero'\n",
            " 'Forastero (Nacional)' 'Criollo, Trinitario' 'Criollo (Porcelana)'\n",
            " 'Trinitario (85% Criollo)' 'Forastero (Catongo)' 'Forastero (Parazinho)'\n",
            " 'CCN51' 'Criollo (Ocumare)' 'Nacional' 'Criollo (Ocumare 61)'\n",
            " 'Criollo (Ocumare 77)' 'Criollo (Ocumare 67)' 'Criollo (Wild)' 'Beniano'\n",
            " 'Amazon mix' 'Trinitario, Forastero' 'Forastero (Arriba) ASS'\n",
            " 'Criollo, +' 'Amazon' 'Amazon, ICS' 'EET' 'Blend-Forastero,Criollo'\n",
            " 'Trinitario (Scavina)' 'Criollo, Forastero' 'Matina'\n",
            " 'Forastero(Arriba, CCN)' 'Nacional (Arriba)' 'Forastero (Arriba) ASSS'\n",
            " 'Forastero, Trinitario' 'Forastero (Amelonado)' 'Trinitario, Nacional'\n",
            " 'Trinitario (Amelonado)' 'Trinitario, TCGA' 'Criollo (Amarru)']\n",
            "\n",
            "Printing bt_class (\"bean type\" class) outcome variables:\n",
            "[ 0  1  2  3  4  5  6  7  8  9 10 11 12 13 14 15 16 17 18 19 20 21 22 23\n",
            " 24 25 26 27 28 29 30 31 32 33 34 35 36 37 38]\n"
          ]
        }
      ],
      "source": [
        "# YOUR CODE HERE\n",
        "\n",
        "# Choosing bean_type as a multiclass outcome variable\n",
        "print(\"Choosing bean_type as multiclass outcome variable:\")\n",
        "print(df[\"bean_type\"].unique())\n",
        "\n",
        "# Recoding class labels (starting from 0)\n",
        "class_mapping = {label: idx for idx, label in enumerate(df[\"bean_type\"].unique())}\n",
        "\n",
        "# Creating a new column for bean_type class (called \"bt_class\") with those numbers\n",
        "df[\"bt_class\"] = df[\"bean_type\"].map(class_mapping)\n",
        "\n",
        "# Checking bt_class:\n",
        "print(\"\\nPrinting bt_class (\\\"bean type\\\" class) outcome variables:\")\n",
        "print(df[\"bt_class\"].unique())"
      ]
    },
    {
      "cell_type": "code",
      "source": [
        "# Analyzing the value counts in each class for bt_class\n",
        "\n",
        "# Printing the value counts of each class in bt_class\n",
        "print(df[\"bt_class\"].value_counts(), '\\n')\n",
        "\n",
        "print(\"We see that many of the classes in bean_type have only one observation\")\n",
        "print(\"associated with them, which is slightly problematic for 2 reasons.\")\n",
        "print(\"Firstly, our model likely wouldn't generalize well to those results, as\")\n",
        "print(\"there is so little data pointing to those minority classes. Secondly,\")\n",
        "print(\"this will interfere with the machine learning, as the model assumes\")\n",
        "print(\"that the class sizes are roughly equal. Therefore, to improve the\")\n",
        "print(\"efficacy of our model, we can set a threshold of observations that each\")\n",
        "print(\"chosen class must meet.\\n\")"
      ],
      "metadata": {
        "colab": {
          "base_uri": "https://localhost:8080/"
        },
        "id": "YE0GrI7cMXLf",
        "outputId": "bfee7f0d-401c-4276-f663-a86ab1358fcc"
      },
      "id": "YE0GrI7cMXLf",
      "execution_count": 10,
      "outputs": [
        {
          "output_type": "stream",
          "name": "stdout",
          "text": [
            "bt_class\n",
            "0     929\n",
            "2     419\n",
            "1     153\n",
            "4      87\n",
            "5      52\n",
            "     ... \n",
            "12      1\n",
            "23      1\n",
            "22      1\n",
            "15      1\n",
            "11      1\n",
            "Name: count, Length: 39, dtype: int64 \n",
            "\n",
            "We see that many of the classes in bean_type have only one observation\n",
            "associated with them, which is slightly problematic for 2 reasons.\n",
            "Firstly, our model likely wouldn't generalize well to those results, as\n",
            "there is so little data pointing to those minority classes. Secondly,\n",
            "this will interfere with the machine learning, as the model assumes\n",
            "that the class sizes are roughly equal. Therefore, to improve the\n",
            "efficacy of our model, we can set a threshold of observations that each\n",
            "chosen class must meet.\n",
            "\n"
          ]
        }
      ]
    },
    {
      "cell_type": "code",
      "source": [
        "# Choosing a threshold of observations that each class must meet\n",
        "\n",
        "print(df[\"bt_class\"].value_counts()[:15], '\\n')\n",
        "\n",
        "print(\"Looking at the first 15 results, we see a somewhat large dropoff in the\")\n",
        "print(\"count of classes from bt_class 3 to 7. Therefore, setting a threshold\")\n",
        "print(\"somewhere between those 2 values (e.g., 20 observations minimum), will\")\n",
        "print(\"ensure that only the majority classes above 20 observations will be\")\n",
        "print(\"included in our model.\")"
      ],
      "metadata": {
        "colab": {
          "base_uri": "https://localhost:8080/"
        },
        "id": "_v9oANB2Mj6J",
        "outputId": "30194754-bcac-4501-a450-affe8ffc330c"
      },
      "id": "_v9oANB2Mj6J",
      "execution_count": 11,
      "outputs": [
        {
          "output_type": "stream",
          "name": "stdout",
          "text": [
            "bt_class\n",
            "0     929\n",
            "2     419\n",
            "1     153\n",
            "4      87\n",
            "5      52\n",
            "6      48\n",
            "3      37\n",
            "7      10\n",
            "10      8\n",
            "21      6\n",
            "18      3\n",
            "29      3\n",
            "25      3\n",
            "31      3\n",
            "28      2\n",
            "Name: count, dtype: int64 \n",
            "\n",
            "Looking at the first 15 results, we see a somewhat large dropoff in the\n",
            "count of classes from bt_class 3 to 7. Therefore, setting a threshold\n",
            "somewhere between those 2 values (e.g., 20 observations minimum), will\n",
            "ensure that only the majority classes above 20 observations will be\n",
            "included in our model.\n"
          ]
        }
      ]
    },
    {
      "cell_type": "code",
      "source": [
        "# Getting the top classes with the most observations\n",
        "over_20_obs = df[\"bt_class\"].value_counts() >= 20\n",
        "over_20_obs = over_20_obs[over_20_obs]\n",
        "\n",
        "# Creating cleaned dataframe with only observations greater than 20\n",
        "df_clean = df[df[\"bt_class\"].isin(over_20_obs.index)]\n",
        "\n",
        "# Confirming the value_counts\n",
        "print(df_clean[\"bt_class\"].value_counts(), '\\n')\n",
        "\n",
        "print(\"We now have 7 classes that we can analyze, though we notice the other\")\n",
        "print(\"problem of our majority class having more observations than all the\")\n",
        "print(\"other classes combined. We can solve this by undersampling all classes\")\n",
        "print(\"so that they have the same number of observations as the minority class\")\n",
        "print(\"(class 3), and making sure that the observations are randomly selected.\")"
      ],
      "metadata": {
        "colab": {
          "base_uri": "https://localhost:8080/"
        },
        "id": "Hkb_wRAcNZ-W",
        "outputId": "697df637-8bc1-4d8c-f0ff-8fe986feac82"
      },
      "id": "Hkb_wRAcNZ-W",
      "execution_count": 12,
      "outputs": [
        {
          "output_type": "stream",
          "name": "stdout",
          "text": [
            "bt_class\n",
            "0    929\n",
            "2    419\n",
            "1    153\n",
            "4     87\n",
            "5     52\n",
            "6     48\n",
            "3     37\n",
            "Name: count, dtype: int64 \n",
            "\n",
            "We now have 7 classes that we can analyze, though we notice the other\n",
            "problem of our majority class having more observations than all the\n",
            "other classes combined. We can solve this by undersampling all classes\n",
            "so that they have the same number of observations as the minority class\n",
            "(class 3), and making sure that the observations are randomly selected.\n"
          ]
        }
      ]
    },
    {
      "cell_type": "code",
      "source": [
        "np.random.seed(0)\n",
        "# Undersampling to get class sizes roughly equal\n",
        "\n",
        "# Getting the minimum observations for bt_class\n",
        "min_obs = min(df_clean[\"bt_class\"].value_counts())\n",
        "\n",
        "# Randomizing the indices, and dropping observations that are over 37\n",
        "for i in range(len(over_20_obs)):\n",
        "  class_indices = df_clean[df_clean[\"bt_class\"] == i].index\n",
        "  class_indices_shuffled = np.random.permutation(class_indices)\n",
        "  class_indices_dropped = class_indices_shuffled[min_obs:]\n",
        "  df_clean = df_clean.drop(class_indices_dropped)\n",
        "\n",
        "# Reindexing df_clean to start from 0\n",
        "df_clean = df_clean.reset_index(drop=True)\n",
        "\n",
        "print(\"Shape of df_clean after undersampling:\", df_clean.shape, '\\n')\n",
        "print(\"Value counts for bt_class after undersampling:\")\n",
        "print(df_clean[\"bt_class\"].value_counts(), '\\n')\n",
        "\n",
        "print(\"Now we have undersampled our data so that they all have the same number\")\n",
        "print(\"of observations. With that done, we can prepare the rest of the\")\n",
        "print(\"features for modeling.\")"
      ],
      "metadata": {
        "colab": {
          "base_uri": "https://localhost:8080/"
        },
        "id": "4dRS4MbNPuH3",
        "outputId": "d5ef7716-58d0-4c9d-b26a-2b0c1d6f2f88"
      },
      "id": "4dRS4MbNPuH3",
      "execution_count": 13,
      "outputs": [
        {
          "output_type": "stream",
          "name": "stdout",
          "text": [
            "Shape of df_clean after undersampling: (259, 10) \n",
            "\n",
            "Value counts for bt_class after undersampling:\n",
            "bt_class\n",
            "1    37\n",
            "0    37\n",
            "2    37\n",
            "3    37\n",
            "5    37\n",
            "6    37\n",
            "4    37\n",
            "Name: count, dtype: int64 \n",
            "\n",
            "Now we have undersampled our data so that they all have the same number\n",
            "of observations. With that done, we can prepare the rest of the\n",
            "features for modeling.\n"
          ]
        }
      ]
    },
    {
      "cell_type": "markdown",
      "id": "50837672",
      "metadata": {
        "id": "50837672"
      },
      "source": [
        "---\n",
        "### Step 2: Data preprocessing"
      ]
    },
    {
      "cell_type": "markdown",
      "id": "0cc6558b",
      "metadata": {
        "id": "0cc6558b"
      },
      "source": [
        "### <span style=\"color:chocolate\">Exercise 3:</span> Prepare data for modeling (20 points)"
      ]
    },
    {
      "cell_type": "markdown",
      "id": "63c5bd4b",
      "metadata": {
        "id": "63c5bd4b"
      },
      "source": [
        "Following the format of previous assignments, adhere to the following steps as a minimum:\n",
        "\n",
        "1. Shuffle the dataset;\n",
        "2. Create training, validation, and test datasets using a 60/20/20 split;\n",
        "3. Identify the features of interest;\n",
        "4. Perform necessary cleaning and standarization on the features."
      ]
    },
    {
      "cell_type": "code",
      "execution_count": 14,
      "id": "f3b6b87b",
      "metadata": {
        "id": "f3b6b87b"
      },
      "outputs": [],
      "source": [
        "# YOUR CODE HERE\n",
        "np.random.seed(0)\n",
        "\n",
        "# 1. Shuffling the dataset\n",
        "indices = np.arange(df_clean.shape[0])\n",
        "shuffled_indices = np.random.permutation(indices)\n",
        "\n",
        "# Reordering df based on the order in shuffled_indices\n",
        "df_clean = df_clean.reindex(shuffled_indices)\n",
        "\n",
        "# Creating df for X and df for Y\n",
        "df_X = df_clean.iloc[:,:-1]\n",
        "df_X = df_X.drop(\"bean_type\", axis = 1) # Dropping bean_type\n",
        "df_Y = df_clean.iloc[:,-1]"
      ]
    },
    {
      "cell_type": "code",
      "source": [
        "# 2. Creating training, validation, and test datasets using a 60/20/20 split\n",
        "X_train, X_test, Y_train, Y_test = train_test_split(df_X, df_Y, test_size = 0.2,\n",
        "  random_state = 1234)\n",
        "X_train, X_val, Y_train, Y_val = train_test_split(X_train, Y_train,\n",
        "  test_size = 0.25, random_state = 1234)\n",
        "\n",
        "print(\"Printing the shape of X_train:\", X_train.shape)\n",
        "print(\"Printing the shape of X_val:\", X_val.shape)\n",
        "print(\"Printing the shape of X_test:\", X_test.shape)\n",
        "print(\"Printing the shape of Y_train:\", Y_train.shape)\n",
        "print(\"Printing the shape of Y_val:\", Y_val.shape)\n",
        "print(\"Printing the shape of Y_test:\", Y_test.shape)"
      ],
      "metadata": {
        "colab": {
          "base_uri": "https://localhost:8080/"
        },
        "id": "F7dHtOcH8WD1",
        "outputId": "5ee0c6e1-73c1-441e-eda4-6a78edf98d4a"
      },
      "id": "F7dHtOcH8WD1",
      "execution_count": 15,
      "outputs": [
        {
          "output_type": "stream",
          "name": "stdout",
          "text": [
            "Printing the shape of X_train: (155, 8)\n",
            "Printing the shape of X_val: (52, 8)\n",
            "Printing the shape of X_test: (52, 8)\n",
            "Printing the shape of Y_train: (155,)\n",
            "Printing the shape of Y_val: (52,)\n",
            "Printing the shape of Y_test: (52,)\n"
          ]
        }
      ]
    },
    {
      "cell_type": "code",
      "source": [
        "# 3. Identifying the features of interest\n",
        "\n",
        "print(\"Getting the unique value counts of X_train\")\n",
        "print(X_train.nunique(), '\\n')\n",
        "\n",
        "print(\"Looking back on the Kaggle website where this dataset was pulled from,\")\n",
        "print(\"there are some features that we can likely exclude for determining the\")\n",
        "print(\"the bean type of a chocolate bar. Specifically, reference_number and\")\n",
        "print(\"review_date are mainly logistical data, and they serve as ways to\")\n",
        "print(\"identify what review was entered into the database and when it was\")\n",
        "print(\"entered. We can likely exclude specific_origin as well, as 1) it seems\")\n",
        "print(\"to be a subset of broad_origin, and 2) examining the unique value\")\n",
        "print(\"counts tells us that many entries have unique specific origins, making\")\n",
        "print(\"making it not very generalizable. The maker feature also suffers from\")\n",
        "print(\"similar issues, as it's very specific, and it could be redundant as we\")\n",
        "print(\"have the maker_location as well. However, I would contend that\")\n",
        "print(\"maker_location might also not be very informative for predicting the\")\n",
        "print(\"bean_type, as that's simply where the chocolate bar itself is\")\n",
        "print(\"manufactured. It might be the case where certain regions only use\")\n",
        "print(\"certain bean types, but that specificity might decrease the\")\n",
        "print(\"generalizability of the model as well.\\n\")\n",
        "\n",
        "print(\"Therefore, the 3 features that we will keep to analyze the bean_type\")\n",
        "print(\"will be cocoa_percent, rating, and broad_origin. The reasoning for each\")\n",
        "print(\"are as follows:\")\n",
        "print(\" - cocoa_percent: likely specific to bean_type, & even if it's blended,\")\n",
        "print(\"it might still give us insight into what type of bean it could be\")\n",
        "print(\" - rating: chocolate bars made with certain bean types will likely have\")\n",
        "print(\"different ratings from those made from other bean types\")\n",
        "print(\" - broad_origin: the broad region where a bean comes from will likely\")\n",
        "print(\"be informative to what the type of the bean is, as certain beans might\")\n",
        "print(\"only grow in certain regions\")"
      ],
      "metadata": {
        "colab": {
          "base_uri": "https://localhost:8080/"
        },
        "id": "Bj8G27gmDvq9",
        "outputId": "fd7a0ff3-89e2-43e0-fa68-bbc0aca50712"
      },
      "id": "Bj8G27gmDvq9",
      "execution_count": 16,
      "outputs": [
        {
          "output_type": "stream",
          "name": "stdout",
          "text": [
            "Getting the unique value counts of X_train\n",
            "maker               104\n",
            "specific_origin     130\n",
            "reference_number    128\n",
            "review_date          12\n",
            "cocoa_percent        24\n",
            "maker_location       24\n",
            "rating               10\n",
            "broad_origin         32\n",
            "dtype: int64 \n",
            "\n",
            "Looking back on the Kaggle website where this dataset was pulled from,\n",
            "there are some features that we can likely exclude for determining the\n",
            "the bean type of a chocolate bar. Specifically, reference_number and\n",
            "review_date are mainly logistical data, and they serve as ways to\n",
            "identify what review was entered into the database and when it was\n",
            "entered. We can likely exclude specific_origin as well, as 1) it seems\n",
            "to be a subset of broad_origin, and 2) examining the unique value\n",
            "counts tells us that many entries have unique specific origins, making\n",
            "making it not very generalizable. The maker feature also suffers from\n",
            "similar issues, as it's very specific, and it could be redundant as we\n",
            "have the maker_location as well. However, I would contend that\n",
            "maker_location might also not be very informative for predicting the\n",
            "bean_type, as that's simply where the chocolate bar itself is\n",
            "manufactured. It might be the case where certain regions only use\n",
            "certain bean types, but that specificity might decrease the\n",
            "generalizability of the model as well.\n",
            "\n",
            "Therefore, the 3 features that we will keep to analyze the bean_type\n",
            "will be cocoa_percent, rating, and broad_origin. The reasoning for each\n",
            "are as follows:\n",
            " - cocoa_percent: likely specific to bean_type, & even if it's blended,\n",
            "it might still give us insight into what type of bean it could be\n",
            " - rating: chocolate bars made with certain bean types will likely have\n",
            "different ratings from those made from other bean types\n",
            " - broad_origin: the broad region where a bean comes from will likely\n",
            "be informative to what the type of the bean is, as certain beans might\n",
            "only grow in certain regions\n"
          ]
        }
      ]
    },
    {
      "cell_type": "code",
      "source": [
        "# 4. Performing necessary cleaning and standardization of features\n",
        "\n",
        "# Only keeping the columns that we're interested in\n",
        "columns_to_keep = ['cocoa_percent', 'rating', 'broad_origin']\n",
        "X_train = X_train[columns_to_keep]\n",
        "X_val = X_val[columns_to_keep]\n",
        "X_test = X_test[columns_to_keep]\n",
        "\n",
        "# Checking to make sure there are no null values in any of the columns\n",
        "print(\"Checking for X_train null values:\")\n",
        "print(X_train.isna().sum(), '\\n')\n",
        "print(\"Checking for X_val null values:\")\n",
        "print(X_val.isna().sum(), '\\n')\n",
        "print(\"Checking for X_test null values:\")\n",
        "print(X_test.isna().sum(), '\\n')\n",
        "\n",
        "# Getting train, val, and test dummy variables for broad_origin\n",
        "broad_origin_train_d = pd.get_dummies(\n",
        "    X_train['broad_origin'],\n",
        "    drop_first = False\n",
        ")\n",
        "broad_origin_val_d = pd.get_dummies(\n",
        "    X_val['broad_origin'],\n",
        "    drop_first = False\n",
        ")\n",
        "broad_origin_test_d = pd.get_dummies(\n",
        "    X_test['broad_origin'],\n",
        "    drop_first = False\n",
        ")\n",
        "print(\"Number of X_train dummy variables:\", X_train['broad_origin'].nunique())\n",
        "print(\"Shape of X_train dummy variable for broad_origin:\",\n",
        "      broad_origin_train_d.shape, '\\n')\n",
        "print(\"Number of X_val dummy variables:\", X_val['broad_origin'].nunique())\n",
        "print(\"Shape of X_val dummy variable for broad_origin:\",\n",
        "      broad_origin_val_d.shape, '\\n')\n",
        "print(\"Number of X_test dummy variables:\", X_test['broad_origin'].nunique())\n",
        "print(\"Shape of X_test dummy variable for broad_origin:\",\n",
        "      broad_origin_test_d.shape, '\\n')\n",
        "\n",
        "# Adding the dummy variables to X_train, X_val, and X_test\n",
        "X_train = pd.concat(\n",
        "    [X_train, broad_origin_train_d],\n",
        "    axis=1\n",
        ")\n",
        "X_val = pd.concat(\n",
        "    [X_val, broad_origin_val_d],\n",
        "    axis=1\n",
        ")\n",
        "X_test = pd.concat(\n",
        "    [X_test, broad_origin_test_d],\n",
        "    axis=1\n",
        ")\n"
      ],
      "metadata": {
        "colab": {
          "base_uri": "https://localhost:8080/"
        },
        "id": "Hjx4r7OZc3Kr",
        "outputId": "ecd6018e-e3f9-40a8-faa1-4c075672eaeb"
      },
      "id": "Hjx4r7OZc3Kr",
      "execution_count": 17,
      "outputs": [
        {
          "output_type": "stream",
          "name": "stdout",
          "text": [
            "Checking for X_train null values:\n",
            "cocoa_percent    0\n",
            "rating           0\n",
            "broad_origin     0\n",
            "dtype: int64 \n",
            "\n",
            "Checking for X_val null values:\n",
            "cocoa_percent    0\n",
            "rating           0\n",
            "broad_origin     0\n",
            "dtype: int64 \n",
            "\n",
            "Checking for X_test null values:\n",
            "cocoa_percent    0\n",
            "rating           0\n",
            "broad_origin     0\n",
            "dtype: int64 \n",
            "\n",
            "Number of X_train dummy variables: 32\n",
            "Shape of X_train dummy variable for broad_origin: (155, 32) \n",
            "\n",
            "Number of X_val dummy variables: 17\n",
            "Shape of X_val dummy variable for broad_origin: (52, 17) \n",
            "\n",
            "Number of X_test dummy variables: 18\n",
            "Shape of X_test dummy variable for broad_origin: (52, 18) \n",
            "\n"
          ]
        }
      ]
    },
    {
      "cell_type": "code",
      "source": [
        "# Reindexing so that val and test datasets have the same columns as the training\n",
        "# dataset (and the excess columns are removed):\n",
        "# https://stackoverflow.com/questions/41335718/keep-same-dummy-variable-in-training-and-testing-data\n",
        "X_val = X_val.reindex(columns = X_train.columns, fill_value=False)\n",
        "X_test = X_test.reindex(columns = X_train.columns, fill_value=False)\n",
        "\n",
        "print(\"Shape of X_train with dummy variables:\", X_train.shape)\n",
        "print(\"Shape of X_val with dummy variables:\", X_val.shape)\n",
        "print(\"Shape of X_test with dummy variables:\", X_test.shape, '\\n')\n",
        "\n",
        "# Adding in out of sample column for val and test broad origins not in X_train\n",
        "X_train[\"out_of_sample\"] = False  # Since all of X_train is inherently in sample\n",
        "X_val[\"out_of_sample\"] = ~X_val.iloc[:,3:].any(axis = 1)\n",
        "X_test[\"out_of_sample\"] = ~X_test.iloc[:,3:].any(axis = 1)\n",
        "\n",
        "print(\"Shape of X_train with out of sample column:\", X_train.shape)\n",
        "print(\"Shape of X_val with out of sample column:\", X_val.shape)\n",
        "print(\"Shape of X_test with out of sample column:\", X_test.shape, '\\n')\n",
        "\n",
        "print(\"Number of broad_origin dummies in X_train that are not in X_train:\",\n",
        "  X_train[\"out_of_sample\"].sum())\n",
        "print(\"Number of broad_origin dummies in X_val that are not in X_train:\",\n",
        "  X_val[\"out_of_sample\"].sum())\n",
        "print(\"Number of broad_origin dummies in X_test that are not in X_train:\",\n",
        "  X_test[\"out_of_sample\"].sum())"
      ],
      "metadata": {
        "colab": {
          "base_uri": "https://localhost:8080/"
        },
        "id": "_8Eg1T7YJuEV",
        "outputId": "b7e8108f-c6a9-4b31-be58-b5ce4462c9e9"
      },
      "id": "_8Eg1T7YJuEV",
      "execution_count": 18,
      "outputs": [
        {
          "output_type": "stream",
          "name": "stdout",
          "text": [
            "Shape of X_train with dummy variables: (155, 35)\n",
            "Shape of X_val with dummy variables: (52, 35)\n",
            "Shape of X_test with dummy variables: (52, 35) \n",
            "\n",
            "Shape of X_train with out of sample column: (155, 36)\n",
            "Shape of X_val with out of sample column: (52, 36)\n",
            "Shape of X_test with out of sample column: (52, 36) \n",
            "\n",
            "Number of broad_origin dummies in X_train that are not in X_train: 0\n",
            "Number of broad_origin dummies in X_val that are not in X_train: 4\n",
            "Number of broad_origin dummies in X_test that are not in X_train: 1\n"
          ]
        }
      ]
    },
    {
      "cell_type": "code",
      "source": [
        "# Checking which dummies in X_val and X_test are not in X_train\n",
        "print(\"Broad origin dummies in X_val that are not in X_train:\")\n",
        "print(set(broad_origin_val_d.columns) - set(broad_origin_train_d.columns))\n",
        "print(\"Broad origin dummies in X_test that are not in X_train:\")\n",
        "print(set(broad_origin_test_d.columns) - set(broad_origin_train_d.columns))\n",
        "print(\"\\nIn X_test, Principe does not appear to be in X_train, whereas in\")\n",
        "print(\"X_val, Uganda and Cameroon do not appear to be in X_train. What's\")\n",
        "print(\"interesting is that the other 2 dummies in X_val ('Ghana,Panama,Ecuador'\")\n",
        "print(\"and 'Colombia,Ecuador') are a combination of countries. Checking the\")\n",
        "print(\"original broad_origin feature shows us that some of these countries are\")\n",
        "print(\"in fact in X_train individually:\")\n",
        "\n",
        "X_val_combined_countries = ['Ghana', 'Panama', 'Ecuador', 'Colombia']\n",
        "for country in X_val_combined_countries:\n",
        "  print(\"- Is\", country, \"in X_train broad_origin?\",\n",
        "        country in set(X_train['broad_origin']))\n",
        "\n",
        "print(\"\\nEven with this knowledge, it's hard to decipher whether or not this\")\n",
        "print(\"was intentional, or if it were an accounting error. For now, we will\")\n",
        "print(\"treat these as their own features, and assume that their broad_origin\")\n",
        "print(\"types are that way because that's genuinely where the bean types are\")\n",
        "print(\"from.\")"
      ],
      "metadata": {
        "colab": {
          "base_uri": "https://localhost:8080/"
        },
        "id": "Tam9lfj3PYuK",
        "outputId": "c11d2bac-366d-43ec-9bcd-405ad163cb81"
      },
      "id": "Tam9lfj3PYuK",
      "execution_count": 19,
      "outputs": [
        {
          "output_type": "stream",
          "name": "stdout",
          "text": [
            "Broad origin dummies in X_val that are not in X_train:\n",
            "{'Uganda', 'Cameroon', 'Ghana,Panama,Ecuador', 'Colombia,Ecuador'}\n",
            "Broad origin dummies in X_test that are not in X_train:\n",
            "{'Principe'}\n",
            "\n",
            "In X_test, Principe does not appear to be in X_train, whereas in\n",
            "X_val, Uganda and Cameroon do not appear to be in X_train. What's\n",
            "interesting is that the other 2 dummies in X_val ('Ghana,Panama,Ecuador'\n",
            "and 'Colombia,Ecuador') are a combination of countries. Checking the\n",
            "original broad_origin feature shows us that some of these countries are\n",
            "in fact in X_train individually:\n",
            "- Is Ghana in X_train broad_origin? True\n",
            "- Is Panama in X_train broad_origin? False\n",
            "- Is Ecuador in X_train broad_origin? True\n",
            "- Is Colombia in X_train broad_origin? True\n",
            "\n",
            "Even with this knowledge, it's hard to decipher whether or not this\n",
            "was intentional, or if it were an accounting error. For now, we will\n",
            "treat these as their own features, and assume that their broad_origin\n",
            "types are that way because that's genuinely where the bean types are\n",
            "from.\n"
          ]
        }
      ]
    },
    {
      "cell_type": "code",
      "source": [
        "# Removing broad_origin since we've converted it to one-hot encoding\n",
        "X_train = X_train.drop(\"broad_origin\", axis = 1)\n",
        "X_val = X_val.drop(\"broad_origin\", axis = 1)\n",
        "X_test = X_test.drop(\"broad_origin\", axis = 1)\n",
        "\n",
        "print(\"Shape of X_train after removing original broad_origin feature:\",\n",
        "      X_train.shape)\n",
        "print(\"Shape of X_val after removing original broad_origin feature:\",\n",
        "      X_val.shape)\n",
        "print(\"Shape of X_test after removing original broad_origin feature:\",\n",
        "      X_test.shape)"
      ],
      "metadata": {
        "colab": {
          "base_uri": "https://localhost:8080/"
        },
        "id": "dkj6XF5VLBXF",
        "outputId": "7dadfa7e-31c5-4766-bc99-f6b16753a2f3"
      },
      "id": "dkj6XF5VLBXF",
      "execution_count": 20,
      "outputs": [
        {
          "output_type": "stream",
          "name": "stdout",
          "text": [
            "Shape of X_train after removing original broad_origin feature: (155, 35)\n",
            "Shape of X_val after removing original broad_origin feature: (52, 35)\n",
            "Shape of X_test after removing original broad_origin feature: (52, 35)\n"
          ]
        }
      ]
    },
    {
      "cell_type": "code",
      "source": [
        "# Standardizing cocoa_percent and rating\n",
        "print(\"We will assume that cocoa_percent and rating are both on the metric\")\n",
        "print(\"scale, and we'll therefore standardize with a mean of 0 and a standard\")\n",
        "print(\"deviation of 1. We will then apply this standardization to the val and\")\n",
        "print(\"test datasets using that mean and std of X_train.\")\n",
        "\n",
        "# Getting the mean and std of cocoa_percent and rating\n",
        "X_train_cocoa_percent_mean = X_train['cocoa_percent'].mean()\n",
        "X_train_cocoa_percent_std = X_train['cocoa_percent'].std()\n",
        "X_train_rating_mean = X_train['rating'].mean()\n",
        "X_train_rating_std = X_train['rating'].std()\n",
        "\n",
        "# Standardizing cocoa_percent and rating for all three datasets\n",
        "X_train[\"cocoa_percent\"] = (X_train[\"cocoa_percent\"] -\n",
        "  X_train_cocoa_percent_mean) / X_train_cocoa_percent_std\n",
        "X_train[\"rating\"] = (X_train[\"rating\"] -\n",
        "  X_train_rating_mean) / X_train_rating_std\n",
        "\n",
        "X_val[\"cocoa_percent\"] = (X_val[\"cocoa_percent\"] -\n",
        "  X_train_cocoa_percent_mean) / X_train_cocoa_percent_std\n",
        "X_val[\"rating\"] = (X_val[\"rating\"] - X_train_rating_mean) / X_train_rating_std\n",
        "\n",
        "X_test[\"cocoa_percent\"] = (X_test[\"cocoa_percent\"] -\n",
        "  X_train_cocoa_percent_mean) / X_train_cocoa_percent_std\n",
        "X_test[\"rating\"] = (X_test[\"rating\"] - X_train_rating_mean) / X_train_rating_std\n",
        "\n",
        "# Checking to see if X_train makes sense and looks right\n",
        "X_train"
      ],
      "metadata": {
        "colab": {
          "base_uri": "https://localhost:8080/",
          "height": 532
        },
        "id": "4YIHYrhAUL1U",
        "outputId": "1e1c5584-38c1-497c-c6ce-2810d5924c9a"
      },
      "id": "4YIHYrhAUL1U",
      "execution_count": 21,
      "outputs": [
        {
          "output_type": "stream",
          "name": "stdout",
          "text": [
            "We will assume that cocoa_percent and rating are both on the metric\n",
            "scale, and we'll therefore standardize with a mean of 0 and a standard\n",
            "deviation of 1. We will then apply this standardization to the val and\n",
            "test datasets using that mean and std of X_train.\n"
          ]
        },
        {
          "output_type": "execute_result",
          "data": {
            "text/plain": [
              "     cocoa_percent  rating  Belize  Bolivia  Brazil  Colombia  Congo  \\\n",
              "198          -0.68    0.02   False    False   False     False  False   \n",
              "178          -0.39    0.55   False    False   False     False  False   \n",
              "60           -0.54    1.08   False    False   False     False  False   \n",
              "231           1.58   -0.51   False    False   False     False  False   \n",
              "223          -1.10   -1.58   False    False   False     False  False   \n",
              "..             ...     ...     ...      ...     ...       ...    ...   \n",
              "37           -0.11    1.08   False    False   False     False  False   \n",
              "221          -0.39   -0.51   False    False   False     False  False   \n",
              "61            1.30   -1.58   False    False   False     False  False   \n",
              "19           -0.39   -1.58   False    False   False     False  False   \n",
              "234          -1.38    1.61   False    False   False     False  False   \n",
              "\n",
              "     Costa Rica  Dominican Republic  Ecuador  ...  Sao Tome  \\\n",
              "198       False               False    False  ...     False   \n",
              "178       False               False    False  ...     False   \n",
              "60        False               False    False  ...     False   \n",
              "231       False               False    False  ...     False   \n",
              "223       False               False    False  ...     False   \n",
              "..          ...                 ...      ...  ...       ...   \n",
              "37        False                True    False  ...     False   \n",
              "221       False               False     True  ...     False   \n",
              "61        False               False     True  ...     False   \n",
              "19        False               False    False  ...     False   \n",
              "234       False               False    False  ...     False   \n",
              "\n",
              "     Sao Tome,Principe  South America  Tanzania  Trinidad  Vanuatu  Venezuela  \\\n",
              "198              False          False     False     False    False      False   \n",
              "178              False          False     False     False    False      False   \n",
              "60               False          False     False     False    False      False   \n",
              "231              False          False     False     False    False      False   \n",
              "223              False          False     False     False    False      False   \n",
              "..                 ...            ...       ...       ...      ...        ...   \n",
              "37               False          False     False     False    False      False   \n",
              "221              False          False     False     False    False      False   \n",
              "61               False          False     False     False    False      False   \n",
              "19               False          False     False     False    False      False   \n",
              "234              False          False     False     False    False      False   \n",
              "\n",
              "     Vietnam  West Africa  out_of_sample  \n",
              "198    False        False          False  \n",
              "178    False        False          False  \n",
              "60     False        False          False  \n",
              "231    False        False          False  \n",
              "223    False        False          False  \n",
              "..       ...          ...            ...  \n",
              "37     False        False          False  \n",
              "221    False        False          False  \n",
              "61     False        False          False  \n",
              "19     False        False          False  \n",
              "234    False        False          False  \n",
              "\n",
              "[155 rows x 35 columns]"
            ],
            "text/html": [
              "\n",
              "  <div id=\"df-ecac45ad-a328-4b13-b6d1-29fde48b06c6\" class=\"colab-df-container\">\n",
              "    <div>\n",
              "<style scoped>\n",
              "    .dataframe tbody tr th:only-of-type {\n",
              "        vertical-align: middle;\n",
              "    }\n",
              "\n",
              "    .dataframe tbody tr th {\n",
              "        vertical-align: top;\n",
              "    }\n",
              "\n",
              "    .dataframe thead th {\n",
              "        text-align: right;\n",
              "    }\n",
              "</style>\n",
              "<table border=\"1\" class=\"dataframe\">\n",
              "  <thead>\n",
              "    <tr style=\"text-align: right;\">\n",
              "      <th></th>\n",
              "      <th>cocoa_percent</th>\n",
              "      <th>rating</th>\n",
              "      <th>Belize</th>\n",
              "      <th>Bolivia</th>\n",
              "      <th>Brazil</th>\n",
              "      <th>Colombia</th>\n",
              "      <th>Congo</th>\n",
              "      <th>Costa Rica</th>\n",
              "      <th>Dominican Republic</th>\n",
              "      <th>Ecuador</th>\n",
              "      <th>...</th>\n",
              "      <th>Sao Tome</th>\n",
              "      <th>Sao Tome,Principe</th>\n",
              "      <th>South America</th>\n",
              "      <th>Tanzania</th>\n",
              "      <th>Trinidad</th>\n",
              "      <th>Vanuatu</th>\n",
              "      <th>Venezuela</th>\n",
              "      <th>Vietnam</th>\n",
              "      <th>West Africa</th>\n",
              "      <th>out_of_sample</th>\n",
              "    </tr>\n",
              "  </thead>\n",
              "  <tbody>\n",
              "    <tr>\n",
              "      <th>198</th>\n",
              "      <td>-0.68</td>\n",
              "      <td>0.02</td>\n",
              "      <td>False</td>\n",
              "      <td>False</td>\n",
              "      <td>False</td>\n",
              "      <td>False</td>\n",
              "      <td>False</td>\n",
              "      <td>False</td>\n",
              "      <td>False</td>\n",
              "      <td>False</td>\n",
              "      <td>...</td>\n",
              "      <td>False</td>\n",
              "      <td>False</td>\n",
              "      <td>False</td>\n",
              "      <td>False</td>\n",
              "      <td>False</td>\n",
              "      <td>False</td>\n",
              "      <td>False</td>\n",
              "      <td>False</td>\n",
              "      <td>False</td>\n",
              "      <td>False</td>\n",
              "    </tr>\n",
              "    <tr>\n",
              "      <th>178</th>\n",
              "      <td>-0.39</td>\n",
              "      <td>0.55</td>\n",
              "      <td>False</td>\n",
              "      <td>False</td>\n",
              "      <td>False</td>\n",
              "      <td>False</td>\n",
              "      <td>False</td>\n",
              "      <td>False</td>\n",
              "      <td>False</td>\n",
              "      <td>False</td>\n",
              "      <td>...</td>\n",
              "      <td>False</td>\n",
              "      <td>False</td>\n",
              "      <td>False</td>\n",
              "      <td>False</td>\n",
              "      <td>False</td>\n",
              "      <td>False</td>\n",
              "      <td>False</td>\n",
              "      <td>False</td>\n",
              "      <td>False</td>\n",
              "      <td>False</td>\n",
              "    </tr>\n",
              "    <tr>\n",
              "      <th>60</th>\n",
              "      <td>-0.54</td>\n",
              "      <td>1.08</td>\n",
              "      <td>False</td>\n",
              "      <td>False</td>\n",
              "      <td>False</td>\n",
              "      <td>False</td>\n",
              "      <td>False</td>\n",
              "      <td>False</td>\n",
              "      <td>False</td>\n",
              "      <td>False</td>\n",
              "      <td>...</td>\n",
              "      <td>False</td>\n",
              "      <td>False</td>\n",
              "      <td>False</td>\n",
              "      <td>False</td>\n",
              "      <td>False</td>\n",
              "      <td>False</td>\n",
              "      <td>False</td>\n",
              "      <td>False</td>\n",
              "      <td>False</td>\n",
              "      <td>False</td>\n",
              "    </tr>\n",
              "    <tr>\n",
              "      <th>231</th>\n",
              "      <td>1.58</td>\n",
              "      <td>-0.51</td>\n",
              "      <td>False</td>\n",
              "      <td>False</td>\n",
              "      <td>False</td>\n",
              "      <td>False</td>\n",
              "      <td>False</td>\n",
              "      <td>False</td>\n",
              "      <td>False</td>\n",
              "      <td>False</td>\n",
              "      <td>...</td>\n",
              "      <td>False</td>\n",
              "      <td>False</td>\n",
              "      <td>False</td>\n",
              "      <td>False</td>\n",
              "      <td>False</td>\n",
              "      <td>False</td>\n",
              "      <td>False</td>\n",
              "      <td>False</td>\n",
              "      <td>False</td>\n",
              "      <td>False</td>\n",
              "    </tr>\n",
              "    <tr>\n",
              "      <th>223</th>\n",
              "      <td>-1.10</td>\n",
              "      <td>-1.58</td>\n",
              "      <td>False</td>\n",
              "      <td>False</td>\n",
              "      <td>False</td>\n",
              "      <td>False</td>\n",
              "      <td>False</td>\n",
              "      <td>False</td>\n",
              "      <td>False</td>\n",
              "      <td>False</td>\n",
              "      <td>...</td>\n",
              "      <td>False</td>\n",
              "      <td>False</td>\n",
              "      <td>False</td>\n",
              "      <td>False</td>\n",
              "      <td>False</td>\n",
              "      <td>False</td>\n",
              "      <td>False</td>\n",
              "      <td>False</td>\n",
              "      <td>False</td>\n",
              "      <td>False</td>\n",
              "    </tr>\n",
              "    <tr>\n",
              "      <th>...</th>\n",
              "      <td>...</td>\n",
              "      <td>...</td>\n",
              "      <td>...</td>\n",
              "      <td>...</td>\n",
              "      <td>...</td>\n",
              "      <td>...</td>\n",
              "      <td>...</td>\n",
              "      <td>...</td>\n",
              "      <td>...</td>\n",
              "      <td>...</td>\n",
              "      <td>...</td>\n",
              "      <td>...</td>\n",
              "      <td>...</td>\n",
              "      <td>...</td>\n",
              "      <td>...</td>\n",
              "      <td>...</td>\n",
              "      <td>...</td>\n",
              "      <td>...</td>\n",
              "      <td>...</td>\n",
              "      <td>...</td>\n",
              "      <td>...</td>\n",
              "    </tr>\n",
              "    <tr>\n",
              "      <th>37</th>\n",
              "      <td>-0.11</td>\n",
              "      <td>1.08</td>\n",
              "      <td>False</td>\n",
              "      <td>False</td>\n",
              "      <td>False</td>\n",
              "      <td>False</td>\n",
              "      <td>False</td>\n",
              "      <td>False</td>\n",
              "      <td>True</td>\n",
              "      <td>False</td>\n",
              "      <td>...</td>\n",
              "      <td>False</td>\n",
              "      <td>False</td>\n",
              "      <td>False</td>\n",
              "      <td>False</td>\n",
              "      <td>False</td>\n",
              "      <td>False</td>\n",
              "      <td>False</td>\n",
              "      <td>False</td>\n",
              "      <td>False</td>\n",
              "      <td>False</td>\n",
              "    </tr>\n",
              "    <tr>\n",
              "      <th>221</th>\n",
              "      <td>-0.39</td>\n",
              "      <td>-0.51</td>\n",
              "      <td>False</td>\n",
              "      <td>False</td>\n",
              "      <td>False</td>\n",
              "      <td>False</td>\n",
              "      <td>False</td>\n",
              "      <td>False</td>\n",
              "      <td>False</td>\n",
              "      <td>True</td>\n",
              "      <td>...</td>\n",
              "      <td>False</td>\n",
              "      <td>False</td>\n",
              "      <td>False</td>\n",
              "      <td>False</td>\n",
              "      <td>False</td>\n",
              "      <td>False</td>\n",
              "      <td>False</td>\n",
              "      <td>False</td>\n",
              "      <td>False</td>\n",
              "      <td>False</td>\n",
              "    </tr>\n",
              "    <tr>\n",
              "      <th>61</th>\n",
              "      <td>1.30</td>\n",
              "      <td>-1.58</td>\n",
              "      <td>False</td>\n",
              "      <td>False</td>\n",
              "      <td>False</td>\n",
              "      <td>False</td>\n",
              "      <td>False</td>\n",
              "      <td>False</td>\n",
              "      <td>False</td>\n",
              "      <td>True</td>\n",
              "      <td>...</td>\n",
              "      <td>False</td>\n",
              "      <td>False</td>\n",
              "      <td>False</td>\n",
              "      <td>False</td>\n",
              "      <td>False</td>\n",
              "      <td>False</td>\n",
              "      <td>False</td>\n",
              "      <td>False</td>\n",
              "      <td>False</td>\n",
              "      <td>False</td>\n",
              "    </tr>\n",
              "    <tr>\n",
              "      <th>19</th>\n",
              "      <td>-0.39</td>\n",
              "      <td>-1.58</td>\n",
              "      <td>False</td>\n",
              "      <td>False</td>\n",
              "      <td>False</td>\n",
              "      <td>False</td>\n",
              "      <td>False</td>\n",
              "      <td>False</td>\n",
              "      <td>False</td>\n",
              "      <td>False</td>\n",
              "      <td>...</td>\n",
              "      <td>False</td>\n",
              "      <td>False</td>\n",
              "      <td>False</td>\n",
              "      <td>False</td>\n",
              "      <td>False</td>\n",
              "      <td>False</td>\n",
              "      <td>False</td>\n",
              "      <td>False</td>\n",
              "      <td>False</td>\n",
              "      <td>False</td>\n",
              "    </tr>\n",
              "    <tr>\n",
              "      <th>234</th>\n",
              "      <td>-1.38</td>\n",
              "      <td>1.61</td>\n",
              "      <td>False</td>\n",
              "      <td>False</td>\n",
              "      <td>False</td>\n",
              "      <td>False</td>\n",
              "      <td>False</td>\n",
              "      <td>False</td>\n",
              "      <td>False</td>\n",
              "      <td>False</td>\n",
              "      <td>...</td>\n",
              "      <td>False</td>\n",
              "      <td>False</td>\n",
              "      <td>False</td>\n",
              "      <td>False</td>\n",
              "      <td>False</td>\n",
              "      <td>False</td>\n",
              "      <td>False</td>\n",
              "      <td>False</td>\n",
              "      <td>False</td>\n",
              "      <td>False</td>\n",
              "    </tr>\n",
              "  </tbody>\n",
              "</table>\n",
              "<p>155 rows × 35 columns</p>\n",
              "</div>\n",
              "    <div class=\"colab-df-buttons\">\n",
              "\n",
              "  <div class=\"colab-df-container\">\n",
              "    <button class=\"colab-df-convert\" onclick=\"convertToInteractive('df-ecac45ad-a328-4b13-b6d1-29fde48b06c6')\"\n",
              "            title=\"Convert this dataframe to an interactive table.\"\n",
              "            style=\"display:none;\">\n",
              "\n",
              "  <svg xmlns=\"http://www.w3.org/2000/svg\" height=\"24px\" viewBox=\"0 -960 960 960\">\n",
              "    <path d=\"M120-120v-720h720v720H120Zm60-500h600v-160H180v160Zm220 220h160v-160H400v160Zm0 220h160v-160H400v160ZM180-400h160v-160H180v160Zm440 0h160v-160H620v160ZM180-180h160v-160H180v160Zm440 0h160v-160H620v160Z\"/>\n",
              "  </svg>\n",
              "    </button>\n",
              "\n",
              "  <style>\n",
              "    .colab-df-container {\n",
              "      display:flex;\n",
              "      gap: 12px;\n",
              "    }\n",
              "\n",
              "    .colab-df-convert {\n",
              "      background-color: #E8F0FE;\n",
              "      border: none;\n",
              "      border-radius: 50%;\n",
              "      cursor: pointer;\n",
              "      display: none;\n",
              "      fill: #1967D2;\n",
              "      height: 32px;\n",
              "      padding: 0 0 0 0;\n",
              "      width: 32px;\n",
              "    }\n",
              "\n",
              "    .colab-df-convert:hover {\n",
              "      background-color: #E2EBFA;\n",
              "      box-shadow: 0px 1px 2px rgba(60, 64, 67, 0.3), 0px 1px 3px 1px rgba(60, 64, 67, 0.15);\n",
              "      fill: #174EA6;\n",
              "    }\n",
              "\n",
              "    .colab-df-buttons div {\n",
              "      margin-bottom: 4px;\n",
              "    }\n",
              "\n",
              "    [theme=dark] .colab-df-convert {\n",
              "      background-color: #3B4455;\n",
              "      fill: #D2E3FC;\n",
              "    }\n",
              "\n",
              "    [theme=dark] .colab-df-convert:hover {\n",
              "      background-color: #434B5C;\n",
              "      box-shadow: 0px 1px 3px 1px rgba(0, 0, 0, 0.15);\n",
              "      filter: drop-shadow(0px 1px 2px rgba(0, 0, 0, 0.3));\n",
              "      fill: #FFFFFF;\n",
              "    }\n",
              "  </style>\n",
              "\n",
              "    <script>\n",
              "      const buttonEl =\n",
              "        document.querySelector('#df-ecac45ad-a328-4b13-b6d1-29fde48b06c6 button.colab-df-convert');\n",
              "      buttonEl.style.display =\n",
              "        google.colab.kernel.accessAllowed ? 'block' : 'none';\n",
              "\n",
              "      async function convertToInteractive(key) {\n",
              "        const element = document.querySelector('#df-ecac45ad-a328-4b13-b6d1-29fde48b06c6');\n",
              "        const dataTable =\n",
              "          await google.colab.kernel.invokeFunction('convertToInteractive',\n",
              "                                                    [key], {});\n",
              "        if (!dataTable) return;\n",
              "\n",
              "        const docLinkHtml = 'Like what you see? Visit the ' +\n",
              "          '<a target=\"_blank\" href=https://colab.research.google.com/notebooks/data_table.ipynb>data table notebook</a>'\n",
              "          + ' to learn more about interactive tables.';\n",
              "        element.innerHTML = '';\n",
              "        dataTable['output_type'] = 'display_data';\n",
              "        await google.colab.output.renderOutput(dataTable, element);\n",
              "        const docLink = document.createElement('div');\n",
              "        docLink.innerHTML = docLinkHtml;\n",
              "        element.appendChild(docLink);\n",
              "      }\n",
              "    </script>\n",
              "  </div>\n",
              "\n",
              "\n",
              "<div id=\"df-3bb70dd2-198c-45c7-8cbb-819107dc1fc0\">\n",
              "  <button class=\"colab-df-quickchart\" onclick=\"quickchart('df-3bb70dd2-198c-45c7-8cbb-819107dc1fc0')\"\n",
              "            title=\"Suggest charts\"\n",
              "            style=\"display:none;\">\n",
              "\n",
              "<svg xmlns=\"http://www.w3.org/2000/svg\" height=\"24px\"viewBox=\"0 0 24 24\"\n",
              "     width=\"24px\">\n",
              "    <g>\n",
              "        <path d=\"M19 3H5c-1.1 0-2 .9-2 2v14c0 1.1.9 2 2 2h14c1.1 0 2-.9 2-2V5c0-1.1-.9-2-2-2zM9 17H7v-7h2v7zm4 0h-2V7h2v10zm4 0h-2v-4h2v4z\"/>\n",
              "    </g>\n",
              "</svg>\n",
              "  </button>\n",
              "\n",
              "<style>\n",
              "  .colab-df-quickchart {\n",
              "      --bg-color: #E8F0FE;\n",
              "      --fill-color: #1967D2;\n",
              "      --hover-bg-color: #E2EBFA;\n",
              "      --hover-fill-color: #174EA6;\n",
              "      --disabled-fill-color: #AAA;\n",
              "      --disabled-bg-color: #DDD;\n",
              "  }\n",
              "\n",
              "  [theme=dark] .colab-df-quickchart {\n",
              "      --bg-color: #3B4455;\n",
              "      --fill-color: #D2E3FC;\n",
              "      --hover-bg-color: #434B5C;\n",
              "      --hover-fill-color: #FFFFFF;\n",
              "      --disabled-bg-color: #3B4455;\n",
              "      --disabled-fill-color: #666;\n",
              "  }\n",
              "\n",
              "  .colab-df-quickchart {\n",
              "    background-color: var(--bg-color);\n",
              "    border: none;\n",
              "    border-radius: 50%;\n",
              "    cursor: pointer;\n",
              "    display: none;\n",
              "    fill: var(--fill-color);\n",
              "    height: 32px;\n",
              "    padding: 0;\n",
              "    width: 32px;\n",
              "  }\n",
              "\n",
              "  .colab-df-quickchart:hover {\n",
              "    background-color: var(--hover-bg-color);\n",
              "    box-shadow: 0 1px 2px rgba(60, 64, 67, 0.3), 0 1px 3px 1px rgba(60, 64, 67, 0.15);\n",
              "    fill: var(--button-hover-fill-color);\n",
              "  }\n",
              "\n",
              "  .colab-df-quickchart-complete:disabled,\n",
              "  .colab-df-quickchart-complete:disabled:hover {\n",
              "    background-color: var(--disabled-bg-color);\n",
              "    fill: var(--disabled-fill-color);\n",
              "    box-shadow: none;\n",
              "  }\n",
              "\n",
              "  .colab-df-spinner {\n",
              "    border: 2px solid var(--fill-color);\n",
              "    border-color: transparent;\n",
              "    border-bottom-color: var(--fill-color);\n",
              "    animation:\n",
              "      spin 1s steps(1) infinite;\n",
              "  }\n",
              "\n",
              "  @keyframes spin {\n",
              "    0% {\n",
              "      border-color: transparent;\n",
              "      border-bottom-color: var(--fill-color);\n",
              "      border-left-color: var(--fill-color);\n",
              "    }\n",
              "    20% {\n",
              "      border-color: transparent;\n",
              "      border-left-color: var(--fill-color);\n",
              "      border-top-color: var(--fill-color);\n",
              "    }\n",
              "    30% {\n",
              "      border-color: transparent;\n",
              "      border-left-color: var(--fill-color);\n",
              "      border-top-color: var(--fill-color);\n",
              "      border-right-color: var(--fill-color);\n",
              "    }\n",
              "    40% {\n",
              "      border-color: transparent;\n",
              "      border-right-color: var(--fill-color);\n",
              "      border-top-color: var(--fill-color);\n",
              "    }\n",
              "    60% {\n",
              "      border-color: transparent;\n",
              "      border-right-color: var(--fill-color);\n",
              "    }\n",
              "    80% {\n",
              "      border-color: transparent;\n",
              "      border-right-color: var(--fill-color);\n",
              "      border-bottom-color: var(--fill-color);\n",
              "    }\n",
              "    90% {\n",
              "      border-color: transparent;\n",
              "      border-bottom-color: var(--fill-color);\n",
              "    }\n",
              "  }\n",
              "</style>\n",
              "\n",
              "  <script>\n",
              "    async function quickchart(key) {\n",
              "      const quickchartButtonEl =\n",
              "        document.querySelector('#' + key + ' button');\n",
              "      quickchartButtonEl.disabled = true;  // To prevent multiple clicks.\n",
              "      quickchartButtonEl.classList.add('colab-df-spinner');\n",
              "      try {\n",
              "        const charts = await google.colab.kernel.invokeFunction(\n",
              "            'suggestCharts', [key], {});\n",
              "      } catch (error) {\n",
              "        console.error('Error during call to suggestCharts:', error);\n",
              "      }\n",
              "      quickchartButtonEl.classList.remove('colab-df-spinner');\n",
              "      quickchartButtonEl.classList.add('colab-df-quickchart-complete');\n",
              "    }\n",
              "    (() => {\n",
              "      let quickchartButtonEl =\n",
              "        document.querySelector('#df-3bb70dd2-198c-45c7-8cbb-819107dc1fc0 button');\n",
              "      quickchartButtonEl.style.display =\n",
              "        google.colab.kernel.accessAllowed ? 'block' : 'none';\n",
              "    })();\n",
              "  </script>\n",
              "</div>\n",
              "\n",
              "  <div id=\"id_31b3685e-c2ae-4bbd-b856-55a3f72f8fc6\">\n",
              "    <style>\n",
              "      .colab-df-generate {\n",
              "        background-color: #E8F0FE;\n",
              "        border: none;\n",
              "        border-radius: 50%;\n",
              "        cursor: pointer;\n",
              "        display: none;\n",
              "        fill: #1967D2;\n",
              "        height: 32px;\n",
              "        padding: 0 0 0 0;\n",
              "        width: 32px;\n",
              "      }\n",
              "\n",
              "      .colab-df-generate:hover {\n",
              "        background-color: #E2EBFA;\n",
              "        box-shadow: 0px 1px 2px rgba(60, 64, 67, 0.3), 0px 1px 3px 1px rgba(60, 64, 67, 0.15);\n",
              "        fill: #174EA6;\n",
              "      }\n",
              "\n",
              "      [theme=dark] .colab-df-generate {\n",
              "        background-color: #3B4455;\n",
              "        fill: #D2E3FC;\n",
              "      }\n",
              "\n",
              "      [theme=dark] .colab-df-generate:hover {\n",
              "        background-color: #434B5C;\n",
              "        box-shadow: 0px 1px 3px 1px rgba(0, 0, 0, 0.15);\n",
              "        filter: drop-shadow(0px 1px 2px rgba(0, 0, 0, 0.3));\n",
              "        fill: #FFFFFF;\n",
              "      }\n",
              "    </style>\n",
              "    <button class=\"colab-df-generate\" onclick=\"generateWithVariable('X_train')\"\n",
              "            title=\"Generate code using this dataframe.\"\n",
              "            style=\"display:none;\">\n",
              "\n",
              "  <svg xmlns=\"http://www.w3.org/2000/svg\" height=\"24px\"viewBox=\"0 0 24 24\"\n",
              "       width=\"24px\">\n",
              "    <path d=\"M7,19H8.4L18.45,9,17,7.55,7,17.6ZM5,21V16.75L18.45,3.32a2,2,0,0,1,2.83,0l1.4,1.43a1.91,1.91,0,0,1,.58,1.4,1.91,1.91,0,0,1-.58,1.4L9.25,21ZM18.45,9,17,7.55Zm-12,3A5.31,5.31,0,0,0,4.9,8.1,5.31,5.31,0,0,0,1,6.5,5.31,5.31,0,0,0,4.9,4.9,5.31,5.31,0,0,0,6.5,1,5.31,5.31,0,0,0,8.1,4.9,5.31,5.31,0,0,0,12,6.5,5.46,5.46,0,0,0,6.5,12Z\"/>\n",
              "  </svg>\n",
              "    </button>\n",
              "    <script>\n",
              "      (() => {\n",
              "      const buttonEl =\n",
              "        document.querySelector('#id_31b3685e-c2ae-4bbd-b856-55a3f72f8fc6 button.colab-df-generate');\n",
              "      buttonEl.style.display =\n",
              "        google.colab.kernel.accessAllowed ? 'block' : 'none';\n",
              "\n",
              "      buttonEl.onclick = () => {\n",
              "        google.colab.notebook.generateWithVariable('X_train');\n",
              "      }\n",
              "      })();\n",
              "    </script>\n",
              "  </div>\n",
              "\n",
              "    </div>\n",
              "  </div>\n"
            ],
            "application/vnd.google.colaboratory.intrinsic+json": {
              "type": "dataframe",
              "variable_name": "X_train"
            }
          },
          "metadata": {},
          "execution_count": 21
        }
      ]
    },
    {
      "cell_type": "markdown",
      "id": "6fdd4232",
      "metadata": {
        "id": "6fdd4232"
      },
      "source": [
        "---\n",
        "### Step 3: Exploratory data analysis (EDA)"
      ]
    },
    {
      "cell_type": "markdown",
      "id": "db7896a1",
      "metadata": {
        "id": "db7896a1"
      },
      "source": [
        "### <span style=\"color:chocolate\">Exercise 4:</span> Plots (20 points)"
      ]
    },
    {
      "cell_type": "markdown",
      "id": "e9182a26",
      "metadata": {
        "id": "e9182a26"
      },
      "source": [
        "In line with the structure of previous assignments, execute the following steps:\n",
        "\n",
        "1. Generate a minimum of 4 plots to investigate features and outcome within the training dataset;\n",
        "2. Ensure that each plot includes clear axis labels and titles;\n",
        "3. Provide commentary on the insights learned from your visualizations."
      ]
    },
    {
      "cell_type": "code",
      "execution_count": 22,
      "id": "4d6e2064",
      "metadata": {
        "colab": {
          "base_uri": "https://localhost:8080/",
          "height": 657
        },
        "id": "4d6e2064",
        "outputId": "317f9056-211b-4d68-b9f8-dad1badf5573"
      },
      "outputs": [
        {
          "output_type": "display_data",
          "data": {
            "text/plain": [
              "<Figure size 600x600 with 2 Axes>"
            ],
            "image/png": "[encoded data removed]"
          },
          "metadata": {}
        },
        {
          "output_type": "stream",
          "name": "stdout",
          "text": [
            "From the heatmap, it seems that the metric features chosen have nearly\n",
            "no correlation with the bean type. This indicates that cocoa_percent\n",
            "and rating both seem to not have an impact on the bean type. Putting it\n",
            "another way, even if we know either the cocoa_percent and/or the rating\n",
            "of a particular bean, that will still give us very little to no useful\n",
            "information on the type of that bean.\n"
          ]
        }
      ],
      "source": [
        "# YOUR CODE HERE\n",
        "\n",
        "# Generating plots to investigate features and outcomes w/in training data\n",
        "from mlxtend.plotting import heatmap\n",
        "import seaborn as sns\n",
        "\n",
        "# Creating df_train for EDA and a column of just the metric (and outcome) values\n",
        "df_train = pd.concat(\n",
        "    [Y_train, X_train],\n",
        "    axis=1\n",
        ")\n",
        "df_metric_cols = ['bt_class', 'cocoa_percent', 'rating']\n",
        "\n",
        "# Creating a correlation matrix of just the metric (and outcome) values\n",
        "cm = df_train[df_metric_cols].corr().values\n",
        "\n",
        "# Getting a heatmap based on the correlation matrix\n",
        "hm = heatmap(\n",
        "    cm,\n",
        "    row_names=df_metric_cols,\n",
        "    column_names=df_metric_cols,\n",
        "    figsize=(6, 6)\n",
        ")\n",
        "plt.title('Heatmap of Metric Features and Outcome Variable')\n",
        "plt.show()\n",
        "\n",
        "print(\"From the heatmap, it seems that the metric features chosen have nearly\")\n",
        "print(\"no correlation with the bean type. This indicates that cocoa_percent\")\n",
        "print(\"and rating both seem to not have an impact on the bean type. Putting it\")\n",
        "print(\"another way, even if we know either the cocoa_percent and/or the rating\")\n",
        "print(\"of a particular bean, that will still give us very little to no useful\")\n",
        "print(\"information on the type of that bean.\")"
      ]
    },
    {
      "cell_type": "code",
      "source": [
        "# Creating a pairplot of the metric features and outcome variable visualize\n",
        "# their pair-wise correlations\n",
        "sp = sns.pairplot(df_train[df_metric_cols], height = 3)\n",
        "sp.fig.suptitle(\"Scatterplot Matrix of Metric Features and Outcome Variable\",\n",
        "                verticalalignment = 'bottom')"
      ],
      "metadata": {
        "colab": {
          "base_uri": "https://localhost:8080/",
          "height": 939
        },
        "id": "ybtVHflSc-f8",
        "outputId": "a236356c-67ca-4ba0-d446-fee881d9ac8d"
      },
      "id": "ybtVHflSc-f8",
      "execution_count": 23,
      "outputs": [
        {
          "output_type": "execute_result",
          "data": {
            "text/plain": [
              "Text(0.5, 0.98, 'Scatterplot Matrix of Metric Features and Outcome Variable')"
            ]
          },
          "metadata": {},
          "execution_count": 23
        },
        {
          "output_type": "display_data",
          "data": {
            "text/plain": [
              "<Figure size 900x900 with 12 Axes>"
            ],
            "image/png": "[encoded data removed]"
          },
          "metadata": {}
        }
      ]
    },
    {
      "cell_type": "code",
      "source": [
        "print(\"From the pairplot shown above, we confirm that there appears to be very\")\n",
        "print(\"little correlation between the metric features and the bean type. One\")\n",
        "print(\"positive takeaway is that the classes for bean type (bt_class) seem to\")\n",
        "print(\"at least be somewhat balanced, which will hopefully allow for better\")\n",
        "print(\"generalization. Another finding is that even though the data for\")\n",
        "print(\"cocoa_percent and rating do not seem to very normally distributed, the\")\n",
        "print(\"model does not require that condition, so we'll leave that as it is.\\n\")\n",
        "print(\"Overall, based on the heatmap and pairplots, we can likely conclude\")\n",
        "print(\"that cocoa_percent and rating have little effect on the bean type, and\")\n",
        "print(\"that the model might need to rely more heavily on the broad origin\")\n",
        "print(\"features.\")"
      ],
      "metadata": {
        "colab": {
          "base_uri": "https://localhost:8080/"
        },
        "id": "MXNia4HAd6AB",
        "outputId": "cb1134bd-c1d3-44e2-9bcf-a163f3156c01"
      },
      "id": "MXNia4HAd6AB",
      "execution_count": 24,
      "outputs": [
        {
          "output_type": "stream",
          "name": "stdout",
          "text": [
            "From the pairplot shown above, we confirm that there appears to be very\n",
            "little correlation between the metric features and the bean type. One\n",
            "positive takeaway is that the classes for bean type (bt_class) seem to\n",
            "at least be somewhat balanced, which will hopefully allow for better\n",
            "generalization. Another finding is that even though the data for\n",
            "cocoa_percent and rating do not seem to very normally distributed, the\n",
            "model does not require that condition, so we'll leave that as it is.\n",
            "\n",
            "Overall, based on the heatmap and pairplots, we can likely conclude\n",
            "that cocoa_percent and rating have little effect on the bean type, and\n",
            "that the model might need to rely more heavily on the broad origin\n",
            "features.\n"
          ]
        }
      ]
    },
    {
      "cell_type": "markdown",
      "id": "0da9674f",
      "metadata": {
        "id": "0da9674f"
      },
      "source": [
        "---\n",
        "### Step 4: Modeling"
      ]
    },
    {
      "cell_type": "markdown",
      "id": "6edcc92d",
      "metadata": {
        "id": "6edcc92d"
      },
      "source": [
        "### <span style=\"color:chocolate\">Exercise 5:</span> Baseline model (10 points)"
      ]
    },
    {
      "cell_type": "markdown",
      "id": "b948692c",
      "metadata": {
        "id": "b948692c"
      },
      "source": [
        "When dealing with classification problems, a simple baseline is to select the *majority* class (the most common label in the training set) and use it as the prediction for all inputs.\n",
        "\n",
        "1. Implement this baseline and report the accuracy metric on the train data;\n",
        "\n",
        "2. Implement a function that computes the Log Loss (cross-entropy loss) metric and use it to evaluate this baseline on both the train and validation data. Note: reflect on what you know about the original distribution of classes in your training data (Hint: see Assignment 4 - Exercise 8 and ``Module Demos/05 Multiclass Logistic Regression.ipynb`` in bCourses for an example)."
      ]
    },
    {
      "cell_type": "code",
      "execution_count": 25,
      "id": "536702e1",
      "metadata": {
        "colab": {
          "base_uri": "https://localhost:8080/"
        },
        "id": "536702e1",
        "outputId": "921f0086-22a0-418d-a66f-7a56876d3bdd"
      },
      "outputs": [
        {
          "output_type": "stream",
          "name": "stdout",
          "text": [
            "Most common bt_class in training data: 6\n",
            "Number of labels in most common class: 27\n",
            "Baseline prediction accuracy on training data: 0.17419354838709677\n",
            "Shape of Y_train_baseline: (155, 7)\n",
            "Shape of Y_val_baseline: (52, 7)\n"
          ]
        }
      ],
      "source": [
        "# YOUR CODE HERE\n",
        "\n",
        "# 1. Implementing a baseline for the majority class\n",
        "print(\"Most common bt_class in training data:\", Y_train.value_counts().idxmax())\n",
        "print(\"Number of labels in most common class:\", Y_train.value_counts().max())\n",
        "perc_major_class = Y_train.value_counts().max() / Y_train.shape[0]\n",
        "print(\"Baseline prediction accuracy on training data:\", perc_major_class)\n",
        "\n",
        "# Initializing train and val baseline preds as ones\n",
        "Y_train_baseline = np.ones((Y_train.shape[0], Y_train.nunique()))\n",
        "Y_val_baseline = np.ones((Y_val.shape[0], Y_train.nunique()))\n",
        "\n",
        "# Setting baseline arrays w/ original distribution of classes (percents) as the\n",
        "# predicted probability for each class\n",
        "for i in range(Y_train.nunique()):\n",
        "  Y_train_baseline[:, i] = Y_train.value_counts()[i] / Y_train.shape[0]\n",
        "  Y_val_baseline[:, i] = Y_train.value_counts()[i] / Y_train.shape[0]\n",
        "\n",
        "print(\"Shape of Y_train_baseline:\", Y_train_baseline.shape)\n",
        "print(\"Shape of Y_val_baseline:\", Y_val_baseline.shape)"
      ]
    },
    {
      "cell_type": "code",
      "source": [
        "# First 2 rows of Y_train_baseline as an example:\n",
        "print(\"First 2 rows of Y_train_baseline as an example:\")\n",
        "print(Y_train_baseline[:2], '\\n')\n",
        "print(\"First 2 rows of Y_val_baseline as an example:\")\n",
        "print(Y_val_baseline[:2], '\\n')\n",
        "\n",
        "# Showing that the sum of the class percents is equal to 1\n",
        "print(\"Sums of the first 2 rows of Y_train_baseline:\",\n",
        "  Y_train_baseline[:2].sum(axis = 1))\n",
        "print(\"Sums of the first 2 rows of Y_val_baseline:\",\n",
        "  Y_val_baseline[:2].sum(axis = 1))"
      ],
      "metadata": {
        "colab": {
          "base_uri": "https://localhost:8080/"
        },
        "id": "NA-AMngba_e7",
        "outputId": "ac4c4fa4-b745-4fa0-fece-fc453c4cea82"
      },
      "id": "NA-AMngba_e7",
      "execution_count": 26,
      "outputs": [
        {
          "output_type": "stream",
          "name": "stdout",
          "text": [
            "First 2 rows of Y_train_baseline as an example:\n",
            "[[0.15483871 0.1483871  0.12258065 0.10967742 0.15483871 0.13548387\n",
            "  0.17419355]\n",
            " [0.15483871 0.1483871  0.12258065 0.10967742 0.15483871 0.13548387\n",
            "  0.17419355]] \n",
            "\n",
            "First 2 rows of Y_val_baseline as an example:\n",
            "[[0.15483871 0.1483871  0.12258065 0.10967742 0.15483871 0.13548387\n",
            "  0.17419355]\n",
            " [0.15483871 0.1483871  0.12258065 0.10967742 0.15483871 0.13548387\n",
            "  0.17419355]] \n",
            "\n",
            "Sums of the first 2 rows of Y_train_baseline: [1. 1.]\n",
            "Sums of the first 2 rows of Y_val_baseline: [1. 1.]\n"
          ]
        }
      ]
    },
    {
      "cell_type": "code",
      "source": [
        "# 2. Implementing a function that computes the log loss metric and uses it to\n",
        "# evaluate this baseline on both the Y_train and Y_val datasets\n",
        "\n",
        "def compute_log_loss(preds, actual):\n",
        "\n",
        "  # Number of samples\n",
        "  m = actual.shape[0]\n",
        "\n",
        "  # Getting the cross_entropy_values\n",
        "  cross_entropy_values = -np.log(preds[range(m), actual])\n",
        "\n",
        "  # Summing the cross entropy values across each observation\n",
        "  loss = np.sum(cross_entropy_values) / m\n",
        "\n",
        "  return loss\n",
        "\n",
        "print('Baseline Log Loss on Y_train:',\n",
        "  compute_log_loss(Y_train_baseline, Y_train))\n",
        "print('Baseline Log Loss on Y_val:', compute_log_loss(Y_val_baseline, Y_val))"
      ],
      "metadata": {
        "colab": {
          "base_uri": "https://localhost:8080/"
        },
        "id": "Qhrcmg6nPL8P",
        "outputId": "84236e19-af63-4aff-c46e-f0ce5c9d963e"
      },
      "id": "Qhrcmg6nPL8P",
      "execution_count": 27,
      "outputs": [
        {
          "output_type": "stream",
          "name": "stdout",
          "text": [
            "Baseline Log Loss on Y_train: 1.935718763045062\n",
            "Baseline Log Loss on Y_val: 2.003628574856231\n"
          ]
        }
      ]
    },
    {
      "cell_type": "code",
      "source": [
        "# Reflecting on what I know about the original distribution of classes in the\n",
        "# training data\n",
        "\n",
        "print(\"What we did was essentially setting the distribution of classes in the\")\n",
        "print(\"training data as our predictions. This works because the sum of the\")\n",
        "print(\"class percents adds up to 1, and it allows us to compare that with the\")\n",
        "print(\"true values of Y_train. It also has the benefit of not having any 0\")\n",
        "print(\"values (which we know because our X_train sample is roughly balanced),\")\n",
        "print(\"which makes the log step for the calculation of cross entropy values\")\n",
        "print(\"possible. If we did have values of 0 in any class, the cross entropy\")\n",
        "print(\"would shoot up to infinity.\\n\")\n",
        "print(\"If our distribution had not been even, or if there were any 0s, we may\")\n",
        "print(\"have had to apply a softmax function. However, doing so would distort\")\n",
        "print(\"the probabilities because it exponentiates each value and normalizes\")\n",
        "print(\"them, giving more weight to the larger values. Thus, the majority class\")\n",
        "print(\"would be even more dominant, and the overall result will no longer\")\n",
        "print(\"reflect the actual training distribution. In our case, since the\")\n",
        "print(\"distribution was in fact roughly even (which we can also see when we\")\n",
        "print(\"look at the first few rows of Y_train_baseline or Y_val_baseline and\")\n",
        "print(\"notice that the values are not that far from each other), simply using\")\n",
        "print(\"raw class frequency percentages as our classification baseline should\")\n",
        "print(\"be sufficient.\")"
      ],
      "metadata": {
        "colab": {
          "base_uri": "https://localhost:8080/"
        },
        "id": "ooXG97vCgAJS",
        "outputId": "b87ea95d-2c45-4cb1-fa71-79373809d61c"
      },
      "id": "ooXG97vCgAJS",
      "execution_count": 28,
      "outputs": [
        {
          "output_type": "stream",
          "name": "stdout",
          "text": [
            "What we did was essentially setting the distribution of classes in the\n",
            "training data as our predictions. This works because the sum of the\n",
            "class percents adds up to 1, and it allows us to compare that with the\n",
            "true values of Y_train. It also has the benefit of not having any 0\n",
            "values (which we know because our X_train sample is roughly balanced),\n",
            "which makes the log step for the calculation of cross entropy values\n",
            "possible. If we did have values of 0 in any class, the cross entropy\n",
            "would shoot up to infinity.\n",
            "\n",
            "If our distribution had not been even, or if there were any 0s, we may\n",
            "have had to apply a softmax function. However, doing so would distort\n",
            "the probabilities because it exponentiates each value and normalizes\n",
            "them, giving more weight to the larger values. Thus, the majority class\n",
            "would be even more dominant, and the overall result will no longer\n",
            "reflect the actual training distribution. In our case, since the\n",
            "distribution was in fact roughly even (which we can also see when we\n",
            "look at the first few rows of Y_train_baseline or Y_val_baseline and\n",
            "notice that the values are not that far from each other), simply using\n",
            "raw class frequency percentages as our classification baseline should\n",
            "be sufficient.\n"
          ]
        }
      ]
    },
    {
      "cell_type": "markdown",
      "id": "dd5a8365",
      "metadata": {
        "id": "dd5a8365"
      },
      "source": [
        "### <span style=\"color:chocolate\">Exercise 6:</span> Improvement over baseline with Tensorflow (10 points)"
      ]
    },
    {
      "cell_type": "markdown",
      "id": "311dd3ad",
      "metadata": {
        "id": "311dd3ad"
      },
      "source": [
        "Use TensorFlow (TF) to train a multiclass logistic regression model much like you did in Assignment 4. The goal here is to build a ML model to improve over the baseline classifier. You have the flexibility to choose which features to include.\n",
        "\n",
        "With this in mind, complete the following tasks:\n",
        "\n",
        "1. Build and compile a multiclass classification TF model (call it model_tf). Hint: the activation function, the loss, and the evaluation metric are different compared to the binary logistic regression (see ``Module Demos/05 Multiclass Logistic Regression.ipynb`` in bCourses for an example). Set learning_rate = 0.0001 and optimizer = SGD.\n",
        "2. Train model_tf using the training dataset and pass the validation data for validation. Set num_epochs = 10 and batch_size = 32.\n",
        "3. Generate a plot (for the training and validation data) with the loss values on the y-axis and the epoch number on the x-axis for visualization. Make sure to include axes name and title.\n",
        "\n",
        "If instructions for any other hyperparameters are not provided here, you are free to select your own or use the default settings."
      ]
    },
    {
      "cell_type": "code",
      "execution_count": 29,
      "id": "4bf162e4",
      "metadata": {
        "id": "4bf162e4"
      },
      "outputs": [],
      "source": [
        "# YOUR CODE HERE\n",
        "\n",
        "# 1. Building a function to create and compile tf model\n",
        "def build_model(num_features, learning_rate):\n",
        "\n",
        "  # Resetting tf for consistent results\n",
        "  tf.keras.backend.clear_session()\n",
        "  tf.random.set_seed(0)\n",
        "\n",
        "  # Building a model using tf Sequential\n",
        "  model = tf.keras.Sequential()\n",
        "  model.add(tf.keras.layers.Dense(\n",
        "      units = 7,\n",
        "      input_shape = [num_features],\n",
        "      use_bias = True,\n",
        "      activation = 'softmax',\n",
        "      kernel_initializer = initializers.RandomNormal(stddev=0.01),\n",
        "      bias_initializer = initializers.RandomNormal(stddev=0.01)\n",
        "  ))\n",
        "\n",
        "  # Getting the optimizer\n",
        "  optimizer = tf.keras.optimizers.SGD(learning_rate=learning_rate)\n",
        "\n",
        "  # Compiling the model\n",
        "  model.compile(\n",
        "      optimizer = optimizer,\n",
        "      loss = tf.keras.losses.SparseCategoricalCrossentropy(),\n",
        "      metrics = ['accuracy']\n",
        "  )\n",
        "\n",
        "  return model\n"
      ]
    },
    {
      "cell_type": "code",
      "source": [
        "tf.random.set_seed(1234)\n",
        "np.random.seed(1234)\n",
        "\n",
        "# Setting a learning rate, number of epochs, and batch size\n",
        "learning_rate = 0.0001\n",
        "num_epochs = 10\n",
        "batch_size = 32\n",
        "\n",
        "# Building and compiling the model\n",
        "model_tf = build_model(\n",
        "    X_train.shape[1], learning_rate = learning_rate\n",
        ")\n",
        "\n",
        "# 2. Training the model using the training dataset and passing the validation\n",
        "# dataset for validation\n",
        "model_tf_fit = model_tf.fit(\n",
        "    x = X_train,\n",
        "    y = Y_train,\n",
        "    validation_data = [X_val, Y_val],\n",
        "    epochs = num_epochs,\n",
        "    batch_size = batch_size,\n",
        "    verbose = 1\n",
        ")"
      ],
      "metadata": {
        "colab": {
          "base_uri": "https://localhost:8080/"
        },
        "id": "c41pyB_L0ml4",
        "outputId": "efe3bb6f-3cb8-4052-a441-f065eaa92d8b"
      },
      "id": "c41pyB_L0ml4",
      "execution_count": 30,
      "outputs": [
        {
          "output_type": "stream",
          "name": "stdout",
          "text": [
            "Epoch 1/10\n",
            "\u001b[1m5/5\u001b[0m \u001b[32m━━━━━━━━━━━━━━━━━━━━\u001b[0m\u001b[37m\u001b[0m \u001b[1m3s\u001b[0m 293ms/step - accuracy: 0.1701 - loss: 1.9431 - val_accuracy: 0.1923 - val_loss: 1.9441\n",
            "Epoch 2/10\n",
            "\u001b[1m5/5\u001b[0m \u001b[32m━━━━━━━━━━━━━━━━━━━━\u001b[0m\u001b[37m\u001b[0m \u001b[1m0s\u001b[0m 82ms/step - accuracy: 0.1701 - loss: 1.9431 - val_accuracy: 0.1923 - val_loss: 1.9441\n",
            "Epoch 3/10\n",
            "\u001b[1m5/5\u001b[0m \u001b[32m━━━━━━━━━━━━━━━━━━━━\u001b[0m\u001b[37m\u001b[0m \u001b[1m1s\u001b[0m 72ms/step - accuracy: 0.1701 - loss: 1.9431 - val_accuracy: 0.1923 - val_loss: 1.9441\n",
            "Epoch 4/10\n",
            "\u001b[1m5/5\u001b[0m \u001b[32m━━━━━━━━━━━━━━━━━━━━\u001b[0m\u001b[37m\u001b[0m \u001b[1m1s\u001b[0m 159ms/step - accuracy: 0.1701 - loss: 1.9430 - val_accuracy: 0.1923 - val_loss: 1.9440\n",
            "Epoch 5/10\n",
            "\u001b[1m5/5\u001b[0m \u001b[32m━━━━━━━━━━━━━━━━━━━━\u001b[0m\u001b[37m\u001b[0m \u001b[1m1s\u001b[0m 131ms/step - accuracy: 0.1701 - loss: 1.9430 - val_accuracy: 0.1923 - val_loss: 1.9440\n",
            "Epoch 6/10\n",
            "\u001b[1m5/5\u001b[0m \u001b[32m━━━━━━━━━━━━━━━━━━━━\u001b[0m\u001b[37m\u001b[0m \u001b[1m1s\u001b[0m 172ms/step - accuracy: 0.1701 - loss: 1.9430 - val_accuracy: 0.1923 - val_loss: 1.9440\n",
            "Epoch 7/10\n",
            "\u001b[1m5/5\u001b[0m \u001b[32m━━━━━━━━━━━━━━━━━━━━\u001b[0m\u001b[37m\u001b[0m \u001b[1m1s\u001b[0m 92ms/step - accuracy: 0.1701 - loss: 1.9430 - val_accuracy: 0.1923 - val_loss: 1.9440\n",
            "Epoch 8/10\n",
            "\u001b[1m5/5\u001b[0m \u001b[32m━━━━━━━━━━━━━━━━━━━━\u001b[0m\u001b[37m\u001b[0m \u001b[1m0s\u001b[0m 79ms/step - accuracy: 0.1701 - loss: 1.9429 - val_accuracy: 0.1923 - val_loss: 1.9439\n",
            "Epoch 9/10\n",
            "\u001b[1m5/5\u001b[0m \u001b[32m━━━━━━━━━━━━━━━━━━━━\u001b[0m\u001b[37m\u001b[0m \u001b[1m1s\u001b[0m 91ms/step - accuracy: 0.1701 - loss: 1.9429 - val_accuracy: 0.1923 - val_loss: 1.9439\n",
            "Epoch 10/10\n",
            "\u001b[1m5/5\u001b[0m \u001b[32m━━━━━━━━━━━━━━━━━━━━\u001b[0m\u001b[37m\u001b[0m \u001b[1m1s\u001b[0m 123ms/step - accuracy: 0.1736 - loss: 1.9429 - val_accuracy: 0.1923 - val_loss: 1.9439\n"
          ]
        }
      ]
    },
    {
      "cell_type": "code",
      "source": [
        "# Showing the learned model\n",
        "w = model_tf.layers[0].get_weights()[0].T\n",
        "# ^tf gives the weights as (features x class), so need to transpose it\n",
        "b = model_tf.layers[0].get_weights()[1]\n",
        "\n",
        "print('Bias:', b)\n",
        "print('Weights:', w)\n",
        "w.shape"
      ],
      "metadata": {
        "colab": {
          "base_uri": "https://localhost:8080/"
        },
        "id": "0CBCLuoj1chL",
        "outputId": "699db5c1-869a-4589-df11-d819e8c15f35"
      },
      "id": "0CBCLuoj1chL",
      "execution_count": 31,
      "outputs": [
        {
          "output_type": "stream",
          "name": "stdout",
          "text": [
            "Bias: [-1.0821936e-02 -2.2739368e-03 -2.0131834e-03 -6.2218853e-03\n",
            " -9.2308364e-05  3.1626553e-03  1.4015350e-04]\n",
            "Weights: [[ 8.26274790e-03 -5.96714485e-03 -5.18182432e-03 -1.15245599e-02\n",
            "  -1.04587348e-02  4.81875194e-03 -6.85965363e-03 -2.65941699e-03\n",
            "   5.59986709e-03 -9.36668739e-03  8.57754797e-03  1.35898767e-02\n",
            "  -2.67518102e-03  1.16937580e-02  1.42448386e-02 -1.80910027e-03\n",
            "  -5.51319029e-03  1.04832007e-02 -1.15214381e-02 -2.20899377e-02\n",
            "   2.42536496e-02  2.01455131e-03 -3.82459303e-03  9.02665965e-03\n",
            "   1.65427476e-02 -1.56056334e-03 -4.10495239e-04 -1.13621494e-02\n",
            "   5.91176003e-03  9.74727329e-03 -1.29128341e-02 -1.69632323e-02\n",
            "  -9.06441640e-03 -7.61130126e-03  6.99815154e-03]\n",
            " [ 8.55955109e-03 -1.85833208e-03 -5.28304838e-04 -2.04219483e-03\n",
            "  -7.86982663e-03  1.48936324e-02  5.04953740e-03 -4.87013720e-03\n",
            "  -1.84728689e-02  2.31109187e-02  1.37421396e-03  9.81570408e-03\n",
            "   5.40001644e-03 -4.01381450e-03  6.47974201e-03 -1.58849768e-02\n",
            "   1.78883541e-02  1.05251111e-02 -7.60955596e-03 -1.19740807e-03\n",
            "   5.25645912e-03 -5.01295133e-03 -1.34650953e-02 -5.48806088e-03\n",
            "   5.47758164e-03 -2.64574517e-03 -1.22394180e-04  1.23146158e-02\n",
            "   1.49601633e-02  5.16302045e-03 -1.29714683e-02  3.34399613e-03\n",
            "   8.54707975e-03 -1.03664715e-02  1.51253836e-02]\n",
            " [ 2.27803718e-02  1.15195019e-02 -1.89357565e-03 -3.18798673e-04\n",
            "  -1.00890351e-02 -8.18289444e-03  2.51321238e-03 -6.58085058e-03\n",
            "   7.62223452e-03 -4.81837895e-03  6.64860150e-03 -7.51530612e-03\n",
            "   3.48150590e-03  8.08390696e-03 -9.10701696e-03  2.27122824e-03\n",
            "   1.40825845e-02  2.16333382e-02 -8.51927884e-03  6.78734342e-03\n",
            "  -7.10173044e-03 -3.31645459e-03 -9.95997153e-03 -2.77212448e-03\n",
            "   1.39097758e-02  8.73880403e-04 -2.77365148e-02  5.82832377e-04\n",
            "  -8.09922908e-03  5.70837688e-03 -7.06364459e-04  1.14565091e-02\n",
            "  -1.77844462e-03 -1.10991858e-02 -2.74417456e-03]\n",
            " [ 1.74512435e-02 -1.06359990e-02 -1.01931933e-02  7.03310594e-04\n",
            "   4.94414382e-03 -1.37387542e-02 -1.94596238e-02  2.26932531e-03\n",
            "   6.41159853e-03  4.13434347e-03  1.64118577e-02  8.91140383e-03\n",
            "   2.09452072e-03 -6.51500141e-03  1.02105523e-02 -1.76550052e-03\n",
            "   1.31934078e-03 -1.23616233e-02  1.27658714e-02  1.93348667e-03\n",
            "  -2.48808437e-03 -9.37405322e-03  1.04921358e-02 -1.04551751e-03\n",
            "  -2.62781698e-02 -8.25771829e-04 -6.97261188e-03 -1.30168181e-02\n",
            "   3.69854271e-03 -4.69446322e-03  2.05492470e-02 -7.50438683e-03\n",
            "   3.53101734e-03 -9.95533727e-03  1.54631287e-02]\n",
            " [ 4.46218112e-03 -1.26530528e-02 -2.08459562e-03  1.24585507e-02\n",
            "   1.09901596e-02 -6.24380074e-03 -3.46847298e-03 -3.02027678e-03\n",
            "   9.45253670e-03 -1.07259518e-02  2.37797853e-02  1.43187065e-02\n",
            "   4.70441626e-03  2.25944985e-02 -6.32787310e-03 -3.72616295e-03\n",
            "   8.38026218e-03 -3.31356819e-03  5.50692156e-03  1.08351670e-02\n",
            "  -3.37636191e-03  1.74950599e-03 -4.30562883e-04  2.49723182e-03\n",
            "   2.18898449e-02 -1.46661382e-02 -5.04523702e-03  1.47751309e-02\n",
            "   1.83833670e-03 -8.87756329e-03  1.77034419e-02  1.55047299e-02\n",
            "  -1.57477241e-02  8.62009265e-03 -6.25290023e-03]\n",
            " [ 9.77728609e-03 -4.25108755e-03  7.88199808e-03  2.61327322e-03\n",
            "  -1.51879620e-02  1.14381695e-02 -3.33654811e-03 -1.34253083e-02\n",
            "   1.44799072e-02  1.18982671e-02  8.47555324e-03 -7.78032001e-03\n",
            "  -1.31079266e-02  9.64947231e-03 -7.21437609e-05  1.96260540e-03\n",
            "  -9.58891772e-03 -1.17567359e-02  1.91768527e-03 -5.24095539e-03\n",
            "   3.00083356e-03  2.00710469e-03  3.34793585e-03 -1.87564977e-02\n",
            "   1.02936327e-02 -9.79656354e-03 -8.57825857e-03 -4.66643274e-03\n",
            "  -6.34372327e-03  1.31298701e-04 -1.40792057e-02 -1.85793042e-02\n",
            "  -8.98990594e-03 -3.83611815e-03 -1.48191536e-02]\n",
            " [-6.15181215e-03  7.11120479e-03  1.21635152e-02  1.26210004e-02\n",
            "  -7.02746352e-03  1.12939561e-02 -1.52483312e-02  7.24398484e-03\n",
            "  -7.77766155e-03 -2.43495940e-03  1.00556891e-02  6.58457028e-03\n",
            "   3.14646680e-03 -1.23606361e-02 -2.16991946e-04 -2.68637799e-02\n",
            "   4.61653946e-03  2.13965550e-02 -7.54002202e-03 -1.50961839e-02\n",
            "   2.73351581e-03 -5.51450299e-03  9.55881458e-03  7.78555579e-04\n",
            "   7.88431708e-03  1.10618342e-02  1.38768516e-02 -1.02268821e-02\n",
            "   5.93150873e-03  8.14273208e-03 -4.56155231e-03 -2.14677490e-02\n",
            "   6.20456412e-03  1.00693237e-02  2.19638576e-03]]\n"
          ]
        },
        {
          "output_type": "execute_result",
          "data": {
            "text/plain": [
              "(7, 35)"
            ]
          },
          "metadata": {},
          "execution_count": 31
        }
      ]
    },
    {
      "cell_type": "code",
      "source": [
        "# 3. Generating a plot with loss on y-axis and epoch on x-axis\n",
        "hist = model_tf_fit.history\n",
        "plt.plot(range(1, num_epochs+1), hist['loss'], label='Training Loss')\n",
        "plt.plot(range(1, num_epochs+1), hist['val_loss'], label='Validation Loss')\n",
        "plt.xlabel('Epochs')\n",
        "plt.ylabel('Loss')\n",
        "plt.title('Loss vs Epoch')\n",
        "plt.legend()\n",
        "plt.show()"
      ],
      "metadata": {
        "colab": {
          "base_uri": "https://localhost:8080/",
          "height": 472
        },
        "id": "eUcT5yUN46AO",
        "outputId": "ba209c7d-0e50-467b-9b7d-e514fc712c22"
      },
      "id": "eUcT5yUN46AO",
      "execution_count": 32,
      "outputs": [
        {
          "output_type": "display_data",
          "data": {
            "text/plain": [
              "<Figure size 640x480 with 1 Axes>"
            ],
            "image/png": "[encoded data removed]"
          },
          "metadata": {}
        }
      ]
    },
    {
      "cell_type": "markdown",
      "id": "b7872617",
      "metadata": {
        "id": "b7872617"
      },
      "source": [
        "---\n",
        "### Step 5: Hyperparameter tuning"
      ]
    },
    {
      "cell_type": "markdown",
      "id": "29cd6bec",
      "metadata": {
        "id": "29cd6bec"
      },
      "source": [
        "### <span style=\"color:chocolate\">Exercise 7:</span> Choosing hyperparameters (10 points)"
      ]
    },
    {
      "cell_type": "markdown",
      "id": "97a6c715",
      "metadata": {
        "id": "97a6c715"
      },
      "source": [
        "1. Fine-tune the **learning rate**, **number of epochs**, and **batch size** hyperparameters of *model_tf* to determine the setup that yields the most optimal generalization performance. Feel free to explore various values for these hyperparameters. Hint: you can manually test different hyperparameter values or you can use the [Keras Tuner](https://www.tensorflow.org/tutorials/keras/keras_tuner).\n",
        "\n",
        "After identifying your preferred model configuration, print the following information:\n",
        "\n",
        "2. The first five learned parameters of the model (this should include the bias term);\n",
        "3. The loss at the final epoch on both the training and validation datasets;\n",
        "4. The percentage difference between the losses observed on the training and validation datasets.\n",
        "5. Compare the training/validation loss of the TensorFlow model (model_tf) with the baseline model's loss. Does the TensorFlow model demonstrate an improvement over the baseline model?"
      ]
    },
    {
      "cell_type": "code",
      "execution_count": 33,
      "id": "fb087a1c",
      "metadata": {
        "colab": {
          "base_uri": "https://localhost:8080/"
        },
        "id": "fb087a1c",
        "outputId": "2d765a6c-d555-4502-b6e3-3fbe88f5fe00"
      },
      "outputs": [
        {
          "output_type": "stream",
          "name": "stdout",
          "text": [
            "Epoch 1/25\n",
            "\u001b[1m16/16\u001b[0m \u001b[32m━━━━━━━━━━━━━━━━━━━━\u001b[0m\u001b[37m\u001b[0m \u001b[1m2s\u001b[0m 64ms/step - accuracy: 0.1769 - loss: 1.9133 - val_accuracy: 0.4038 - val_loss: 1.5953\n",
            "Epoch 2/25\n",
            "\u001b[1m16/16\u001b[0m \u001b[32m━━━━━━━━━━━━━━━━━━━━\u001b[0m\u001b[37m\u001b[0m \u001b[1m1s\u001b[0m 35ms/step - accuracy: 0.4418 - loss: 1.6335 - val_accuracy: 0.5192 - val_loss: 1.4311\n",
            "Epoch 3/25\n",
            "\u001b[1m16/16\u001b[0m \u001b[32m━━━━━━━━━━━━━━━━━━━━\u001b[0m\u001b[37m\u001b[0m \u001b[1m1s\u001b[0m 53ms/step - accuracy: 0.5268 - loss: 1.4785 - val_accuracy: 0.5385 - val_loss: 1.3400\n",
            "Epoch 4/25\n",
            "\u001b[1m16/16\u001b[0m \u001b[32m━━━━━━━━━━━━━━━━━━━━\u001b[0m\u001b[37m\u001b[0m \u001b[1m1s\u001b[0m 55ms/step - accuracy: 0.5487 - loss: 1.3836 - val_accuracy: 0.5385 - val_loss: 1.2838\n",
            "Epoch 5/25\n",
            "\u001b[1m16/16\u001b[0m \u001b[32m━━━━━━━━━━━━━━━━━━━━\u001b[0m\u001b[37m\u001b[0m \u001b[1m1s\u001b[0m 58ms/step - accuracy: 0.5576 - loss: 1.3192 - val_accuracy: 0.5385 - val_loss: 1.2459\n",
            "Epoch 6/25\n",
            "\u001b[1m16/16\u001b[0m \u001b[32m━━━━━━━━━━━━━━━━━━━━\u001b[0m\u001b[37m\u001b[0m \u001b[1m0s\u001b[0m 19ms/step - accuracy: 0.5587 - loss: 1.2718 - val_accuracy: 0.5385 - val_loss: 1.2187\n",
            "Epoch 7/25\n",
            "\u001b[1m16/16\u001b[0m \u001b[32m━━━━━━━━━━━━━━━━━━━━\u001b[0m\u001b[37m\u001b[0m \u001b[1m0s\u001b[0m 16ms/step - accuracy: 0.5624 - loss: 1.2348 - val_accuracy: 0.5577 - val_loss: 1.1985\n",
            "Epoch 8/25\n",
            "\u001b[1m16/16\u001b[0m \u001b[32m━━━━━━━━━━━━━━━━━━━━\u001b[0m\u001b[37m\u001b[0m \u001b[1m0s\u001b[0m 11ms/step - accuracy: 0.5824 - loss: 1.2049 - val_accuracy: 0.5577 - val_loss: 1.1831\n",
            "Epoch 9/25\n",
            "\u001b[1m16/16\u001b[0m \u001b[32m━━━━━━━━━━━━━━━━━━━━\u001b[0m\u001b[37m\u001b[0m \u001b[1m0s\u001b[0m 23ms/step - accuracy: 0.6096 - loss: 1.1799 - val_accuracy: 0.5577 - val_loss: 1.1712\n",
            "Epoch 10/25\n",
            "\u001b[1m16/16\u001b[0m \u001b[32m━━━━━━━━━━━━━━━━━━━━\u001b[0m\u001b[37m\u001b[0m \u001b[1m1s\u001b[0m 30ms/step - accuracy: 0.6240 - loss: 1.1588 - val_accuracy: 0.5577 - val_loss: 1.1619\n",
            "Epoch 11/25\n",
            "\u001b[1m16/16\u001b[0m \u001b[32m━━━━━━━━━━━━━━━━━━━━\u001b[0m\u001b[37m\u001b[0m \u001b[1m0s\u001b[0m 13ms/step - accuracy: 0.6443 - loss: 1.1405 - val_accuracy: 0.5577 - val_loss: 1.1545\n",
            "Epoch 12/25\n",
            "\u001b[1m16/16\u001b[0m \u001b[32m━━━━━━━━━━━━━━━━━━━━\u001b[0m\u001b[37m\u001b[0m \u001b[1m0s\u001b[0m 17ms/step - accuracy: 0.6443 - loss: 1.1245 - val_accuracy: 0.5577 - val_loss: 1.1487\n",
            "Epoch 13/25\n",
            "\u001b[1m16/16\u001b[0m \u001b[32m━━━━━━━━━━━━━━━━━━━━\u001b[0m\u001b[37m\u001b[0m \u001b[1m1s\u001b[0m 10ms/step - accuracy: 0.6443 - loss: 1.1105 - val_accuracy: 0.5577 - val_loss: 1.1440\n",
            "Epoch 14/25\n",
            "\u001b[1m16/16\u001b[0m \u001b[32m━━━━━━━━━━━━━━━━━━━━\u001b[0m\u001b[37m\u001b[0m \u001b[1m0s\u001b[0m 22ms/step - accuracy: 0.6443 - loss: 1.0980 - val_accuracy: 0.5577 - val_loss: 1.1403\n",
            "Epoch 15/25\n",
            "\u001b[1m16/16\u001b[0m \u001b[32m━━━━━━━━━━━━━━━━━━━━\u001b[0m\u001b[37m\u001b[0m \u001b[1m0s\u001b[0m 20ms/step - accuracy: 0.6443 - loss: 1.0868 - val_accuracy: 0.5577 - val_loss: 1.1372\n",
            "Epoch 16/25\n",
            "\u001b[1m16/16\u001b[0m \u001b[32m━━━━━━━━━━━━━━━━━━━━\u001b[0m\u001b[37m\u001b[0m \u001b[1m0s\u001b[0m 14ms/step - accuracy: 0.6443 - loss: 1.0767 - val_accuracy: 0.5577 - val_loss: 1.1348\n",
            "Epoch 17/25\n",
            "\u001b[1m16/16\u001b[0m \u001b[32m━━━━━━━━━━━━━━━━━━━━\u001b[0m\u001b[37m\u001b[0m \u001b[1m0s\u001b[0m 14ms/step - accuracy: 0.6443 - loss: 1.0676 - val_accuracy: 0.5577 - val_loss: 1.1329\n",
            "Epoch 18/25\n",
            "\u001b[1m16/16\u001b[0m \u001b[32m━━━━━━━━━━━━━━━━━━━━\u001b[0m\u001b[37m\u001b[0m \u001b[1m0s\u001b[0m 17ms/step - accuracy: 0.6328 - loss: 1.0593 - val_accuracy: 0.5769 - val_loss: 1.1313\n",
            "Epoch 19/25\n",
            "\u001b[1m16/16\u001b[0m \u001b[32m━━━━━━━━━━━━━━━━━━━━\u001b[0m\u001b[37m\u001b[0m \u001b[1m1s\u001b[0m 16ms/step - accuracy: 0.6328 - loss: 1.0518 - val_accuracy: 0.5769 - val_loss: 1.1301\n",
            "Epoch 20/25\n",
            "\u001b[1m16/16\u001b[0m \u001b[32m━━━━━━━━━━━━━━━━━━━━\u001b[0m\u001b[37m\u001b[0m \u001b[1m1s\u001b[0m 23ms/step - accuracy: 0.6328 - loss: 1.0449 - val_accuracy: 0.5769 - val_loss: 1.1292\n",
            "Epoch 21/25\n",
            "\u001b[1m16/16\u001b[0m \u001b[32m━━━━━━━━━━━━━━━━━━━━\u001b[0m\u001b[37m\u001b[0m \u001b[1m0s\u001b[0m 11ms/step - accuracy: 0.6328 - loss: 1.0385 - val_accuracy: 0.5769 - val_loss: 1.1285\n",
            "Epoch 22/25\n",
            "\u001b[1m16/16\u001b[0m \u001b[32m━━━━━━━━━━━━━━━━━━━━\u001b[0m\u001b[37m\u001b[0m \u001b[1m0s\u001b[0m 19ms/step - accuracy: 0.6328 - loss: 1.0327 - val_accuracy: 0.5769 - val_loss: 1.1280\n",
            "Epoch 23/25\n",
            "\u001b[1m16/16\u001b[0m \u001b[32m━━━━━━━━━━━━━━━━━━━━\u001b[0m\u001b[37m\u001b[0m \u001b[1m1s\u001b[0m 21ms/step - accuracy: 0.6328 - loss: 1.0274 - val_accuracy: 0.5769 - val_loss: 1.1276\n",
            "Epoch 24/25\n",
            "\u001b[1m16/16\u001b[0m \u001b[32m━━━━━━━━━━━━━━━━━━━━\u001b[0m\u001b[37m\u001b[0m \u001b[1m0s\u001b[0m 12ms/step - accuracy: 0.6328 - loss: 1.0224 - val_accuracy: 0.5769 - val_loss: 1.1275\n",
            "Epoch 25/25\n",
            "\u001b[1m16/16\u001b[0m \u001b[32m━━━━━━━━━━━━━━━━━━━━\u001b[0m\u001b[37m\u001b[0m \u001b[1m0s\u001b[0m 22ms/step - accuracy: 0.6371 - loss: 1.0179 - val_accuracy: 0.5769 - val_loss: 1.1274\n"
          ]
        }
      ],
      "source": [
        "# YOUR CODE HERE\n",
        "tf.random.set_seed(1234)\n",
        "np.random.seed(1234)\n",
        "\n",
        "# Manually fine tuning the learning rate, number of epochs, and batch size\n",
        "num_epochs_m = 25\n",
        "learning_rate_m = 0.999999\n",
        "batch_size_m = 10\n",
        "model_tf_m = build_model(num_features = X_train.shape[1],\n",
        "    learning_rate = learning_rate_m)\n",
        "\n",
        "# Training manual model\n",
        "model_tf_m_fit = model_tf_m.fit(\n",
        "    x = X_train,\n",
        "    y = Y_train,\n",
        "    validation_data = [X_val, Y_val],\n",
        "    epochs = num_epochs_m,\n",
        "    batch_size = batch_size_m,\n",
        "    verbose = 1\n",
        ")"
      ]
    },
    {
      "cell_type": "code",
      "source": [
        "# Getting the history of the model\n",
        "hist_m = model_tf_m_fit.history\n",
        "\n",
        "# Plotting the loss vs epoch curve with tuned model\n",
        "plt.plot(range(1, num_epochs_m+1), hist_m['loss'], label='Training Loss')\n",
        "plt.plot(range(1, num_epochs_m+1), hist_m['val_loss'], label='Validation Loss')\n",
        "plt.xlabel('Epochs')\n",
        "plt.ylabel('Loss (after manual fine tuning)')\n",
        "plt.title('Loss vs Epochs After Manual Hyperparameter Fine Tuning')\n",
        "plt.legend()\n",
        "plt.show()"
      ],
      "metadata": {
        "colab": {
          "base_uri": "https://localhost:8080/",
          "height": 472
        },
        "id": "_oUmaHA46QJy",
        "outputId": "5adad8bd-caf3-4b9b-9f09-e4df2b497be1"
      },
      "id": "_oUmaHA46QJy",
      "execution_count": 34,
      "outputs": [
        {
          "output_type": "display_data",
          "data": {
            "text/plain": [
              "<Figure size 640x480 with 1 Axes>"
            ],
            "image/png": "[encoded data removed]"
          },
          "metadata": {}
        }
      ]
    },
    {
      "cell_type": "code",
      "source": [
        "print(\"Manually tuning the number of epochs, learning rate, and batch size\")\n",
        "print(\"ultimately yielded a curve that looks like the above. Some interesting\")\n",
        "print(\"findings are as follow:\")\n",
        "print(\" - Increasing the number of epochs essentially gets the model to where\")\n",
        "print(\"it ultimately will go (at least for the training data). In other words,\")\n",
        "print(\"if the model were going to diverge, increasing the epochs will allow\")\n",
        "print(\"you to see that. If it were going to converge at a certain point, you\")\n",
        "print(\"will be able to see that as well. What it also does is show you when\")\n",
        "print(\"the validation loss starts reversing, as the model overfits and it gets\")\n",
        "print(\"worse and worse at predicting the validation dataset. The spot where\")\n",
        "print(\"the derivative of the validation loss is 0 (that reversal point) should\")\n",
        "print(\"theoretically be the ideal point to train to.\")\n",
        "print(\" - Changing the learning rate allows our gradient descent algorithm to\")\n",
        "print(\"'run faster' essentially. In other words, having a higher learning rate\")\n",
        "print(\"should make the convergence happen faster. Normally, when the learning\")\n",
        "print(\"rate is too large, there is a chance that it will diverge as it shoots\")\n",
        "print(\"past the global minimum. However, since our model is just generally\")\n",
        "print(\"not great (as we saw in the heatmap and pairplots), even a high\")\n",
        "print(\"rate is not that large of an issue.\")\n",
        "print(\" - Changing the batch size yielded the most interesting results. As\")\n",
        "print(\"demonstrated in a previous assignment, pure SGD with a batch size of\")\n",
        "print(\"1 causes the model to converge incredibly quickly, as the model will\")\n",
        "print(\"update the parameters after each data point. However, this will also\")\n",
        "print(\"introduce a lot of noise into the model, and you likely won't get to\")\n",
        "print(\"the ideal minimum you're looking for. Thus, decreasing the batch size\")\n",
        "print(\"to expedite the training of the model without overshooting it is\")\n",
        "print(\"paramount. Through manual testing, I found that a batch size of 10 was\")\n",
        "print(\"sufficient for the model to train relatively quickly, and without\")\n",
        "print(\"overfitting too much.\")"
      ],
      "metadata": {
        "colab": {
          "base_uri": "https://localhost:8080/"
        },
        "id": "3KK-QguQ6Qol",
        "outputId": "7e6e0671-f307-4a2b-91c4-f365023e9d9d"
      },
      "id": "3KK-QguQ6Qol",
      "execution_count": 35,
      "outputs": [
        {
          "output_type": "stream",
          "name": "stdout",
          "text": [
            "Manually tuning the number of epochs, learning rate, and batch size\n",
            "ultimately yielded a curve that looks like the above. Some interesting\n",
            "findings are as follow:\n",
            " - Increasing the number of epochs essentially gets the model to where\n",
            "it ultimately will go (at least for the training data). In other words,\n",
            "if the model were going to diverge, increasing the epochs will allow\n",
            "you to see that. If it were going to converge at a certain point, you\n",
            "will be able to see that as well. What it also does is show you when\n",
            "the validation loss starts reversing, as the model overfits and it gets\n",
            "worse and worse at predicting the validation dataset. The spot where\n",
            "the derivative of the validation loss is 0 (that reversal point) should\n",
            "theoretically be the ideal point to train to.\n",
            " - Changing the learning rate allows our gradient descent algorithm to\n",
            "'run faster' essentially. In other words, having a higher learning rate\n",
            "should make the convergence happen faster. Normally, when the learning\n",
            "rate is too large, there is a chance that it will diverge as it shoots\n",
            "past the global minimum. However, since our model is just generally\n",
            "not great (as we saw in the heatmap and pairplots), even a high\n",
            "rate is not that large of an issue.\n",
            " - Changing the batch size yielded the most interesting results. As\n",
            "demonstrated in a previous assignment, pure SGD with a batch size of\n",
            "1 causes the model to converge incredibly quickly, as the model will\n",
            "update the parameters after each data point. However, this will also\n",
            "introduce a lot of noise into the model, and you likely won't get to\n",
            "the ideal minimum you're looking for. Thus, decreasing the batch size\n",
            "to expedite the training of the model without overshooting it is\n",
            "paramount. Through manual testing, I found that a batch size of 10 was\n",
            "sufficient for the model to train relatively quickly, and without\n",
            "overfitting too much.\n"
          ]
        }
      ]
    },
    {
      "cell_type": "code",
      "source": [
        "print(\"Checking out the accuracy shows us that it's still not great:\")\n",
        "print(\" - Training accuracy:\", model_tf_m.evaluate(X_train, Y_train, verbose = 0)[1])\n",
        "print(\" - Validation accuracy:\", model_tf_m.evaluate(X_val, Y_val, verbose = 0)[1])\n",
        "\n",
        "print(f\"\\nHowever, compared with the original accuracy ({perc_major_class:.5f}),\")\n",
        "print(\"it's definitely better in comparison.\")"
      ],
      "metadata": {
        "colab": {
          "base_uri": "https://localhost:8080/"
        },
        "id": "Sjx1gWOWHWOE",
        "outputId": "e1e5ce99-b2bd-41fd-d641-695702c6bb65"
      },
      "id": "Sjx1gWOWHWOE",
      "execution_count": 36,
      "outputs": [
        {
          "output_type": "stream",
          "name": "stdout",
          "text": [
            "Checking out the accuracy shows us that it's still not great:\n",
            " - Training accuracy: 0.6645161509513855\n",
            " - Validation accuracy: 0.5769230723381042\n",
            "\n",
            "However, compared with the original accuracy (0.17419),\n",
            "it's definitely better in comparison.\n"
          ]
        }
      ]
    },
    {
      "cell_type": "code",
      "source": [
        "# Plotting the loss on the first subplot\n",
        "fig = plt.figure(figsize = (16, 4))\n",
        "ax = fig.add_subplot(1, 2, 1)\n",
        "plt.plot(range(1, num_epochs_m+1), hist_m['loss'], label='Training Loss')\n",
        "plt.plot(range(1, num_epochs_m+1), hist_m['val_loss'], label='Validation Loss')\n",
        "plt.legend()\n",
        "ax.set_xlabel('Epochs')\n",
        "ax.set_title('Loss after manual hyperparameter fine tuning');\n",
        "\n",
        "# Plotting the accuracy on the second subplot\n",
        "ax = fig.add_subplot(1, 2, 2)\n",
        "plt.plot(range(1, num_epochs_m+1), hist_m['accuracy'], label='Training Acc')\n",
        "plt.plot(range(1, num_epochs_m+1), hist_m['val_accuracy'], label='Validation Acc')\n",
        "plt.legend()\n",
        "ax.set_xlabel('Epochs')\n",
        "ax.set_title('Accuracy after manual hyperparameter fine tuning')\n",
        "plt.show()"
      ],
      "metadata": {
        "colab": {
          "base_uri": "https://localhost:8080/",
          "height": 410
        },
        "id": "xhEim7RmFjBY",
        "outputId": "ae8f69c6-b5cd-46cf-a8bc-12a65023fbd0"
      },
      "id": "xhEim7RmFjBY",
      "execution_count": 37,
      "outputs": [
        {
          "output_type": "display_data",
          "data": {
            "text/plain": [
              "<Figure size 1600x400 with 2 Axes>"
            ],
            "image/png": "[encoded data removed]"
          },
          "metadata": {}
        }
      ]
    },
    {
      "cell_type": "code",
      "source": [
        "print(\"Overall, the loss after manual hyperparameter tuning showed that the\")\n",
        "print(\"training loss ended at:\", hist_m['loss'][-1])\n",
        "print(\"and the validation loss ended at:\", hist_m['val_loss'][-1], '\\n')\n",
        "\n",
        "print(\"These are perhaps not great compared to what we've seen in previous\")\n",
        "print(\"assignments, but they're still better than our baseline:\")\n",
        "print(\"Y_train_baseline loss:\", compute_log_loss(Y_train_baseline, Y_train))\n",
        "print(\"Y_val_baseline loss:\", compute_log_loss(Y_val_baseline, Y_val))"
      ],
      "metadata": {
        "colab": {
          "base_uri": "https://localhost:8080/"
        },
        "id": "bJzJB2dhJdiv",
        "outputId": "a5e9afe3-45e0-4939-e47e-9e5801d3a938"
      },
      "id": "bJzJB2dhJdiv",
      "execution_count": 38,
      "outputs": [
        {
          "output_type": "stream",
          "name": "stdout",
          "text": [
            "Overall, the loss after manual hyperparameter tuning showed that the\n",
            "training loss ended at: 1.0611215829849243\n",
            "and the validation loss ended at: 1.1274081468582153 \n",
            "\n",
            "These are perhaps not great compared to what we've seen in previous\n",
            "assignments, but they're still better than our baseline:\n",
            "Y_train_baseline loss: 1.935718763045062\n",
            "Y_val_baseline loss: 2.003628574856231\n"
          ]
        }
      ]
    },
    {
      "cell_type": "code",
      "source": [
        "# We will now try getting optimal hyperparameters using keras tuner"
      ],
      "metadata": {
        "id": "nlCo45SP6l8G"
      },
      "id": "nlCo45SP6l8G",
      "execution_count": 39,
      "outputs": []
    },
    {
      "cell_type": "code",
      "source": [
        "# Now using Keras Tuner:\n",
        "def model_builder(hp):\n",
        "\n",
        "  # Resetting tf for consistent results\n",
        "  tf.keras.backend.clear_session()\n",
        "  tf.random.set_seed(0)\n",
        "\n",
        "  # Building a model using tf Sequential\n",
        "  model = tf.keras.Sequential()\n",
        "\n",
        "  # Getting the input layer\n",
        "  model.add(tf.keras.Input(shape=(35,), name='Input'))\n",
        "\n",
        "  # Tune the number of units in the first Dense layer\n",
        "  # Choose an optimal value between 32-512\n",
        "  hp_units = hp.Int('units', min_value=32, max_value=512, step=32)\n",
        "  model.add(tf.keras.layers.Dense(units=hp_units, activation='relu'))\n",
        "\n",
        "  # Getting the output layer\n",
        "  model.add(tf.keras.layers.Dense(\n",
        "        units = 7,\n",
        "        use_bias = True,\n",
        "        activation = 'softmax',\n",
        "        kernel_initializer=initializers.RandomNormal(stddev=0.01),\n",
        "        bias_initializer=initializers.RandomNormal(stddev=0.01),\n",
        "        name='Output'\n",
        "  ))\n",
        "\n",
        "  # Tune the learning rate for the optimizer\n",
        "  # Choose an optimal value from 0.999999, 0.9999, 0.99, or 0.9\n",
        "  hp_learning_rate = hp.Choice('learning_rate', values=[999999e-6, 9999e-4, 99e-2, 9e-1])\n",
        "\n",
        "  # Getting the optimizer\n",
        "  optimizer = tf.keras.optimizers.SGD(learning_rate=hp_learning_rate)\n",
        "\n",
        "  model.compile(optimizer=optimizer,\n",
        "                loss=tf.keras.losses.SparseCategoricalCrossentropy(from_logits=False),\n",
        "                metrics=['accuracy'])\n",
        "  # ^from_logits = False means that you have a softmax activation in the last layer,\n",
        "  # ^and that the model doesn't need to do it for you\n",
        "\n",
        "  return model\n"
      ],
      "metadata": {
        "id": "eiThnwuQgP9Z"
      },
      "id": "eiThnwuQgP9Z",
      "execution_count": 40,
      "outputs": []
    },
    {
      "cell_type": "code",
      "source": [
        "# Instantiating Hyperband tuner (with the objective being the validation loss)\n",
        "tuner = kt.Hyperband(model_builder,\n",
        "                     objective='val_loss',\n",
        "                     max_epochs=50,\n",
        "                     factor=3,\n",
        "                     overwrite=True)"
      ],
      "metadata": {
        "id": "4hkC1rbrkRz0"
      },
      "id": "4hkC1rbrkRz0",
      "execution_count": 41,
      "outputs": []
    },
    {
      "cell_type": "code",
      "source": [
        "# Creating a callback to stop training early after reaching a certain value for\n",
        "# the validation loss (i.e., if val_loss hasn't improved in 5 epochs, it will move on)\n",
        "stop_early = tf.keras.callbacks.EarlyStopping(monitor='val_loss', patience=5)"
      ],
      "metadata": {
        "id": "6G9PHNE1kZvs"
      },
      "id": "6G9PHNE1kZvs",
      "execution_count": 42,
      "outputs": []
    },
    {
      "cell_type": "code",
      "source": [
        "# Running the hyperparameter search\n",
        "tuner.search(X_train, Y_train, epochs=30, validation_data = [X_val, Y_val],\n",
        "  callbacks=[stop_early])\n",
        "\n",
        "# Get the optimal hyperparameters\n",
        "best_hps = tuner.get_best_hyperparameters(num_trials=1)[0]\n",
        "best_hps"
      ],
      "metadata": {
        "colab": {
          "base_uri": "https://localhost:8080/"
        },
        "id": "VaTfWETHlMPC",
        "outputId": "48a18053-96c0-4d75-ddde-8f267404dc8a"
      },
      "id": "VaTfWETHlMPC",
      "execution_count": 43,
      "outputs": [
        {
          "output_type": "stream",
          "name": "stdout",
          "text": [
            "Trial 65 Complete [00h 00m 04s]\n",
            "val_loss: 1.3029468059539795\n",
            "\n",
            "Best val_loss So Far: 1.1501095294952393\n",
            "Total elapsed time: 00h 02m 28s\n"
          ]
        },
        {
          "output_type": "execute_result",
          "data": {
            "text/plain": [
              "<keras_tuner.src.engine.hyperparameters.hyperparameters.HyperParameters at 0x7e7fbe224c90>"
            ]
          },
          "metadata": {},
          "execution_count": 43
        }
      ]
    },
    {
      "cell_type": "code",
      "source": [
        "print(f\"\"\"\n",
        "The hyperparameter search is complete. The optimal number of units in the first densely-connected\n",
        "layer is {best_hps.get('units')} and the optimal learning rate for the optimizer\n",
        "is {best_hps.get('learning_rate')}.\n",
        "\"\"\")"
      ],
      "metadata": {
        "colab": {
          "base_uri": "https://localhost:8080/"
        },
        "id": "ssLh0sFAm2qp",
        "outputId": "f1ca9d3e-9258-494d-afbb-0ab5c7aa468b"
      },
      "id": "ssLh0sFAm2qp",
      "execution_count": 44,
      "outputs": [
        {
          "output_type": "stream",
          "name": "stdout",
          "text": [
            "\n",
            "The hyperparameter search is complete. The optimal number of units in the first densely-connected\n",
            "layer is 320 and the optimal learning rate for the optimizer\n",
            "is 0.999999.\n",
            "\n"
          ]
        }
      ]
    },
    {
      "cell_type": "code",
      "source": [
        "# Training the model (starting with building the model with the optimal)\n",
        "# hyperparameters and training it on the data for 50 epochs\n",
        "model_hp = tuner.hypermodel.build(best_hps)\n",
        "history_hp = model_hp.fit(X_train, Y_train, epochs=50, validation_data=[X_val, Y_val])\n",
        "\n",
        "val_loss_per_epoch = history_hp.history['val_loss']\n",
        "best_epoch = val_loss_per_epoch.index(min(val_loss_per_epoch)) + 1\n",
        "print('Best epoch: %d' % (best_epoch,))"
      ],
      "metadata": {
        "colab": {
          "base_uri": "https://localhost:8080/"
        },
        "id": "HrxTH9nsm4cb",
        "outputId": "51c80a51-c79a-4500-bfac-3fc882f59d69"
      },
      "id": "HrxTH9nsm4cb",
      "execution_count": 45,
      "outputs": [
        {
          "output_type": "stream",
          "name": "stdout",
          "text": [
            "Epoch 1/50\n",
            "\u001b[1m5/5\u001b[0m \u001b[32m━━━━━━━━━━━━━━━━━━━━\u001b[0m\u001b[37m\u001b[0m \u001b[1m1s\u001b[0m 60ms/step - accuracy: 0.2402 - loss: 1.9398 - val_accuracy: 0.2885 - val_loss: 1.8729\n",
            "Epoch 2/50\n",
            "\u001b[1m5/5\u001b[0m \u001b[32m━━━━━━━━━━━━━━━━━━━━\u001b[0m\u001b[37m\u001b[0m \u001b[1m0s\u001b[0m 17ms/step - accuracy: 0.3717 - loss: 1.8342 - val_accuracy: 0.3654 - val_loss: 1.7616\n",
            "Epoch 3/50\n",
            "\u001b[1m5/5\u001b[0m \u001b[32m━━━━━━━━━━━━━━━━━━━━\u001b[0m\u001b[37m\u001b[0m \u001b[1m0s\u001b[0m 18ms/step - accuracy: 0.5098 - loss: 1.7126 - val_accuracy: 0.4615 - val_loss: 1.6207\n",
            "Epoch 4/50\n",
            "\u001b[1m5/5\u001b[0m \u001b[32m━━━━━━━━━━━━━━━━━━━━\u001b[0m\u001b[37m\u001b[0m \u001b[1m0s\u001b[0m 17ms/step - accuracy: 0.5202 - loss: 1.5712 - val_accuracy: 0.4615 - val_loss: 1.4821\n",
            "Epoch 5/50\n",
            "\u001b[1m5/5\u001b[0m \u001b[32m━━━━━━━━━━━━━━━━━━━━\u001b[0m\u001b[37m\u001b[0m \u001b[1m0s\u001b[0m 27ms/step - accuracy: 0.5457 - loss: 1.4377 - val_accuracy: 0.5000 - val_loss: 1.3730\n",
            "Epoch 6/50\n",
            "\u001b[1m5/5\u001b[0m \u001b[32m━━━━━━━━━━━━━━━━━━━━\u001b[0m\u001b[37m\u001b[0m \u001b[1m0s\u001b[0m 20ms/step - accuracy: 0.5561 - loss: 1.3331 - val_accuracy: 0.5000 - val_loss: 1.2981\n",
            "Epoch 7/50\n",
            "\u001b[1m5/5\u001b[0m \u001b[32m━━━━━━━━━━━━━━━━━━━━\u001b[0m\u001b[37m\u001b[0m \u001b[1m0s\u001b[0m 18ms/step - accuracy: 0.5322 - loss: 1.2576 - val_accuracy: 0.5192 - val_loss: 1.2481\n",
            "Epoch 8/50\n",
            "\u001b[1m5/5\u001b[0m \u001b[32m━━━━━━━━━━━━━━━━━━━━\u001b[0m\u001b[37m\u001b[0m \u001b[1m0s\u001b[0m 19ms/step - accuracy: 0.5521 - loss: 1.2005 - val_accuracy: 0.5385 - val_loss: 1.2156\n",
            "Epoch 9/50\n",
            "\u001b[1m5/5\u001b[0m \u001b[32m━━━━━━━━━━━━━━━━━━━━\u001b[0m\u001b[37m\u001b[0m \u001b[1m0s\u001b[0m 17ms/step - accuracy: 0.5703 - loss: 1.1550 - val_accuracy: 0.5385 - val_loss: 1.1943\n",
            "Epoch 10/50\n",
            "\u001b[1m5/5\u001b[0m \u001b[32m━━━━━━━━━━━━━━━━━━━━\u001b[0m\u001b[37m\u001b[0m \u001b[1m0s\u001b[0m 17ms/step - accuracy: 0.5682 - loss: 1.1144 - val_accuracy: 0.5577 - val_loss: 1.1800\n",
            "Epoch 11/50\n",
            "\u001b[1m5/5\u001b[0m \u001b[32m━━━━━━━━━━━━━━━━━━━━\u001b[0m\u001b[37m\u001b[0m \u001b[1m0s\u001b[0m 18ms/step - accuracy: 0.5911 - loss: 1.0772 - val_accuracy: 0.5769 - val_loss: 1.1729\n",
            "Epoch 12/50\n",
            "\u001b[1m5/5\u001b[0m \u001b[32m━━━━━━━━━━━━━━━━━━━━\u001b[0m\u001b[37m\u001b[0m \u001b[1m0s\u001b[0m 18ms/step - accuracy: 0.6258 - loss: 1.0447 - val_accuracy: 0.5769 - val_loss: 1.1702\n",
            "Epoch 13/50\n",
            "\u001b[1m5/5\u001b[0m \u001b[32m━━━━━━━━━━━━━━━━━━━━\u001b[0m\u001b[37m\u001b[0m \u001b[1m0s\u001b[0m 19ms/step - accuracy: 0.6344 - loss: 1.0136 - val_accuracy: 0.5769 - val_loss: 1.1699\n",
            "Epoch 14/50\n",
            "\u001b[1m5/5\u001b[0m \u001b[32m━━━━━━━━━━━━━━━━━━━━\u001b[0m\u001b[37m\u001b[0m \u001b[1m0s\u001b[0m 17ms/step - accuracy: 0.6422 - loss: 0.9864 - val_accuracy: 0.5769 - val_loss: 1.1730\n",
            "Epoch 15/50\n",
            "\u001b[1m5/5\u001b[0m \u001b[32m━━━━━━━━━━━━━━━━━━━━\u001b[0m\u001b[37m\u001b[0m \u001b[1m0s\u001b[0m 16ms/step - accuracy: 0.6582 - loss: 0.9598 - val_accuracy: 0.5769 - val_loss: 1.1785\n",
            "Epoch 16/50\n",
            "\u001b[1m5/5\u001b[0m \u001b[32m━━━━━━━━━━━━━━━━━━━━\u001b[0m\u001b[37m\u001b[0m \u001b[1m0s\u001b[0m 16ms/step - accuracy: 0.6564 - loss: 0.9366 - val_accuracy: 0.5769 - val_loss: 1.1857\n",
            "Epoch 17/50\n",
            "\u001b[1m5/5\u001b[0m \u001b[32m━━━━━━━━━━━━━━━━━━━━\u001b[0m\u001b[37m\u001b[0m \u001b[1m0s\u001b[0m 17ms/step - accuracy: 0.6620 - loss: 0.9131 - val_accuracy: 0.5769 - val_loss: 1.1942\n",
            "Epoch 18/50\n",
            "\u001b[1m5/5\u001b[0m \u001b[32m━━━━━━━━━━━━━━━━━━━━\u001b[0m\u001b[37m\u001b[0m \u001b[1m0s\u001b[0m 18ms/step - accuracy: 0.6863 - loss: 0.8904 - val_accuracy: 0.5577 - val_loss: 1.2039\n",
            "Epoch 19/50\n",
            "\u001b[1m5/5\u001b[0m \u001b[32m━━━━━━━━━━━━━━━━━━━━\u001b[0m\u001b[37m\u001b[0m \u001b[1m0s\u001b[0m 19ms/step - accuracy: 0.6971 - loss: 0.8688 - val_accuracy: 0.5577 - val_loss: 1.2139\n",
            "Epoch 20/50\n",
            "\u001b[1m5/5\u001b[0m \u001b[32m━━━━━━━━━━━━━━━━━━━━\u001b[0m\u001b[37m\u001b[0m \u001b[1m0s\u001b[0m 29ms/step - accuracy: 0.7101 - loss: 0.8503 - val_accuracy: 0.5577 - val_loss: 1.2254\n",
            "Epoch 21/50\n",
            "\u001b[1m5/5\u001b[0m \u001b[32m━━━━━━━━━━━━━━━━━━━━\u001b[0m\u001b[37m\u001b[0m \u001b[1m0s\u001b[0m 30ms/step - accuracy: 0.7049 - loss: 0.8306 - val_accuracy: 0.5769 - val_loss: 1.2381\n",
            "Epoch 22/50\n",
            "\u001b[1m5/5\u001b[0m \u001b[32m━━━━━━━━━━━━━━━━━━━━\u001b[0m\u001b[37m\u001b[0m \u001b[1m0s\u001b[0m 17ms/step - accuracy: 0.7101 - loss: 0.8147 - val_accuracy: 0.5769 - val_loss: 1.2476\n",
            "Epoch 23/50\n",
            "\u001b[1m5/5\u001b[0m \u001b[32m━━━━━━━━━━━━━━━━━━━━\u001b[0m\u001b[37m\u001b[0m \u001b[1m0s\u001b[0m 19ms/step - accuracy: 0.7231 - loss: 0.7962 - val_accuracy: 0.5769 - val_loss: 1.2621\n",
            "Epoch 24/50\n",
            "\u001b[1m5/5\u001b[0m \u001b[32m━━━━━━━━━━━━━━━━━━━━\u001b[0m\u001b[37m\u001b[0m \u001b[1m0s\u001b[0m 17ms/step - accuracy: 0.7231 - loss: 0.7797 - val_accuracy: 0.5962 - val_loss: 1.2714\n",
            "Epoch 25/50\n",
            "\u001b[1m5/5\u001b[0m \u001b[32m━━━━━━━━━━━━━━━━━━━━\u001b[0m\u001b[37m\u001b[0m \u001b[1m0s\u001b[0m 17ms/step - accuracy: 0.7196 - loss: 0.7645 - val_accuracy: 0.5769 - val_loss: 1.2855\n",
            "Epoch 26/50\n",
            "\u001b[1m5/5\u001b[0m \u001b[32m━━━━━━━━━━━━━━━━━━━━\u001b[0m\u001b[37m\u001b[0m \u001b[1m0s\u001b[0m 17ms/step - accuracy: 0.7175 - loss: 0.7525 - val_accuracy: 0.5769 - val_loss: 1.2948\n",
            "Epoch 27/50\n",
            "\u001b[1m5/5\u001b[0m \u001b[32m━━━━━━━━━━━━━━━━━━━━\u001b[0m\u001b[37m\u001b[0m \u001b[1m0s\u001b[0m 17ms/step - accuracy: 0.7326 - loss: 0.7358 - val_accuracy: 0.5769 - val_loss: 1.3101\n",
            "Epoch 28/50\n",
            "\u001b[1m5/5\u001b[0m \u001b[32m━━━━━━━━━━━━━━━━━━━━\u001b[0m\u001b[37m\u001b[0m \u001b[1m0s\u001b[0m 28ms/step - accuracy: 0.7175 - loss: 0.7245 - val_accuracy: 0.5769 - val_loss: 1.3251\n",
            "Epoch 29/50\n",
            "\u001b[1m5/5\u001b[0m \u001b[32m━━━━━━━━━━━━━━━━━━━━\u001b[0m\u001b[37m\u001b[0m \u001b[1m0s\u001b[0m 27ms/step - accuracy: 0.7248 - loss: 0.7123 - val_accuracy: 0.5769 - val_loss: 1.3399\n",
            "Epoch 30/50\n",
            "\u001b[1m5/5\u001b[0m \u001b[32m━━━━━━━━━━━━━━━━━━━━\u001b[0m\u001b[37m\u001b[0m \u001b[1m0s\u001b[0m 20ms/step - accuracy: 0.7118 - loss: 0.6997 - val_accuracy: 0.5769 - val_loss: 1.3535\n",
            "Epoch 31/50\n",
            "\u001b[1m5/5\u001b[0m \u001b[32m━━━━━━━━━━━━━━━━━━━━\u001b[0m\u001b[37m\u001b[0m \u001b[1m0s\u001b[0m 18ms/step - accuracy: 0.7248 - loss: 0.6890 - val_accuracy: 0.5577 - val_loss: 1.3676\n",
            "Epoch 32/50\n",
            "\u001b[1m5/5\u001b[0m \u001b[32m━━━━━━━━━━━━━━━━━━━━\u001b[0m\u001b[37m\u001b[0m \u001b[1m0s\u001b[0m 18ms/step - accuracy: 0.7283 - loss: 0.6761 - val_accuracy: 0.5385 - val_loss: 1.3849\n",
            "Epoch 33/50\n",
            "\u001b[1m5/5\u001b[0m \u001b[32m━━━━━━━━━━━━━━━━━━━━\u001b[0m\u001b[37m\u001b[0m \u001b[1m0s\u001b[0m 17ms/step - accuracy: 0.7174 - loss: 0.6697 - val_accuracy: 0.5385 - val_loss: 1.4023\n",
            "Epoch 34/50\n",
            "\u001b[1m5/5\u001b[0m \u001b[32m━━━━━━━━━━━━━━━━━━━━\u001b[0m\u001b[37m\u001b[0m \u001b[1m0s\u001b[0m 18ms/step - accuracy: 0.7230 - loss: 0.6578 - val_accuracy: 0.5577 - val_loss: 1.4113\n",
            "Epoch 35/50\n",
            "\u001b[1m5/5\u001b[0m \u001b[32m━━━━━━━━━━━━━━━━━━━━\u001b[0m\u001b[37m\u001b[0m \u001b[1m0s\u001b[0m 16ms/step - accuracy: 0.7174 - loss: 0.6474 - val_accuracy: 0.5577 - val_loss: 1.4268\n",
            "Epoch 36/50\n",
            "\u001b[1m5/5\u001b[0m \u001b[32m━━━━━━━━━━━━━━━━━━━━\u001b[0m\u001b[37m\u001b[0m \u001b[1m0s\u001b[0m 22ms/step - accuracy: 0.7178 - loss: 0.6399 - val_accuracy: 0.5577 - val_loss: 1.4475\n",
            "Epoch 37/50\n",
            "\u001b[1m5/5\u001b[0m \u001b[32m━━━━━━━━━━━━━━━━━━━━\u001b[0m\u001b[37m\u001b[0m \u001b[1m0s\u001b[0m 17ms/step - accuracy: 0.7178 - loss: 0.6318 - val_accuracy: 0.5577 - val_loss: 1.4603\n",
            "Epoch 38/50\n",
            "\u001b[1m5/5\u001b[0m \u001b[32m━━━━━━━━━━━━━━━━━━━━\u001b[0m\u001b[37m\u001b[0m \u001b[1m0s\u001b[0m 16ms/step - accuracy: 0.7360 - loss: 0.6209 - val_accuracy: 0.5577 - val_loss: 1.4757\n",
            "Epoch 39/50\n",
            "\u001b[1m5/5\u001b[0m \u001b[32m━━━━━━━━━━━━━━━━━━━━\u001b[0m\u001b[37m\u001b[0m \u001b[1m0s\u001b[0m 18ms/step - accuracy: 0.7646 - loss: 0.6113 - val_accuracy: 0.5577 - val_loss: 1.4844\n",
            "Epoch 40/50\n",
            "\u001b[1m5/5\u001b[0m \u001b[32m━━━━━━━━━━━━━━━━━━━━\u001b[0m\u001b[37m\u001b[0m \u001b[1m0s\u001b[0m 17ms/step - accuracy: 0.7421 - loss: 0.6052 - val_accuracy: 0.5577 - val_loss: 1.5140\n",
            "Epoch 41/50\n",
            "\u001b[1m5/5\u001b[0m \u001b[32m━━━━━━━━━━━━━━━━━━━━\u001b[0m\u001b[37m\u001b[0m \u001b[1m0s\u001b[0m 17ms/step - accuracy: 0.7698 - loss: 0.5958 - val_accuracy: 0.5577 - val_loss: 1.5231\n",
            "Epoch 42/50\n",
            "\u001b[1m5/5\u001b[0m \u001b[32m━━━━━━━━━━━━━━━━━━━━\u001b[0m\u001b[37m\u001b[0m \u001b[1m0s\u001b[0m 16ms/step - accuracy: 0.7668 - loss: 0.5903 - val_accuracy: 0.5577 - val_loss: 1.5332\n",
            "Epoch 43/50\n",
            "\u001b[1m5/5\u001b[0m \u001b[32m━━━━━━━━━━━━━━━━━━━━\u001b[0m\u001b[37m\u001b[0m \u001b[1m0s\u001b[0m 17ms/step - accuracy: 0.7668 - loss: 0.5809 - val_accuracy: 0.5577 - val_loss: 1.5558\n",
            "Epoch 44/50\n",
            "\u001b[1m5/5\u001b[0m \u001b[32m━━━━━━━━━━━━━━━━━━━━\u001b[0m\u001b[37m\u001b[0m \u001b[1m0s\u001b[0m 22ms/step - accuracy: 0.7941 - loss: 0.5769 - val_accuracy: 0.5577 - val_loss: 1.5659\n",
            "Epoch 45/50\n",
            "\u001b[1m5/5\u001b[0m \u001b[32m━━━━━━━━━━━━━━━━━━━━\u001b[0m\u001b[37m\u001b[0m \u001b[1m0s\u001b[0m 16ms/step - accuracy: 0.7746 - loss: 0.5664 - val_accuracy: 0.5577 - val_loss: 1.5848\n",
            "Epoch 46/50\n",
            "\u001b[1m5/5\u001b[0m \u001b[32m━━━━━━━━━━━━━━━━━━━━\u001b[0m\u001b[37m\u001b[0m \u001b[1m0s\u001b[0m 18ms/step - accuracy: 0.7802 - loss: 0.5636 - val_accuracy: 0.5577 - val_loss: 1.6001\n",
            "Epoch 47/50\n",
            "\u001b[1m5/5\u001b[0m \u001b[32m━━━━━━━━━━━━━━━━━━━━\u001b[0m\u001b[37m\u001b[0m \u001b[1m0s\u001b[0m 17ms/step - accuracy: 0.7780 - loss: 0.5558 - val_accuracy: 0.5577 - val_loss: 1.6128\n",
            "Epoch 48/50\n",
            "\u001b[1m5/5\u001b[0m \u001b[32m━━━━━━━━━━━━━━━━━━━━\u001b[0m\u001b[37m\u001b[0m \u001b[1m0s\u001b[0m 17ms/step - accuracy: 0.7637 - loss: 0.5511 - val_accuracy: 0.5577 - val_loss: 1.6365\n",
            "Epoch 49/50\n",
            "\u001b[1m5/5\u001b[0m \u001b[32m━━━━━━━━━━━━━━━━━━━━\u001b[0m\u001b[37m\u001b[0m \u001b[1m0s\u001b[0m 17ms/step - accuracy: 0.7932 - loss: 0.5444 - val_accuracy: 0.5577 - val_loss: 1.6536\n",
            "Epoch 50/50\n",
            "\u001b[1m5/5\u001b[0m \u001b[32m━━━━━━━━━━━━━━━━━━━━\u001b[0m\u001b[37m\u001b[0m \u001b[1m0s\u001b[0m 17ms/step - accuracy: 0.7932 - loss: 0.5378 - val_accuracy: 0.5385 - val_loss: 1.6665\n",
            "Best epoch: 13\n"
          ]
        }
      ]
    },
    {
      "cell_type": "code",
      "source": [
        "# Re-instantiating the hypermodel and training it with the optimal number of\n",
        "# epochs from above\n",
        "hypermodel = tuner.hypermodel.build(best_hps)\n",
        "\n",
        "# Retrain the model\n",
        "hypermodel_fit = hypermodel.fit(\n",
        "    X_train,\n",
        "    Y_train,\n",
        "    epochs=best_epoch,\n",
        "    validation_data = [X_val, Y_val],\n",
        "    batch_size = 32)"
      ],
      "metadata": {
        "colab": {
          "base_uri": "https://localhost:8080/"
        },
        "id": "R8XxUka-9TLU",
        "outputId": "ffd66c3b-95d5-4fc6-fcff-c6f499d36f46"
      },
      "id": "R8XxUka-9TLU",
      "execution_count": 46,
      "outputs": [
        {
          "output_type": "stream",
          "name": "stdout",
          "text": [
            "Epoch 1/13\n",
            "\u001b[1m5/5\u001b[0m \u001b[32m━━━━━━━━━━━━━━━━━━━━\u001b[0m\u001b[37m\u001b[0m \u001b[1m1s\u001b[0m 59ms/step - accuracy: 0.1994 - loss: 1.9407 - val_accuracy: 0.2885 - val_loss: 1.8747\n",
            "Epoch 2/13\n",
            "\u001b[1m5/5\u001b[0m \u001b[32m━━━━━━━━━━━━━━━━━━━━\u001b[0m\u001b[37m\u001b[0m \u001b[1m0s\u001b[0m 16ms/step - accuracy: 0.3505 - loss: 1.8320 - val_accuracy: 0.3846 - val_loss: 1.7633\n",
            "Epoch 3/13\n",
            "\u001b[1m5/5\u001b[0m \u001b[32m━━━━━━━━━━━━━━━━━━━━\u001b[0m\u001b[37m\u001b[0m \u001b[1m0s\u001b[0m 19ms/step - accuracy: 0.5172 - loss: 1.7067 - val_accuracy: 0.4615 - val_loss: 1.6186\n",
            "Epoch 4/13\n",
            "\u001b[1m5/5\u001b[0m \u001b[32m━━━━━━━━━━━━━━━━━━━━\u001b[0m\u001b[37m\u001b[0m \u001b[1m0s\u001b[0m 16ms/step - accuracy: 0.5072 - loss: 1.5618 - val_accuracy: 0.4808 - val_loss: 1.4779\n",
            "Epoch 5/13\n",
            "\u001b[1m5/5\u001b[0m \u001b[32m━━━━━━━━━━━━━━━━━━━━\u001b[0m\u001b[37m\u001b[0m \u001b[1m0s\u001b[0m 16ms/step - accuracy: 0.4920 - loss: 1.4299 - val_accuracy: 0.5000 - val_loss: 1.3724\n",
            "Epoch 6/13\n",
            "\u001b[1m5/5\u001b[0m \u001b[32m━━━━━━━━━━━━━━━━━━━━\u001b[0m\u001b[37m\u001b[0m \u001b[1m0s\u001b[0m 20ms/step - accuracy: 0.5050 - loss: 1.3315 - val_accuracy: 0.5192 - val_loss: 1.3003\n",
            "Epoch 7/13\n",
            "\u001b[1m5/5\u001b[0m \u001b[32m━━━━━━━━━━━━━━━━━━━━\u001b[0m\u001b[37m\u001b[0m \u001b[1m0s\u001b[0m 16ms/step - accuracy: 0.5335 - loss: 1.2597 - val_accuracy: 0.5385 - val_loss: 1.2549\n",
            "Epoch 8/13\n",
            "\u001b[1m5/5\u001b[0m \u001b[32m━━━━━━━━━━━━━━━━━━━━\u001b[0m\u001b[37m\u001b[0m \u001b[1m0s\u001b[0m 18ms/step - accuracy: 0.5630 - loss: 1.2055 - val_accuracy: 0.5385 - val_loss: 1.2234\n",
            "Epoch 9/13\n",
            "\u001b[1m5/5\u001b[0m \u001b[32m━━━━━━━━━━━━━━━━━━━━\u001b[0m\u001b[37m\u001b[0m \u001b[1m0s\u001b[0m 19ms/step - accuracy: 0.5911 - loss: 1.1608 - val_accuracy: 0.5385 - val_loss: 1.2028\n",
            "Epoch 10/13\n",
            "\u001b[1m5/5\u001b[0m \u001b[32m━━━━━━━━━━━━━━━━━━━━\u001b[0m\u001b[37m\u001b[0m \u001b[1m0s\u001b[0m 17ms/step - accuracy: 0.5976 - loss: 1.1201 - val_accuracy: 0.5769 - val_loss: 1.1895\n",
            "Epoch 11/13\n",
            "\u001b[1m5/5\u001b[0m \u001b[32m━━━━━━━━━━━━━━━━━━━━\u001b[0m\u001b[37m\u001b[0m \u001b[1m0s\u001b[0m 17ms/step - accuracy: 0.5998 - loss: 1.0838 - val_accuracy: 0.5769 - val_loss: 1.1829\n",
            "Epoch 12/13\n",
            "\u001b[1m5/5\u001b[0m \u001b[32m━━━━━━━━━━━━━━━━━━━━\u001b[0m\u001b[37m\u001b[0m \u001b[1m0s\u001b[0m 21ms/step - accuracy: 0.6257 - loss: 1.0509 - val_accuracy: 0.5769 - val_loss: 1.1797\n",
            "Epoch 13/13\n",
            "\u001b[1m5/5\u001b[0m \u001b[32m━━━━━━━━━━━━━━━━━━━━\u001b[0m\u001b[37m\u001b[0m \u001b[1m0s\u001b[0m 17ms/step - accuracy: 0.6162 - loss: 1.0190 - val_accuracy: 0.5769 - val_loss: 1.1803\n"
          ]
        }
      ]
    },
    {
      "cell_type": "code",
      "source": [
        "# Getting the history of the model\n",
        "hist_t = hypermodel_fit.history\n",
        "\n",
        "# Plotting the loss vs epoch curve with tuned model\n",
        "plt.plot(range(1, best_epoch+1), hist_t['loss'], label='Training Loss')\n",
        "plt.plot(range(1, best_epoch+1), hist_t['val_loss'], label='Validation Loss')\n",
        "plt.xlabel('Epochs')\n",
        "plt.ylabel('Loss (after keras tuner fine tuning)')\n",
        "plt.title('Loss vs Epochs After Keras Tuner Hyperparameter Fine Tuning')\n",
        "plt.legend()\n",
        "plt.show()"
      ],
      "metadata": {
        "colab": {
          "base_uri": "https://localhost:8080/",
          "height": 472
        },
        "id": "0eHZTDSA9frc",
        "outputId": "ae9d9f9f-8852-44ed-d668-277a3451bd16"
      },
      "id": "0eHZTDSA9frc",
      "execution_count": 47,
      "outputs": [
        {
          "output_type": "display_data",
          "data": {
            "text/plain": [
              "<Figure size 640x480 with 1 Axes>"
            ],
            "image/png": "[encoded data removed]"
          },
          "metadata": {}
        }
      ]
    },
    {
      "cell_type": "code",
      "source": [
        "print(\"As we can see from above, using Keras tuner got us the results, though\")\n",
        "print(\"one caveat is that we used learning rates from what we already knew, so\")\n",
        "print(\"we didn't bother testing other, smaller learning rates. In either case,\")\n",
        "print(\"the optimal parameters are as follow:\\n\")\n",
        "print(best_hps.values, '\\n')\n",
        "print(\"and we see indeed that choosing a higher learning rate is fine.\")"
      ],
      "metadata": {
        "colab": {
          "base_uri": "https://localhost:8080/"
        },
        "id": "4crAo4qF-idB",
        "outputId": "1302878c-9be9-421c-feb2-1a3cc4d3616f"
      },
      "id": "4crAo4qF-idB",
      "execution_count": 49,
      "outputs": [
        {
          "output_type": "stream",
          "name": "stdout",
          "text": [
            "As we can see from above, using Keras tuner got us the results, though\n",
            "one caveat is that we used learning rates from what we already knew, so\n",
            "we didn't bother testing other, smaller learning rates. In either case,\n",
            "the optimal parameters are as follow:\n",
            "\n",
            "{'units': 320, 'learning_rate': 0.999999, 'tuner/epochs': 17, 'tuner/initial_epoch': 6, 'tuner/bracket': 3, 'tuner/round': 2, 'tuner/trial_id': '0034'} \n",
            "\n",
            "and we see indeed that choosing a higher learning rate is fine.\n"
          ]
        }
      ]
    },
    {
      "cell_type": "code",
      "source": [
        "print(\"Checking out the accuracy shows us that it's still not great:\")\n",
        "print(\" - Accuracy using Keras Tuner:\")\n",
        "print(\" - Training accuracy:\", hypermodel.evaluate(X_train, Y_train, verbose = 0)[1])\n",
        "print(\" - Validation accuracy:\", hypermodel.evaluate(X_val, Y_val, verbose = 0)[1])\n",
        "\n",
        "print(\"\\nThe training accuracy was actually slightly worse than the previous,\")\n",
        "print(\"manual model, though the validation accuracy was miraculously the exact\")\n",
        "print(\"same:\")\n",
        "print(\" - Accuracy via manual tuning:\")\n",
        "print(\" - Training accuracy:\", model_tf_m.evaluate(X_train, Y_train, verbose = 0)[1])\n",
        "print(\" - Validation accuracy:\", model_tf_m.evaluate(X_val, Y_val, verbose = 0)[1])"
      ],
      "metadata": {
        "colab": {
          "base_uri": "https://localhost:8080/"
        },
        "id": "pVoZi4mQ_ZPp",
        "outputId": "cb2d7238-8c66-4a6f-9160-452097238e57"
      },
      "id": "pVoZi4mQ_ZPp",
      "execution_count": 53,
      "outputs": [
        {
          "output_type": "stream",
          "name": "stdout",
          "text": [
            "Checking out the accuracy shows us that it's still not great:\n",
            " - Accuracy using Keras Tuner:\n",
            " - Training accuracy: 0.6580645442008972\n",
            " - Validation accuracy: 0.5769230723381042\n",
            "\n",
            "The training accuracy was actually slightly worse than the previous,\n",
            "manual model, though the validation accuracy was miraculously the exact\n",
            "same:\n",
            " - Accuracy via manual tuning:\n",
            " - Training accuracy: 0.6645161509513855\n",
            " - Validation accuracy: 0.5769230723381042\n"
          ]
        }
      ]
    },
    {
      "cell_type": "code",
      "source": [
        "print(\"The caveat here is that we added another dense, hidden layer with\")\n",
        "print(\"variable units into our model. This is done because the keras tutorial\")\n",
        "print(\"shows them doing so. However, this is somewhat artificially boosting\")\n",
        "print(\"how well this model does, and we want to instead just use what we know\")\n",
        "print(\"thus far about the hyperparameters we should vary. In other words, we\")\n",
        "print(\"should try varying only the following three hyperparameters: number of\")\n",
        "print(\"epochs, learning rate, and batch size.\")"
      ],
      "metadata": {
        "colab": {
          "base_uri": "https://localhost:8080/"
        },
        "id": "-hbQmNZS-yXy",
        "outputId": "8c0bb746-97b1-4af2-d054-e5ce1eafa44e"
      },
      "id": "-hbQmNZS-yXy",
      "execution_count": 54,
      "outputs": [
        {
          "output_type": "stream",
          "name": "stdout",
          "text": [
            "The caveat here is that we added another dense, hidden layer with\n",
            "variable units into our model. This is done because the keras tutorial\n",
            "shows them doing so. However, this is somewhat artificially boosting\n",
            "how well this model does, and we want to instead just use what we know\n",
            "thus far about the hyperparameters we should vary. In other words, we\n",
            "should try varying only the following three hyperparameters: number of\n",
            "epochs, learning rate, and batch size.\n"
          ]
        }
      ]
    },
    {
      "cell_type": "code",
      "source": [
        "print(\"Since batch size is not a hyperparameter we can automatically vary in\")\n",
        "print(\"the hypermodel, we will need to create our own class that has the\")\n",
        "print(\"option to vary the batch size.\")"
      ],
      "metadata": {
        "colab": {
          "base_uri": "https://localhost:8080/"
        },
        "id": "yJGUzH212gGd",
        "outputId": "42091fb6-c665-42ac-9047-60089e2726be"
      },
      "id": "yJGUzH212gGd",
      "execution_count": 55,
      "outputs": [
        {
          "output_type": "stream",
          "name": "stdout",
          "text": [
            "Since batch size is not a hyperparameter we can automatically vary in\n",
            "the hypermodel, we will need to create our own class that has the\n",
            "option to vary the batch size.\n"
          ]
        }
      ]
    },
    {
      "cell_type": "code",
      "source": [
        "# Building custom hypermodel class to alter the batch size\n",
        "# Citing github link for inspiration:\n",
        "# https://github.com/keras-team/keras-tuner/issues/122\n",
        "class MyHyperModel(kt.HyperModel):\n",
        "  def build(self, hp):\n",
        "\n",
        "    # Resetting tf for consistent results\n",
        "    tf.keras.backend.clear_session()\n",
        "    tf.random.set_seed(0)\n",
        "\n",
        "    # Building a model using tf Sequential\n",
        "    model = tf.keras.Sequential()\n",
        "\n",
        "    # Getting the input layer\n",
        "    model.add(tf.keras.Input(shape=(35,), name='Input'))\n",
        "\n",
        "    # The following code is now removed since we do not want to add another\n",
        "    # hidden layer to boost our model\n",
        "    # hp_units = hp.Int('units', min_value=32, max_value=512, step=32)\n",
        "    # model.add(tf.keras.layers.Dense(units=hp_units, activation='relu'))\n",
        "\n",
        "    # Getting the output layer\n",
        "    model.add(tf.keras.layers.Dense(\n",
        "          units = 7,\n",
        "          use_bias = True,\n",
        "          activation = 'softmax',\n",
        "          kernel_initializer=initializers.RandomNormal(stddev=0.01),\n",
        "          bias_initializer=initializers.RandomNormal(stddev=0.01),\n",
        "          name='Output'\n",
        "    ))\n",
        "\n",
        "    # Tuning the learning rate for the optimizer\n",
        "    # Choose an optimal value from 0.999999, 0.9999, 0.99, or 0.9\n",
        "    hp_learning_rate = hp.Choice('learning_rate', values=[999999e-6, 9999e-4, 99e-2, 9e-1])\n",
        "\n",
        "    # Getting the optimizer\n",
        "    optimizer = tf.keras.optimizers.SGD(learning_rate=hp_learning_rate)\n",
        "\n",
        "    model.compile(optimizer=optimizer,\n",
        "                  loss=tf.keras.losses.SparseCategoricalCrossentropy(from_logits=False),\n",
        "                  metrics=['accuracy'])\n",
        "    # ^from_logits = False means that you have a softmax activation in the last layer,\n",
        "    # ^and that the model doesn't need to do it for you\n",
        "\n",
        "    return model\n",
        "\n",
        "  # This is where we add the batch size, and based on our results from the\n",
        "  # manual tuning, we will have one of 4 possible batch sizes: [8, 16, 24, 32]\n",
        "  def fit(self, hp, model, *args, **kwargs):\n",
        "      return model.fit(\n",
        "          *args,\n",
        "          batch_size=hp.Choice(\"batch_size\", [8, 16, 24, 32]),\n",
        "          **kwargs,\n",
        "      )\n"
      ],
      "metadata": {
        "id": "elKRZEslvRKv"
      },
      "id": "elKRZEslvRKv",
      "execution_count": 56,
      "outputs": []
    },
    {
      "cell_type": "code",
      "source": [
        "# Instantiating Hyperband tuner (with the objective being the validation loss)\n",
        "tuner_c = kt.Hyperband(MyHyperModel(),\n",
        "    objective=\"val_loss\",\n",
        "    max_epochs=100,\n",
        "    factor=3,\n",
        "    # hyperband_iterations=5,  # Note to self: do NOT set this number too high,\n",
        "    # ^as it will burn through your compute; what this does is tell the model\n",
        "    # how many times to iterate over the whole hyperband algorithm, so the more\n",
        "    # that it does, the more compute is requires\n",
        "    overwrite=True\n",
        ")"
      ],
      "metadata": {
        "id": "vshfB1mXvhI8"
      },
      "id": "vshfB1mXvhI8",
      "execution_count": 57,
      "outputs": []
    },
    {
      "cell_type": "code",
      "source": [
        "# Creating a callback to stop training early after reaching a certain value for\n",
        "# the validation loss (i.e., if val_loss hasn't improved in 5 epochs, it will move on)\n",
        "stop_early_c = tf.keras.callbacks.EarlyStopping(monitor='val_loss', patience=5)"
      ],
      "metadata": {
        "id": "-IRqH0Sj2Ysg"
      },
      "id": "-IRqH0Sj2Ysg",
      "execution_count": 58,
      "outputs": []
    },
    {
      "cell_type": "code",
      "source": [
        "# Running the hyperparameter search\n",
        "tuner_c.search(X_train, Y_train, epochs=100, validation_data = [X_val, Y_val],\n",
        "  callbacks=[stop_early_c])\n",
        "\n",
        "# Get the optimal hyperparameters\n",
        "best_hps_c = tuner_c.get_best_hyperparameters(num_trials=1)[0]\n",
        "best_hps_c.values"
      ],
      "metadata": {
        "colab": {
          "base_uri": "https://localhost:8080/"
        },
        "id": "RAQ5Hd4mwdMH",
        "outputId": "0b9a7f4d-a615-4d5f-82c2-c86cb99e47a9"
      },
      "id": "RAQ5Hd4mwdMH",
      "execution_count": 59,
      "outputs": [
        {
          "output_type": "stream",
          "name": "stdout",
          "text": [
            "Trial 16 Complete [00h 00m 03s]\n",
            "val_loss: 1.618862271308899\n",
            "\n",
            "Best val_loss So Far: 1.4017422199249268\n",
            "Total elapsed time: 00h 00m 43s\n"
          ]
        },
        {
          "output_type": "execute_result",
          "data": {
            "text/plain": [
              "{'learning_rate': 0.9999,\n",
              " 'batch_size': 8,\n",
              " 'tuner/epochs': 2,\n",
              " 'tuner/initial_epoch': 0,\n",
              " 'tuner/bracket': 4,\n",
              " 'tuner/round': 0}"
            ]
          },
          "metadata": {},
          "execution_count": 59
        }
      ]
    },
    {
      "cell_type": "code",
      "source": [
        "print(f\"\"\"\n",
        "The hyperparameter search is complete. The optimal learning rate for the optimizer\n",
        "is {best_hps_c.get('learning_rate')}, and the optimal batch size for the optimizer\n",
        "is {best_hps_c.get('batch_size')}.\n",
        "\"\"\")"
      ],
      "metadata": {
        "colab": {
          "base_uri": "https://localhost:8080/"
        },
        "id": "w-OJ_r_SydU3",
        "outputId": "279a798f-bd10-4cf8-caed-2e80599593a3"
      },
      "id": "w-OJ_r_SydU3",
      "execution_count": 60,
      "outputs": [
        {
          "output_type": "stream",
          "name": "stdout",
          "text": [
            "\n",
            "The hyperparameter search is complete. The optimal learning rate for the optimizer\n",
            "is 0.9999, and the optimal batch size for the optimizer\n",
            "is 8.\n",
            "\n"
          ]
        }
      ]
    },
    {
      "cell_type": "code",
      "source": [
        "print(\"One odd thing to take note of: we see in the above example that the\")\n",
        "print(\"apparent best val_loss so far is ~1.4; however, we'll see below that it\")\n",
        "print(\"is actually quite a bit better. This discrepancy is likely the case\")\n",
        "print(\"because of the Hyperband tuner itself. Essentially, Hyperband does not\")\n",
        "print(\"train every model for the max_epochs from the start, and it instead\")\n",
        "print(\"seems to follow an aggressive early stopping approach. This means that\")\n",
        "print(\"it first trains many models for a small number of epochs (like 1 or 2).\")\n",
        "print(\"Then, it eliminates the weak models based on the validation loss, and\")\n",
        "print(\"it allocates more epochs to better-performing models in later rounds.\")\n",
        "print(\"This means that only the best few models reach the max_epochs.\")\n",
        "print(\"The problem, however, is that the model might not improve very much\")\n",
        "print(\"through these 1 or 2 epochs, potentially because there's not enough\")\n",
        "print(\"for it to improve. This leads to early elimination, and the tuning\")\n",
        "print(\"process also stops quickly as well.\\n\")\n",
        "\n",
        "print(\"To account for that, we can change the factor, which has a twofold\")\n",
        "print(\"purpose. Firstly, it's the reduction factor for the number of models -\")\n",
        "print(\"in other words, the number of models in each bracket - which is\")\n",
        "print(\"calculated as 1 + log_sub_factor(max_epochs). Thus, a greater factor\")\n",
        "print(\"would mean that there are fewer models in each bracket, giving each one\")\n",
        "print(\"more of a chance to remain in the running. Secondly, the factor\")\n",
        "print(\"(partially) determines the number of epochs that is run, at least in\")\n",
        "print(\"the beginning stages of the pruning process. For example, setting the\")\n",
        "print(\"factor to 20 with 100 max_epochs would give 5 (100/20) epochs run in\")\n",
        "print(\"the beginning of the process, which allows the validation loss to get a\")\n",
        "print(\"bit lower.\\n\")\n",
        "\n",
        "print(\"This may lead us to think that we should indeed be lowering the factor,\")\n",
        "print(\"as doing so will give us more epochs. However, when we change the\")\n",
        "print(\"factor to 10 or lower (with 100 max_epochs), we actually only get a\")\n",
        "print(\"single epoch run. This doesn't seem to be able to be explained from the\")\n",
        "print(\"code or the documentation, and it may just be an idiosyncracy with\")\n",
        "print(\"Hyperband. Interestingly enough, setting the factor to 11 (and thus\")\n",
        "print(\"getting 10 epochs because 100/11 is 9.09 which rounds up to 10) does\")\n",
        "print(\"still work, and we'll stick with that instead. This will theoretically\")\n",
        "print(\"get us the greatest amount of epochs run while not allowing Hyperband\")\n",
        "print(\"to prune as aggressively, hopefully giving us a better validation loss\")\n",
        "print(\"at the end.\")"
      ],
      "metadata": {
        "colab": {
          "base_uri": "https://localhost:8080/"
        },
        "id": "VqJQkEz7KXQ5",
        "outputId": "fe99ea6b-d7c9-4447-f756-bb77155c39da"
      },
      "id": "VqJQkEz7KXQ5",
      "execution_count": 61,
      "outputs": [
        {
          "output_type": "stream",
          "name": "stdout",
          "text": [
            "One odd thing to take note of: we see in the above example that the\n",
            "apparent best val_loss so far is ~1.4; however, we'll see below that it\n",
            "is actually quite a bit better. This discrepancy is likely the case\n",
            "because of the Hyperband tuner itself. Essentially, Hyperband does not\n",
            "train every model for the max_epochs from the start, and it instead\n",
            "seems to follow an aggressive early stopping approach. This means that\n",
            "it first trains many models for a small number of epochs (like 1 or 2).\n",
            "Then, it eliminates the weak models based on the validation loss, and\n",
            "it allocates more epochs to better-performing models in later rounds.\n",
            "This means that only the best few models reach the max_epochs.\n",
            "The problem, however, is that the model might not improve very much\n",
            "through these 1 or 2 epochs, potentially because there's not enough\n",
            "for it to improve. This leads to early elimination, and the tuning\n",
            "process also stops quickly as well.\n",
            "\n",
            "To account for that, we can change the factor, which has a twofold\n",
            "purpose. Firstly, it's the reduction factor for the number of models -\n",
            "in other words, the number of models in each bracket - which is\n",
            "calculated as 1 + log_sub_factor(max_epochs). Thus, a greater factor\n",
            "would mean that there are fewer models in each bracket, giving each one\n",
            "more of a chance to remain in the running. Secondly, the factor\n",
            "(partially) determines the number of epochs that is run, at least in\n",
            "the beginning stages of the pruning process. For example, setting the\n",
            "factor to 20 with 100 max_epochs would give 5 (100/20) epochs run in\n",
            "the beginning of the process, which allows the validation loss to get a\n",
            "bit lower.\n",
            "\n",
            "This may lead us to think that we should indeed be lowering the factor,\n",
            "as doing so will give us more epochs. However, when we change the\n",
            "factor to 10 or lower (with 100 max_epochs), we actually only get a\n",
            "single epoch run. This doesn't seem to be able to be explained from the\n",
            "code or the documentation, and it may just be an idiosyncracy with\n",
            "Hyperband. Interestingly enough, setting the factor to 11 (and thus\n",
            "getting 10 epochs because 100/11 is 9.09 which rounds up to 10) does\n",
            "still work, and we'll stick with that instead. This will theoretically\n",
            "get us the greatest amount of epochs run while not allowing Hyperband\n",
            "to prune as aggressively, hopefully giving us a better validation loss\n",
            "at the end.\n"
          ]
        }
      ]
    },
    {
      "cell_type": "code",
      "source": [
        "# Instantiating Hyperband tuner with a factor of 11\n",
        "tuner_c_1 = kt.Hyperband(MyHyperModel(),\n",
        "    objective=\"val_loss\",\n",
        "    max_epochs=100,\n",
        "    factor=11,\n",
        "    overwrite=True\n",
        ")"
      ],
      "metadata": {
        "id": "PsgyMOANeykD"
      },
      "id": "PsgyMOANeykD",
      "execution_count": 62,
      "outputs": []
    },
    {
      "cell_type": "code",
      "source": [
        "# Running the hyperparameter search\n",
        "tuner_c_1.search(X_train, Y_train, epochs=100, validation_data = [X_val, Y_val],\n",
        "  callbacks=[stop_early_c])\n",
        "\n",
        "# Get the optimal hyperparameters\n",
        "best_hps_c_1 = tuner_c_1.get_best_hyperparameters(num_trials=1)[0]\n",
        "best_hps_c_1.values"
      ],
      "metadata": {
        "colab": {
          "base_uri": "https://localhost:8080/"
        },
        "id": "2g7dIhMXe09t",
        "outputId": "9e623e41-d1cf-4487-cd3e-e0903a25932e"
      },
      "id": "2g7dIhMXe09t",
      "execution_count": 63,
      "outputs": [
        {
          "output_type": "stream",
          "name": "stdout",
          "text": [
            "Trial 16 Complete [00h 00m 05s]\n",
            "val_loss: 1.222745418548584\n",
            "\n",
            "Best val_loss So Far: 1.161958932876587\n",
            "Total elapsed time: 00h 01m 01s\n"
          ]
        },
        {
          "output_type": "execute_result",
          "data": {
            "text/plain": [
              "{'learning_rate': 0.9999,\n",
              " 'batch_size': 8,\n",
              " 'tuner/epochs': 10,\n",
              " 'tuner/initial_epoch': 0,\n",
              " 'tuner/bracket': 1,\n",
              " 'tuner/round': 0}"
            ]
          },
          "metadata": {},
          "execution_count": 63
        }
      ]
    },
    {
      "cell_type": "code",
      "source": [
        "# Getting a summary of the results:\n",
        "tuner_c_1.results_summary(num_trials = 1)"
      ],
      "metadata": {
        "colab": {
          "base_uri": "https://localhost:8080/"
        },
        "id": "cOSrqyuxbfFg",
        "outputId": "bcae29f7-70b4-4973-dce8-9a6b2beed9a5"
      },
      "id": "cOSrqyuxbfFg",
      "execution_count": 64,
      "outputs": [
        {
          "output_type": "stream",
          "name": "stdout",
          "text": [
            "Results summary\n",
            "Results in ./untitled_project\n",
            "Showing 1 best trials\n",
            "Objective(name=\"val_loss\", direction=\"min\")\n",
            "\n",
            "Trial 0014 summary\n",
            "Hyperparameters:\n",
            "learning_rate: 0.9999\n",
            "batch_size: 8\n",
            "tuner/epochs: 10\n",
            "tuner/initial_epoch: 0\n",
            "tuner/bracket: 1\n",
            "tuner/round: 0\n",
            "Score: 1.161958932876587\n"
          ]
        }
      ]
    },
    {
      "cell_type": "code",
      "source": [
        "print(\"Running it this way does give us the best validation loss so far,\")\n",
        "print(\"though the validation loss still does not seem to be as good as that\")\n",
        "print(\"from our manual search. One thing to try is a different tuner (instead\")\n",
        "print(\"of Hyperband). One that is recommended is the RandomSearch tuner;\")\n",
        "print(\"however, this proved to not be much better, as we can see below.\")"
      ],
      "metadata": {
        "colab": {
          "base_uri": "https://localhost:8080/"
        },
        "id": "tf-QBZ3Juzja",
        "outputId": "50d24db8-5b29-4c8b-d783-9e2e78656ea0"
      },
      "id": "tf-QBZ3Juzja",
      "execution_count": 65,
      "outputs": [
        {
          "output_type": "stream",
          "name": "stdout",
          "text": [
            "Running it this way does give us the best validation loss so far,\n",
            "though the validation loss still does not seem to be as good as that\n",
            "from our manual search. One thing to try is a different tuner (instead\n",
            "of Hyperband). One that is recommended is the RandomSearch tuner;\n",
            "however, this proved to not be much better, as we can see below.\n"
          ]
        }
      ]
    },
    {
      "cell_type": "code",
      "source": [
        "# Instantiating RandomSearch tuner (with the objective being the validation loss)\n",
        "tuner_c_2 = kt.RandomSearch(MyHyperModel(),\n",
        "    objective=\"val_loss\",\n",
        "    max_trials=30,\n",
        "    overwrite=True\n",
        ")"
      ],
      "metadata": {
        "id": "EYiHxiFAvNxb"
      },
      "id": "EYiHxiFAvNxb",
      "execution_count": 66,
      "outputs": []
    },
    {
      "cell_type": "code",
      "source": [
        "# Running the hyperparameter search\n",
        "tuner_c_2.search(X_train, Y_train, epochs=10, validation_data = [X_val, Y_val],\n",
        "  callbacks=[stop_early_c])\n",
        "\n",
        "# Get the optimal hyperparameters\n",
        "best_hps_c_2 = tuner_c_2.get_best_hyperparameters(num_trials=1)[0]\n",
        "best_hps_c_2.values"
      ],
      "metadata": {
        "colab": {
          "base_uri": "https://localhost:8080/"
        },
        "id": "NTlq1GhVvgD3",
        "outputId": "9f92a298-1f07-4f06-9069-97cd2a999cd3"
      },
      "id": "NTlq1GhVvgD3",
      "execution_count": 67,
      "outputs": [
        {
          "output_type": "stream",
          "name": "stdout",
          "text": [
            "Trial 16 Complete [00h 00m 04s]\n",
            "val_loss: 1.1623365879058838\n",
            "\n",
            "Best val_loss So Far: 1.1622601747512817\n",
            "Total elapsed time: 00h 01m 04s\n"
          ]
        },
        {
          "output_type": "execute_result",
          "data": {
            "text/plain": [
              "{'learning_rate': 0.9999, 'batch_size': 8}"
            ]
          },
          "metadata": {},
          "execution_count": 67
        }
      ]
    },
    {
      "cell_type": "code",
      "source": [
        "print(\"Trying to switch optimizers (when building model) to a different one\")\n",
        "print(\"like Adam didn't change very much either. The last thing we might want\")\n",
        "print(\"to consider trying would be to build a custom training loop following\")\n",
        "print(\"the link below:\")\n",
        "print(\"https://keras.io/keras_tuner/guides/custom_tuner/\")\n",
        "print(\"However, this is very similar to what we've already done, and it likely\")\n",
        "print(\"won't change much because of the way Hyperband works. Overall, seeing\")\n",
        "print(\"as the validation loss we got from the tuner_c_1 (tuner class 1) model\")\n",
        "print(\"was the best, we will go with the parameters from that.\")"
      ],
      "metadata": {
        "colab": {
          "base_uri": "https://localhost:8080/"
        },
        "id": "ruftlDMevgeI",
        "outputId": "bed0abc6-1865-4dd2-fdbc-c8050f937079"
      },
      "id": "ruftlDMevgeI",
      "execution_count": 70,
      "outputs": [
        {
          "output_type": "stream",
          "name": "stdout",
          "text": [
            "Trying to switch optimizers (when building model) to a different one\n",
            "like Adam didn't change very much either. The last thing we might want\n",
            "to consider trying would be to build a custom training loop following\n",
            "the link below:\n",
            "https://keras.io/keras_tuner/guides/custom_tuner/\n",
            "However, this is very similar to what we've already done, and it likely\n",
            "won't change much because of the way Hyperband works. Overall, seeing\n",
            "as the validation loss we got from the tuner_c_1 (tuner class 1) model\n",
            "was the best, we will go with the parameters from that.\n"
          ]
        }
      ]
    },
    {
      "cell_type": "code",
      "source": [
        "# Training the model the same way as before, but using the tuner class above\n",
        "model_hp_c_1 = tuner_c_1.hypermodel.build(best_hps_c_1)\n",
        "history_hp_c_1 = model_hp_c_1.fit(X_train, Y_train, epochs=100,\n",
        "  batch_size=best_hps_c_1.get('batch_size'), validation_data=[X_val, Y_val])\n",
        "\n",
        "val_loss_per_epoch_c_1 = history_hp_c_1.history['val_loss']\n",
        "best_epoch_c_1 = val_loss_per_epoch_c_1.index(min(val_loss_per_epoch_c_1)) + 1\n",
        "print('Best epoch: %d' % (best_epoch_c_1,))"
      ],
      "metadata": {
        "colab": {
          "base_uri": "https://localhost:8080/"
        },
        "id": "fbg6mErWyx-C",
        "outputId": "0ca536c4-d399-45ef-9809-df3f85ed3b59"
      },
      "id": "fbg6mErWyx-C",
      "execution_count": 71,
      "outputs": [
        {
          "output_type": "stream",
          "name": "stdout",
          "text": [
            "Epoch 1/100\n",
            "\u001b[1m20/20\u001b[0m \u001b[32m━━━━━━━━━━━━━━━━━━━━\u001b[0m\u001b[37m\u001b[0m \u001b[1m1s\u001b[0m 14ms/step - accuracy: 0.1800 - loss: 1.9073 - val_accuracy: 0.4231 - val_loss: 1.5754\n",
            "Epoch 2/100\n",
            "\u001b[1m20/20\u001b[0m \u001b[32m━━━━━━━━━━━━━━━━━━━━\u001b[0m\u001b[37m\u001b[0m \u001b[1m0s\u001b[0m 5ms/step - accuracy: 0.4697 - loss: 1.5923 - val_accuracy: 0.5000 - val_loss: 1.4029\n",
            "Epoch 3/100\n",
            "\u001b[1m20/20\u001b[0m \u001b[32m━━━━━━━━━━━━━━━━━━━━\u001b[0m\u001b[37m\u001b[0m \u001b[1m0s\u001b[0m 5ms/step - accuracy: 0.5188 - loss: 1.4326 - val_accuracy: 0.5577 - val_loss: 1.3149\n",
            "Epoch 4/100\n",
            "\u001b[1m20/20\u001b[0m \u001b[32m━━━━━━━━━━━━━━━━━━━━\u001b[0m\u001b[37m\u001b[0m \u001b[1m0s\u001b[0m 6ms/step - accuracy: 0.5728 - loss: 1.3419 - val_accuracy: 0.5385 - val_loss: 1.2636\n",
            "Epoch 5/100\n",
            "\u001b[1m20/20\u001b[0m \u001b[32m━━━━━━━━━━━━━━━━━━━━\u001b[0m\u001b[37m\u001b[0m \u001b[1m0s\u001b[0m 7ms/step - accuracy: 0.5911 - loss: 1.2824 - val_accuracy: 0.5385 - val_loss: 1.2303\n",
            "Epoch 6/100\n",
            "\u001b[1m20/20\u001b[0m \u001b[32m━━━━━━━━━━━━━━━━━━━━\u001b[0m\u001b[37m\u001b[0m \u001b[1m0s\u001b[0m 5ms/step - accuracy: 0.5840 - loss: 1.2393 - val_accuracy: 0.5577 - val_loss: 1.2074\n",
            "Epoch 7/100\n",
            "\u001b[1m20/20\u001b[0m \u001b[32m━━━━━━━━━━━━━━━━━━━━\u001b[0m\u001b[37m\u001b[0m \u001b[1m0s\u001b[0m 7ms/step - accuracy: 0.5856 - loss: 1.2060 - val_accuracy: 0.5577 - val_loss: 1.1910\n",
            "Epoch 8/100\n",
            "\u001b[1m20/20\u001b[0m \u001b[32m━━━━━━━━━━━━━━━━━━━━\u001b[0m\u001b[37m\u001b[0m \u001b[1m0s\u001b[0m 5ms/step - accuracy: 0.5872 - loss: 1.1792 - val_accuracy: 0.5577 - val_loss: 1.1790\n",
            "Epoch 9/100\n",
            "\u001b[1m20/20\u001b[0m \u001b[32m━━━━━━━━━━━━━━━━━━━━\u001b[0m\u001b[37m\u001b[0m \u001b[1m0s\u001b[0m 7ms/step - accuracy: 0.6054 - loss: 1.1570 - val_accuracy: 0.5769 - val_loss: 1.1701\n",
            "Epoch 10/100\n",
            "\u001b[1m20/20\u001b[0m \u001b[32m━━━━━━━━━━━━━━━━━━━━\u001b[0m\u001b[37m\u001b[0m \u001b[1m0s\u001b[0m 7ms/step - accuracy: 0.6185 - loss: 1.1381 - val_accuracy: 0.5769 - val_loss: 1.1633\n",
            "Epoch 11/100\n",
            "\u001b[1m20/20\u001b[0m \u001b[32m━━━━━━━━━━━━━━━━━━━━\u001b[0m\u001b[37m\u001b[0m \u001b[1m0s\u001b[0m 7ms/step - accuracy: 0.6185 - loss: 1.1219 - val_accuracy: 0.5769 - val_loss: 1.1582\n",
            "Epoch 12/100\n",
            "\u001b[1m20/20\u001b[0m \u001b[32m━━━━━━━━━━━━━━━━━━━━\u001b[0m\u001b[37m\u001b[0m \u001b[1m0s\u001b[0m 5ms/step - accuracy: 0.6185 - loss: 1.1078 - val_accuracy: 0.5769 - val_loss: 1.1544\n",
            "Epoch 13/100\n",
            "\u001b[1m20/20\u001b[0m \u001b[32m━━━━━━━━━━━━━━━━━━━━\u001b[0m\u001b[37m\u001b[0m \u001b[1m0s\u001b[0m 6ms/step - accuracy: 0.6157 - loss: 1.0955 - val_accuracy: 0.5769 - val_loss: 1.1515\n",
            "Epoch 14/100\n",
            "\u001b[1m20/20\u001b[0m \u001b[32m━━━━━━━━━━━━━━━━━━━━\u001b[0m\u001b[37m\u001b[0m \u001b[1m0s\u001b[0m 5ms/step - accuracy: 0.6157 - loss: 1.0845 - val_accuracy: 0.5769 - val_loss: 1.1493\n",
            "Epoch 15/100\n",
            "\u001b[1m20/20\u001b[0m \u001b[32m━━━━━━━━━━━━━━━━━━━━\u001b[0m\u001b[37m\u001b[0m \u001b[1m0s\u001b[0m 7ms/step - accuracy: 0.6157 - loss: 1.0748 - val_accuracy: 0.5769 - val_loss: 1.1477\n",
            "Epoch 16/100\n",
            "\u001b[1m20/20\u001b[0m \u001b[32m━━━━━━━━━━━━━━━━━━━━\u001b[0m\u001b[37m\u001b[0m \u001b[1m0s\u001b[0m 5ms/step - accuracy: 0.6229 - loss: 1.0661 - val_accuracy: 0.5962 - val_loss: 1.1465\n",
            "Epoch 17/100\n",
            "\u001b[1m20/20\u001b[0m \u001b[32m━━━━━━━━━━━━━━━━━━━━\u001b[0m\u001b[37m\u001b[0m \u001b[1m0s\u001b[0m 5ms/step - accuracy: 0.6229 - loss: 1.0582 - val_accuracy: 0.5962 - val_loss: 1.1458\n",
            "Epoch 18/100\n",
            "\u001b[1m20/20\u001b[0m \u001b[32m━━━━━━━━━━━━━━━━━━━━\u001b[0m\u001b[37m\u001b[0m \u001b[1m0s\u001b[0m 5ms/step - accuracy: 0.6229 - loss: 1.0512 - val_accuracy: 0.5962 - val_loss: 1.1454\n",
            "Epoch 19/100\n",
            "\u001b[1m20/20\u001b[0m \u001b[32m━━━━━━━━━━━━━━━━━━━━\u001b[0m\u001b[37m\u001b[0m \u001b[1m0s\u001b[0m 5ms/step - accuracy: 0.6229 - loss: 1.0448 - val_accuracy: 0.5962 - val_loss: 1.1452\n",
            "Epoch 20/100\n",
            "\u001b[1m20/20\u001b[0m \u001b[32m━━━━━━━━━━━━━━━━━━━━\u001b[0m\u001b[37m\u001b[0m \u001b[1m0s\u001b[0m 5ms/step - accuracy: 0.6229 - loss: 1.0390 - val_accuracy: 0.5769 - val_loss: 1.1452\n",
            "Epoch 21/100\n",
            "\u001b[1m20/20\u001b[0m \u001b[32m━━━━━━━━━━━━━━━━━━━━\u001b[0m\u001b[37m\u001b[0m \u001b[1m0s\u001b[0m 5ms/step - accuracy: 0.6229 - loss: 1.0338 - val_accuracy: 0.5769 - val_loss: 1.1454\n",
            "Epoch 22/100\n",
            "\u001b[1m20/20\u001b[0m \u001b[32m━━━━━━━━━━━━━━━━━━━━\u001b[0m\u001b[37m\u001b[0m \u001b[1m0s\u001b[0m 6ms/step - accuracy: 0.6266 - loss: 1.0290 - val_accuracy: 0.5769 - val_loss: 1.1458\n",
            "Epoch 23/100\n",
            "\u001b[1m20/20\u001b[0m \u001b[32m━━━━━━━━━━━━━━━━━━━━\u001b[0m\u001b[37m\u001b[0m \u001b[1m0s\u001b[0m 5ms/step - accuracy: 0.6266 - loss: 1.0246 - val_accuracy: 0.5769 - val_loss: 1.1463\n",
            "Epoch 24/100\n",
            "\u001b[1m20/20\u001b[0m \u001b[32m━━━━━━━━━━━━━━━━━━━━\u001b[0m\u001b[37m\u001b[0m \u001b[1m0s\u001b[0m 5ms/step - accuracy: 0.6424 - loss: 1.0206 - val_accuracy: 0.5769 - val_loss: 1.1470\n",
            "Epoch 25/100\n",
            "\u001b[1m20/20\u001b[0m \u001b[32m━━━━━━━━━━━━━━━━━━━━\u001b[0m\u001b[37m\u001b[0m \u001b[1m0s\u001b[0m 5ms/step - accuracy: 0.6424 - loss: 1.0169 - val_accuracy: 0.5769 - val_loss: 1.1477\n",
            "Epoch 26/100\n",
            "\u001b[1m20/20\u001b[0m \u001b[32m━━━━━━━━━━━━━━━━━━━━\u001b[0m\u001b[37m\u001b[0m \u001b[1m0s\u001b[0m 5ms/step - accuracy: 0.6424 - loss: 1.0135 - val_accuracy: 0.5769 - val_loss: 1.1485\n",
            "Epoch 27/100\n",
            "\u001b[1m20/20\u001b[0m \u001b[32m━━━━━━━━━━━━━━━━━━━━\u001b[0m\u001b[37m\u001b[0m \u001b[1m0s\u001b[0m 5ms/step - accuracy: 0.6424 - loss: 1.0104 - val_accuracy: 0.5769 - val_loss: 1.1494\n",
            "Epoch 28/100\n",
            "\u001b[1m20/20\u001b[0m \u001b[32m━━━━━━━━━━━━━━━━━━━━\u001b[0m\u001b[37m\u001b[0m \u001b[1m0s\u001b[0m 5ms/step - accuracy: 0.6424 - loss: 1.0075 - val_accuracy: 0.5769 - val_loss: 1.1503\n",
            "Epoch 29/100\n",
            "\u001b[1m20/20\u001b[0m \u001b[32m━━━━━━━━━━━━━━━━━━━━\u001b[0m\u001b[37m\u001b[0m \u001b[1m0s\u001b[0m 8ms/step - accuracy: 0.6424 - loss: 1.0048 - val_accuracy: 0.5769 - val_loss: 1.1513\n",
            "Epoch 30/100\n",
            "\u001b[1m20/20\u001b[0m \u001b[32m━━━━━━━━━━━━━━━━━━━━\u001b[0m\u001b[37m\u001b[0m \u001b[1m0s\u001b[0m 5ms/step - accuracy: 0.6424 - loss: 1.0023 - val_accuracy: 0.5769 - val_loss: 1.1524\n",
            "Epoch 31/100\n",
            "\u001b[1m20/20\u001b[0m \u001b[32m━━━━━━━━━━━━━━━━━━━━\u001b[0m\u001b[37m\u001b[0m \u001b[1m0s\u001b[0m 5ms/step - accuracy: 0.6424 - loss: 1.0000 - val_accuracy: 0.5769 - val_loss: 1.1535\n",
            "Epoch 32/100\n",
            "\u001b[1m20/20\u001b[0m \u001b[32m━━━━━━━━━━━━━━━━━━━━\u001b[0m\u001b[37m\u001b[0m \u001b[1m0s\u001b[0m 7ms/step - accuracy: 0.6424 - loss: 0.9979 - val_accuracy: 0.5769 - val_loss: 1.1546\n",
            "Epoch 33/100\n",
            "\u001b[1m20/20\u001b[0m \u001b[32m━━━━━━━━━━━━━━━━━━━━\u001b[0m\u001b[37m\u001b[0m \u001b[1m0s\u001b[0m 5ms/step - accuracy: 0.6424 - loss: 0.9959 - val_accuracy: 0.5769 - val_loss: 1.1557\n",
            "Epoch 34/100\n",
            "\u001b[1m20/20\u001b[0m \u001b[32m━━━━━━━━━━━━━━━━━━━━\u001b[0m\u001b[37m\u001b[0m \u001b[1m0s\u001b[0m 5ms/step - accuracy: 0.6424 - loss: 0.9940 - val_accuracy: 0.5769 - val_loss: 1.1569\n",
            "Epoch 35/100\n",
            "\u001b[1m20/20\u001b[0m \u001b[32m━━━━━━━━━━━━━━━━━━━━\u001b[0m\u001b[37m\u001b[0m \u001b[1m0s\u001b[0m 7ms/step - accuracy: 0.6424 - loss: 0.9923 - val_accuracy: 0.5769 - val_loss: 1.1581\n",
            "Epoch 36/100\n",
            "\u001b[1m20/20\u001b[0m \u001b[32m━━━━━━━━━━━━━━━━━━━━\u001b[0m\u001b[37m\u001b[0m \u001b[1m0s\u001b[0m 5ms/step - accuracy: 0.6424 - loss: 0.9906 - val_accuracy: 0.5769 - val_loss: 1.1593\n",
            "Epoch 37/100\n",
            "\u001b[1m20/20\u001b[0m \u001b[32m━━━━━━━━━━━━━━━━━━━━\u001b[0m\u001b[37m\u001b[0m \u001b[1m0s\u001b[0m 5ms/step - accuracy: 0.6424 - loss: 0.9891 - val_accuracy: 0.5769 - val_loss: 1.1605\n",
            "Epoch 38/100\n",
            "\u001b[1m20/20\u001b[0m \u001b[32m━━━━━━━━━━━━━━━━━━━━\u001b[0m\u001b[37m\u001b[0m \u001b[1m0s\u001b[0m 5ms/step - accuracy: 0.6424 - loss: 0.9876 - val_accuracy: 0.5769 - val_loss: 1.1618\n",
            "Epoch 39/100\n",
            "\u001b[1m20/20\u001b[0m \u001b[32m━━━━━━━━━━━━━━━━━━━━\u001b[0m\u001b[37m\u001b[0m \u001b[1m0s\u001b[0m 7ms/step - accuracy: 0.6424 - loss: 0.9863 - val_accuracy: 0.5769 - val_loss: 1.1630\n",
            "Epoch 40/100\n",
            "\u001b[1m20/20\u001b[0m \u001b[32m━━━━━━━━━━━━━━━━━━━━\u001b[0m\u001b[37m\u001b[0m \u001b[1m0s\u001b[0m 11ms/step - accuracy: 0.6424 - loss: 0.9850 - val_accuracy: 0.5769 - val_loss: 1.1642\n",
            "Epoch 41/100\n",
            "\u001b[1m20/20\u001b[0m \u001b[32m━━━━━━━━━━━━━━━━━━━━\u001b[0m\u001b[37m\u001b[0m \u001b[1m0s\u001b[0m 8ms/step - accuracy: 0.6424 - loss: 0.9838 - val_accuracy: 0.5769 - val_loss: 1.1655\n",
            "Epoch 42/100\n",
            "\u001b[1m20/20\u001b[0m \u001b[32m━━━━━━━━━━━━━━━━━━━━\u001b[0m\u001b[37m\u001b[0m \u001b[1m0s\u001b[0m 7ms/step - accuracy: 0.6424 - loss: 0.9826 - val_accuracy: 0.5769 - val_loss: 1.1667\n",
            "Epoch 43/100\n",
            "\u001b[1m20/20\u001b[0m \u001b[32m━━━━━━━━━━━━━━━━━━━━\u001b[0m\u001b[37m\u001b[0m \u001b[1m0s\u001b[0m 9ms/step - accuracy: 0.6424 - loss: 0.9815 - val_accuracy: 0.5769 - val_loss: 1.1679\n",
            "Epoch 44/100\n",
            "\u001b[1m20/20\u001b[0m \u001b[32m━━━━━━━━━━━━━━━━━━━━\u001b[0m\u001b[37m\u001b[0m \u001b[1m0s\u001b[0m 9ms/step - accuracy: 0.6424 - loss: 0.9805 - val_accuracy: 0.5769 - val_loss: 1.1692\n",
            "Epoch 45/100\n",
            "\u001b[1m20/20\u001b[0m \u001b[32m━━━━━━━━━━━━━━━━━━━━\u001b[0m\u001b[37m\u001b[0m \u001b[1m0s\u001b[0m 8ms/step - accuracy: 0.6424 - loss: 0.9795 - val_accuracy: 0.5769 - val_loss: 1.1704\n",
            "Epoch 46/100\n",
            "\u001b[1m20/20\u001b[0m \u001b[32m━━━━━━━━━━━━━━━━━━━━\u001b[0m\u001b[37m\u001b[0m \u001b[1m0s\u001b[0m 9ms/step - accuracy: 0.6266 - loss: 0.9786 - val_accuracy: 0.5769 - val_loss: 1.1716\n",
            "Epoch 47/100\n",
            "\u001b[1m20/20\u001b[0m \u001b[32m━━━━━━━━━━━━━━━━━━━━\u001b[0m\u001b[37m\u001b[0m \u001b[1m0s\u001b[0m 5ms/step - accuracy: 0.6266 - loss: 0.9777 - val_accuracy: 0.5769 - val_loss: 1.1728\n",
            "Epoch 48/100\n",
            "\u001b[1m20/20\u001b[0m \u001b[32m━━━━━━━━━━━━━━━━━━━━\u001b[0m\u001b[37m\u001b[0m \u001b[1m0s\u001b[0m 5ms/step - accuracy: 0.6266 - loss: 0.9769 - val_accuracy: 0.5769 - val_loss: 1.1740\n",
            "Epoch 49/100\n",
            "\u001b[1m20/20\u001b[0m \u001b[32m━━━━━━━━━━━━━━━━━━━━\u001b[0m\u001b[37m\u001b[0m \u001b[1m0s\u001b[0m 6ms/step - accuracy: 0.6266 - loss: 0.9760 - val_accuracy: 0.5769 - val_loss: 1.1752\n",
            "Epoch 50/100\n",
            "\u001b[1m20/20\u001b[0m \u001b[32m━━━━━━━━━━━━━━━━━━━━\u001b[0m\u001b[37m\u001b[0m \u001b[1m0s\u001b[0m 5ms/step - accuracy: 0.6266 - loss: 0.9753 - val_accuracy: 0.5769 - val_loss: 1.1764\n",
            "Epoch 51/100\n",
            "\u001b[1m20/20\u001b[0m \u001b[32m━━━━━━━━━━━━━━━━━━━━\u001b[0m\u001b[37m\u001b[0m \u001b[1m0s\u001b[0m 5ms/step - accuracy: 0.6266 - loss: 0.9745 - val_accuracy: 0.5769 - val_loss: 1.1776\n",
            "Epoch 52/100\n",
            "\u001b[1m20/20\u001b[0m \u001b[32m━━━━━━━━━━━━━━━━━━━━\u001b[0m\u001b[37m\u001b[0m \u001b[1m0s\u001b[0m 5ms/step - accuracy: 0.6266 - loss: 0.9738 - val_accuracy: 0.5769 - val_loss: 1.1788\n",
            "Epoch 53/100\n",
            "\u001b[1m20/20\u001b[0m \u001b[32m━━━━━━━━━━━━━━━━━━━━\u001b[0m\u001b[37m\u001b[0m \u001b[1m0s\u001b[0m 6ms/step - accuracy: 0.6266 - loss: 0.9732 - val_accuracy: 0.5769 - val_loss: 1.1799\n",
            "Epoch 54/100\n",
            "\u001b[1m20/20\u001b[0m \u001b[32m━━━━━━━━━━━━━━━━━━━━\u001b[0m\u001b[37m\u001b[0m \u001b[1m0s\u001b[0m 5ms/step - accuracy: 0.6266 - loss: 0.9725 - val_accuracy: 0.5769 - val_loss: 1.1811\n",
            "Epoch 55/100\n",
            "\u001b[1m20/20\u001b[0m \u001b[32m━━━━━━━━━━━━━━━━━━━━\u001b[0m\u001b[37m\u001b[0m \u001b[1m0s\u001b[0m 5ms/step - accuracy: 0.6266 - loss: 0.9719 - val_accuracy: 0.5769 - val_loss: 1.1822\n",
            "Epoch 56/100\n",
            "\u001b[1m20/20\u001b[0m \u001b[32m━━━━━━━━━━━━━━━━━━━━\u001b[0m\u001b[37m\u001b[0m \u001b[1m0s\u001b[0m 5ms/step - accuracy: 0.6266 - loss: 0.9713 - val_accuracy: 0.5769 - val_loss: 1.1834\n",
            "Epoch 57/100\n",
            "\u001b[1m20/20\u001b[0m \u001b[32m━━━━━━━━━━━━━━━━━━━━\u001b[0m\u001b[37m\u001b[0m \u001b[1m0s\u001b[0m 6ms/step - accuracy: 0.6266 - loss: 0.9708 - val_accuracy: 0.5769 - val_loss: 1.1845\n",
            "Epoch 58/100\n",
            "\u001b[1m20/20\u001b[0m \u001b[32m━━━━━━━━━━━━━━━━━━━━\u001b[0m\u001b[37m\u001b[0m \u001b[1m0s\u001b[0m 6ms/step - accuracy: 0.6266 - loss: 0.9702 - val_accuracy: 0.5769 - val_loss: 1.1856\n",
            "Epoch 59/100\n",
            "\u001b[1m20/20\u001b[0m \u001b[32m━━━━━━━━━━━━━━━━━━━━\u001b[0m\u001b[37m\u001b[0m \u001b[1m0s\u001b[0m 5ms/step - accuracy: 0.6266 - loss: 0.9697 - val_accuracy: 0.5769 - val_loss: 1.1867\n",
            "Epoch 60/100\n",
            "\u001b[1m20/20\u001b[0m \u001b[32m━━━━━━━━━━━━━━━━━━━━\u001b[0m\u001b[37m\u001b[0m \u001b[1m0s\u001b[0m 5ms/step - accuracy: 0.6266 - loss: 0.9692 - val_accuracy: 0.5769 - val_loss: 1.1878\n",
            "Epoch 61/100\n",
            "\u001b[1m20/20\u001b[0m \u001b[32m━━━━━━━━━━━━━━━━━━━━\u001b[0m\u001b[37m\u001b[0m \u001b[1m0s\u001b[0m 5ms/step - accuracy: 0.6238 - loss: 0.9687 - val_accuracy: 0.5769 - val_loss: 1.1889\n",
            "Epoch 62/100\n",
            "\u001b[1m20/20\u001b[0m \u001b[32m━━━━━━━━━━━━━━━━━━━━\u001b[0m\u001b[37m\u001b[0m \u001b[1m0s\u001b[0m 5ms/step - accuracy: 0.6238 - loss: 0.9683 - val_accuracy: 0.5769 - val_loss: 1.1899\n",
            "Epoch 63/100\n",
            "\u001b[1m20/20\u001b[0m \u001b[32m━━━━━━━━━━━━━━━━━━━━\u001b[0m\u001b[37m\u001b[0m \u001b[1m0s\u001b[0m 5ms/step - accuracy: 0.6238 - loss: 0.9678 - val_accuracy: 0.5769 - val_loss: 1.1910\n",
            "Epoch 64/100\n",
            "\u001b[1m20/20\u001b[0m \u001b[32m━━━━━━━━━━━━━━━━━━━━\u001b[0m\u001b[37m\u001b[0m \u001b[1m0s\u001b[0m 6ms/step - accuracy: 0.6238 - loss: 0.9674 - val_accuracy: 0.5769 - val_loss: 1.1920\n",
            "Epoch 65/100\n",
            "\u001b[1m20/20\u001b[0m \u001b[32m━━━━━━━━━━━━━━━━━━━━\u001b[0m\u001b[37m\u001b[0m \u001b[1m0s\u001b[0m 7ms/step - accuracy: 0.6238 - loss: 0.9670 - val_accuracy: 0.5769 - val_loss: 1.1931\n",
            "Epoch 66/100\n",
            "\u001b[1m20/20\u001b[0m \u001b[32m━━━━━━━━━━━━━━━━━━━━\u001b[0m\u001b[37m\u001b[0m \u001b[1m0s\u001b[0m 5ms/step - accuracy: 0.6238 - loss: 0.9666 - val_accuracy: 0.5769 - val_loss: 1.1941\n",
            "Epoch 67/100\n",
            "\u001b[1m20/20\u001b[0m \u001b[32m━━━━━━━━━━━━━━━━━━━━\u001b[0m\u001b[37m\u001b[0m \u001b[1m0s\u001b[0m 6ms/step - accuracy: 0.6238 - loss: 0.9662 - val_accuracy: 0.5769 - val_loss: 1.1951\n",
            "Epoch 68/100\n",
            "\u001b[1m20/20\u001b[0m \u001b[32m━━━━━━━━━━━━━━━━━━━━\u001b[0m\u001b[37m\u001b[0m \u001b[1m0s\u001b[0m 5ms/step - accuracy: 0.6238 - loss: 0.9658 - val_accuracy: 0.5769 - val_loss: 1.1961\n",
            "Epoch 69/100\n",
            "\u001b[1m20/20\u001b[0m \u001b[32m━━━━━━━━━━━━━━━━━━━━\u001b[0m\u001b[37m\u001b[0m \u001b[1m0s\u001b[0m 6ms/step - accuracy: 0.6238 - loss: 0.9654 - val_accuracy: 0.5769 - val_loss: 1.1971\n",
            "Epoch 70/100\n",
            "\u001b[1m20/20\u001b[0m \u001b[32m━━━━━━━━━━━━━━━━━━━━\u001b[0m\u001b[37m\u001b[0m \u001b[1m0s\u001b[0m 5ms/step - accuracy: 0.6238 - loss: 0.9651 - val_accuracy: 0.5769 - val_loss: 1.1981\n",
            "Epoch 71/100\n",
            "\u001b[1m20/20\u001b[0m \u001b[32m━━━━━━━━━━━━━━━━━━━━\u001b[0m\u001b[37m\u001b[0m \u001b[1m0s\u001b[0m 7ms/step - accuracy: 0.6189 - loss: 0.9647 - val_accuracy: 0.5769 - val_loss: 1.1991\n",
            "Epoch 72/100\n",
            "\u001b[1m20/20\u001b[0m \u001b[32m━━━━━━━━━━━━━━━━━━━━\u001b[0m\u001b[37m\u001b[0m \u001b[1m0s\u001b[0m 5ms/step - accuracy: 0.6189 - loss: 0.9644 - val_accuracy: 0.5769 - val_loss: 1.2001\n",
            "Epoch 73/100\n",
            "\u001b[1m20/20\u001b[0m \u001b[32m━━━━━━━━━━━━━━━━━━━━\u001b[0m\u001b[37m\u001b[0m \u001b[1m0s\u001b[0m 5ms/step - accuracy: 0.6189 - loss: 0.9641 - val_accuracy: 0.5769 - val_loss: 1.2010\n",
            "Epoch 74/100\n",
            "\u001b[1m20/20\u001b[0m \u001b[32m━━━━━━━━━━━━━━━━━━━━\u001b[0m\u001b[37m\u001b[0m \u001b[1m0s\u001b[0m 5ms/step - accuracy: 0.6189 - loss: 0.9638 - val_accuracy: 0.5769 - val_loss: 1.2020\n",
            "Epoch 75/100\n",
            "\u001b[1m20/20\u001b[0m \u001b[32m━━━━━━━━━━━━━━━━━━━━\u001b[0m\u001b[37m\u001b[0m \u001b[1m0s\u001b[0m 5ms/step - accuracy: 0.6189 - loss: 0.9635 - val_accuracy: 0.5769 - val_loss: 1.2029\n",
            "Epoch 76/100\n",
            "\u001b[1m20/20\u001b[0m \u001b[32m━━━━━━━━━━━━━━━━━━━━\u001b[0m\u001b[37m\u001b[0m \u001b[1m0s\u001b[0m 5ms/step - accuracy: 0.6189 - loss: 0.9632 - val_accuracy: 0.5769 - val_loss: 1.2038\n",
            "Epoch 77/100\n",
            "\u001b[1m20/20\u001b[0m \u001b[32m━━━━━━━━━━━━━━━━━━━━\u001b[0m\u001b[37m\u001b[0m \u001b[1m0s\u001b[0m 7ms/step - accuracy: 0.6189 - loss: 0.9629 - val_accuracy: 0.5769 - val_loss: 1.2048\n",
            "Epoch 78/100\n",
            "\u001b[1m20/20\u001b[0m \u001b[32m━━━━━━━━━━━━━━━━━━━━\u001b[0m\u001b[37m\u001b[0m \u001b[1m0s\u001b[0m 5ms/step - accuracy: 0.6189 - loss: 0.9626 - val_accuracy: 0.5769 - val_loss: 1.2057\n",
            "Epoch 79/100\n",
            "\u001b[1m20/20\u001b[0m \u001b[32m━━━━━━━━━━━━━━━━━━━━\u001b[0m\u001b[37m\u001b[0m \u001b[1m0s\u001b[0m 5ms/step - accuracy: 0.6189 - loss: 0.9624 - val_accuracy: 0.5769 - val_loss: 1.2066\n",
            "Epoch 80/100\n",
            "\u001b[1m20/20\u001b[0m \u001b[32m━━━━━━━━━━━━━━━━━━━━\u001b[0m\u001b[37m\u001b[0m \u001b[1m0s\u001b[0m 5ms/step - accuracy: 0.6189 - loss: 0.9621 - val_accuracy: 0.5769 - val_loss: 1.2075\n",
            "Epoch 81/100\n",
            "\u001b[1m20/20\u001b[0m \u001b[32m━━━━━━━━━━━━━━━━━━━━\u001b[0m\u001b[37m\u001b[0m \u001b[1m0s\u001b[0m 5ms/step - accuracy: 0.6189 - loss: 0.9619 - val_accuracy: 0.5769 - val_loss: 1.2083\n",
            "Epoch 82/100\n",
            "\u001b[1m20/20\u001b[0m \u001b[32m━━━━━━━━━━━━━━━━━━━━\u001b[0m\u001b[37m\u001b[0m \u001b[1m0s\u001b[0m 5ms/step - accuracy: 0.6189 - loss: 0.9616 - val_accuracy: 0.5769 - val_loss: 1.2092\n",
            "Epoch 83/100\n",
            "\u001b[1m20/20\u001b[0m \u001b[32m━━━━━━━━━━━━━━━━━━━━\u001b[0m\u001b[37m\u001b[0m \u001b[1m0s\u001b[0m 6ms/step - accuracy: 0.6189 - loss: 0.9614 - val_accuracy: 0.5769 - val_loss: 1.2101\n",
            "Epoch 84/100\n",
            "\u001b[1m20/20\u001b[0m \u001b[32m━━━━━━━━━━━━━━━━━━━━\u001b[0m\u001b[37m\u001b[0m \u001b[1m0s\u001b[0m 5ms/step - accuracy: 0.6189 - loss: 0.9612 - val_accuracy: 0.5769 - val_loss: 1.2110\n",
            "Epoch 85/100\n",
            "\u001b[1m20/20\u001b[0m \u001b[32m━━━━━━━━━━━━━━━━━━━━\u001b[0m\u001b[37m\u001b[0m \u001b[1m0s\u001b[0m 5ms/step - accuracy: 0.6189 - loss: 0.9609 - val_accuracy: 0.5769 - val_loss: 1.2118\n",
            "Epoch 86/100\n",
            "\u001b[1m20/20\u001b[0m \u001b[32m━━━━━━━━━━━━━━━━━━━━\u001b[0m\u001b[37m\u001b[0m \u001b[1m0s\u001b[0m 7ms/step - accuracy: 0.6189 - loss: 0.9607 - val_accuracy: 0.5769 - val_loss: 1.2127\n",
            "Epoch 87/100\n",
            "\u001b[1m20/20\u001b[0m \u001b[32m━━━━━━━━━━━━━━━━━━━━\u001b[0m\u001b[37m\u001b[0m \u001b[1m0s\u001b[0m 6ms/step - accuracy: 0.6189 - loss: 0.9605 - val_accuracy: 0.5769 - val_loss: 1.2135\n",
            "Epoch 88/100\n",
            "\u001b[1m20/20\u001b[0m \u001b[32m━━━━━━━━━━━━━━━━━━━━\u001b[0m\u001b[37m\u001b[0m \u001b[1m0s\u001b[0m 7ms/step - accuracy: 0.6189 - loss: 0.9603 - val_accuracy: 0.5577 - val_loss: 1.2143\n",
            "Epoch 89/100\n",
            "\u001b[1m20/20\u001b[0m \u001b[32m━━━━━━━━━━━━━━━━━━━━\u001b[0m\u001b[37m\u001b[0m \u001b[1m0s\u001b[0m 9ms/step - accuracy: 0.6189 - loss: 0.9601 - val_accuracy: 0.5577 - val_loss: 1.2151\n",
            "Epoch 90/100\n",
            "\u001b[1m20/20\u001b[0m \u001b[32m━━━━━━━━━━━━━━━━━━━━\u001b[0m\u001b[37m\u001b[0m \u001b[1m0s\u001b[0m 9ms/step - accuracy: 0.6189 - loss: 0.9599 - val_accuracy: 0.5577 - val_loss: 1.2160\n",
            "Epoch 91/100\n",
            "\u001b[1m20/20\u001b[0m \u001b[32m━━━━━━━━━━━━━━━━━━━━\u001b[0m\u001b[37m\u001b[0m \u001b[1m0s\u001b[0m 9ms/step - accuracy: 0.6189 - loss: 0.9597 - val_accuracy: 0.5577 - val_loss: 1.2168\n",
            "Epoch 92/100\n",
            "\u001b[1m20/20\u001b[0m \u001b[32m━━━━━━━━━━━━━━━━━━━━\u001b[0m\u001b[37m\u001b[0m \u001b[1m0s\u001b[0m 9ms/step - accuracy: 0.6189 - loss: 0.9595 - val_accuracy: 0.5577 - val_loss: 1.2176\n",
            "Epoch 93/100\n",
            "\u001b[1m20/20\u001b[0m \u001b[32m━━━━━━━━━━━━━━━━━━━━\u001b[0m\u001b[37m\u001b[0m \u001b[1m0s\u001b[0m 9ms/step - accuracy: 0.6189 - loss: 0.9593 - val_accuracy: 0.5577 - val_loss: 1.2184\n",
            "Epoch 94/100\n",
            "\u001b[1m20/20\u001b[0m \u001b[32m━━━━━━━━━━━━━━━━━━━━\u001b[0m\u001b[37m\u001b[0m \u001b[1m0s\u001b[0m 8ms/step - accuracy: 0.6189 - loss: 0.9592 - val_accuracy: 0.5577 - val_loss: 1.2191\n",
            "Epoch 95/100\n",
            "\u001b[1m20/20\u001b[0m \u001b[32m━━━━━━━━━━━━━━━━━━━━\u001b[0m\u001b[37m\u001b[0m \u001b[1m0s\u001b[0m 9ms/step - accuracy: 0.6189 - loss: 0.9590 - val_accuracy: 0.5577 - val_loss: 1.2199\n",
            "Epoch 96/100\n",
            "\u001b[1m20/20\u001b[0m \u001b[32m━━━━━━━━━━━━━━━━━━━━\u001b[0m\u001b[37m\u001b[0m \u001b[1m0s\u001b[0m 11ms/step - accuracy: 0.6189 - loss: 0.9588 - val_accuracy: 0.5577 - val_loss: 1.2207\n",
            "Epoch 97/100\n",
            "\u001b[1m20/20\u001b[0m \u001b[32m━━━━━━━━━━━━━━━━━━━━\u001b[0m\u001b[37m\u001b[0m \u001b[1m0s\u001b[0m 7ms/step - accuracy: 0.6189 - loss: 0.9587 - val_accuracy: 0.5577 - val_loss: 1.2215\n",
            "Epoch 98/100\n",
            "\u001b[1m20/20\u001b[0m \u001b[32m━━━━━━━━━━━━━━━━━━━━\u001b[0m\u001b[37m\u001b[0m \u001b[1m0s\u001b[0m 5ms/step - accuracy: 0.6189 - loss: 0.9585 - val_accuracy: 0.5577 - val_loss: 1.2222\n",
            "Epoch 99/100\n",
            "\u001b[1m20/20\u001b[0m \u001b[32m━━━━━━━━━━━━━━━━━━━━\u001b[0m\u001b[37m\u001b[0m \u001b[1m0s\u001b[0m 5ms/step - accuracy: 0.6189 - loss: 0.9583 - val_accuracy: 0.5577 - val_loss: 1.2230\n",
            "Epoch 100/100\n",
            "\u001b[1m20/20\u001b[0m \u001b[32m━━━━━━━━━━━━━━━━━━━━\u001b[0m\u001b[37m\u001b[0m \u001b[1m0s\u001b[0m 9ms/step - accuracy: 0.6189 - loss: 0.9582 - val_accuracy: 0.5577 - val_loss: 1.2237\n",
            "Best epoch: 19\n"
          ]
        }
      ]
    },
    {
      "cell_type": "code",
      "source": [
        "# Getting the final optimized metrics\n",
        "model_hp_c_1.optimizer.get_config()"
      ],
      "metadata": {
        "colab": {
          "base_uri": "https://localhost:8080/"
        },
        "id": "hMDzN631JoYT",
        "outputId": "905a9d70-39b7-4581-f1b8-515ba33b7552"
      },
      "id": "hMDzN631JoYT",
      "execution_count": 72,
      "outputs": [
        {
          "output_type": "execute_result",
          "data": {
            "text/plain": [
              "{'name': 'SGD',\n",
              " 'learning_rate': 0.9998999834060669,\n",
              " 'weight_decay': None,\n",
              " 'clipnorm': None,\n",
              " 'global_clipnorm': None,\n",
              " 'clipvalue': None,\n",
              " 'use_ema': False,\n",
              " 'ema_momentum': 0.99,\n",
              " 'ema_overwrite_frequency': None,\n",
              " 'loss_scale_factor': None,\n",
              " 'gradient_accumulation_steps': None,\n",
              " 'momentum': 0.0,\n",
              " 'nesterov': False}"
            ]
          },
          "metadata": {},
          "execution_count": 72
        }
      ]
    },
    {
      "cell_type": "code",
      "source": [
        "# Re-instantiating the hypermodel and training it with the optimal number of\n",
        "# epochs from above\n",
        "hypermodel_c_1 = tuner_c_1.hypermodel.build(best_hps_c_1)\n",
        "\n",
        "# Retrain the model\n",
        "hypermodel_c_1_fit = hypermodel_c_1.fit(\n",
        "    X_train,\n",
        "    Y_train,\n",
        "    epochs=best_epoch_c_1,\n",
        "    validation_data = [X_val, Y_val],\n",
        "    batch_size = best_hps_c_1.get('batch_size'))"
      ],
      "metadata": {
        "colab": {
          "base_uri": "https://localhost:8080/"
        },
        "id": "lLboeP2xzZ5R",
        "outputId": "344f3d94-08e7-4639-8b98-952ea6de9d42"
      },
      "id": "lLboeP2xzZ5R",
      "execution_count": 73,
      "outputs": [
        {
          "output_type": "stream",
          "name": "stdout",
          "text": [
            "Epoch 1/19\n",
            "\u001b[1m20/20\u001b[0m \u001b[32m━━━━━━━━━━━━━━━━━━━━\u001b[0m\u001b[37m\u001b[0m \u001b[1m1s\u001b[0m 20ms/step - accuracy: 0.2443 - loss: 1.9073 - val_accuracy: 0.4231 - val_loss: 1.5739\n",
            "Epoch 2/19\n",
            "\u001b[1m20/20\u001b[0m \u001b[32m━━━━━━━━━━━━━━━━━━━━\u001b[0m\u001b[37m\u001b[0m \u001b[1m0s\u001b[0m 9ms/step - accuracy: 0.4697 - loss: 1.5927 - val_accuracy: 0.5000 - val_loss: 1.4018\n",
            "Epoch 3/19\n",
            "\u001b[1m20/20\u001b[0m \u001b[32m━━━━━━━━━━━━━━━━━━━━\u001b[0m\u001b[37m\u001b[0m \u001b[1m0s\u001b[0m 8ms/step - accuracy: 0.5289 - loss: 1.4330 - val_accuracy: 0.5577 - val_loss: 1.3138\n",
            "Epoch 4/19\n",
            "\u001b[1m20/20\u001b[0m \u001b[32m━━━━━━━━━━━━━━━━━━━━\u001b[0m\u001b[37m\u001b[0m \u001b[1m0s\u001b[0m 9ms/step - accuracy: 0.5728 - loss: 1.3422 - val_accuracy: 0.5385 - val_loss: 1.2624\n",
            "Epoch 5/19\n",
            "\u001b[1m20/20\u001b[0m \u001b[32m━━━━━━━━━━━━━━━━━━━━\u001b[0m\u001b[37m\u001b[0m \u001b[1m0s\u001b[0m 10ms/step - accuracy: 0.5911 - loss: 1.2827 - val_accuracy: 0.5385 - val_loss: 1.2290\n",
            "Epoch 6/19\n",
            "\u001b[1m20/20\u001b[0m \u001b[32m━━━━━━━━━━━━━━━━━━━━\u001b[0m\u001b[37m\u001b[0m \u001b[1m0s\u001b[0m 8ms/step - accuracy: 0.5840 - loss: 1.2395 - val_accuracy: 0.5577 - val_loss: 1.2060\n",
            "Epoch 7/19\n",
            "\u001b[1m20/20\u001b[0m \u001b[32m━━━━━━━━━━━━━━━━━━━━\u001b[0m\u001b[37m\u001b[0m \u001b[1m0s\u001b[0m 5ms/step - accuracy: 0.5856 - loss: 1.2062 - val_accuracy: 0.5577 - val_loss: 1.1896\n",
            "Epoch 8/19\n",
            "\u001b[1m20/20\u001b[0m \u001b[32m━━━━━━━━━━━━━━━━━━━━\u001b[0m\u001b[37m\u001b[0m \u001b[1m0s\u001b[0m 5ms/step - accuracy: 0.5856 - loss: 1.1793 - val_accuracy: 0.5577 - val_loss: 1.1775\n",
            "Epoch 9/19\n",
            "\u001b[1m20/20\u001b[0m \u001b[32m━━━━━━━━━━━━━━━━━━━━\u001b[0m\u001b[37m\u001b[0m \u001b[1m0s\u001b[0m 8ms/step - accuracy: 0.6054 - loss: 1.1571 - val_accuracy: 0.5769 - val_loss: 1.1685\n",
            "Epoch 10/19\n",
            "\u001b[1m20/20\u001b[0m \u001b[32m━━━━━━━━━━━━━━━━━━━━\u001b[0m\u001b[37m\u001b[0m \u001b[1m0s\u001b[0m 5ms/step - accuracy: 0.6185 - loss: 1.1382 - val_accuracy: 0.5769 - val_loss: 1.1617\n",
            "Epoch 11/19\n",
            "\u001b[1m20/20\u001b[0m \u001b[32m━━━━━━━━━━━━━━━━━━━━\u001b[0m\u001b[37m\u001b[0m \u001b[1m0s\u001b[0m 5ms/step - accuracy: 0.6185 - loss: 1.1220 - val_accuracy: 0.5769 - val_loss: 1.1566\n",
            "Epoch 12/19\n",
            "\u001b[1m20/20\u001b[0m \u001b[32m━━━━━━━━━━━━━━━━━━━━\u001b[0m\u001b[37m\u001b[0m \u001b[1m0s\u001b[0m 5ms/step - accuracy: 0.6185 - loss: 1.1079 - val_accuracy: 0.5769 - val_loss: 1.1527\n",
            "Epoch 13/19\n",
            "\u001b[1m20/20\u001b[0m \u001b[32m━━━━━━━━━━━━━━━━━━━━\u001b[0m\u001b[37m\u001b[0m \u001b[1m0s\u001b[0m 6ms/step - accuracy: 0.6157 - loss: 1.0955 - val_accuracy: 0.5769 - val_loss: 1.1497\n",
            "Epoch 14/19\n",
            "\u001b[1m20/20\u001b[0m \u001b[32m━━━━━━━━━━━━━━━━━━━━\u001b[0m\u001b[37m\u001b[0m \u001b[1m0s\u001b[0m 5ms/step - accuracy: 0.6157 - loss: 1.0846 - val_accuracy: 0.5769 - val_loss: 1.1475\n",
            "Epoch 15/19\n",
            "\u001b[1m20/20\u001b[0m \u001b[32m━━━━━━━━━━━━━━━━━━━━\u001b[0m\u001b[37m\u001b[0m \u001b[1m0s\u001b[0m 8ms/step - accuracy: 0.6157 - loss: 1.0748 - val_accuracy: 0.5769 - val_loss: 1.1459\n",
            "Epoch 16/19\n",
            "\u001b[1m20/20\u001b[0m \u001b[32m━━━━━━━━━━━━━━━━━━━━\u001b[0m\u001b[37m\u001b[0m \u001b[1m0s\u001b[0m 5ms/step - accuracy: 0.6229 - loss: 1.0661 - val_accuracy: 0.5962 - val_loss: 1.1448\n",
            "Epoch 17/19\n",
            "\u001b[1m20/20\u001b[0m \u001b[32m━━━━━━━━━━━━━━━━━━━━\u001b[0m\u001b[37m\u001b[0m \u001b[1m0s\u001b[0m 5ms/step - accuracy: 0.6229 - loss: 1.0583 - val_accuracy: 0.5962 - val_loss: 1.1440\n",
            "Epoch 18/19\n",
            "\u001b[1m20/20\u001b[0m \u001b[32m━━━━━━━━━━━━━━━━━━━━\u001b[0m\u001b[37m\u001b[0m \u001b[1m0s\u001b[0m 7ms/step - accuracy: 0.6229 - loss: 1.0512 - val_accuracy: 0.5962 - val_loss: 1.1436\n",
            "Epoch 19/19\n",
            "\u001b[1m20/20\u001b[0m \u001b[32m━━━━━━━━━━━━━━━━━━━━\u001b[0m\u001b[37m\u001b[0m \u001b[1m0s\u001b[0m 6ms/step - accuracy: 0.6229 - loss: 1.0448 - val_accuracy: 0.5962 - val_loss: 1.1434\n"
          ]
        }
      ]
    },
    {
      "cell_type": "code",
      "source": [
        "# Getting the history of the model\n",
        "hist_c_1 = hypermodel_c_1_fit.history\n",
        "\n",
        "# Plotting the loss of the final keras tuned model on the first subplot\n",
        "fig = plt.figure(figsize = (16, 4))\n",
        "ax = fig.add_subplot(1, 2, 1)\n",
        "plt.plot(range(1, best_epoch_c_1+1), hist_c_1['loss'], label='Training Loss')\n",
        "plt.plot(range(1, best_epoch_c_1+1), hist_c_1['val_loss'], label='Validation Loss')\n",
        "plt.legend()\n",
        "ax.set_xlabel('Epochs')\n",
        "ax.set_title('Loss After Final Keras Tuning with No Hidden Layers');\n",
        "\n",
        "# Plotting the accuracy of the final keras tuned model on the second subplot\n",
        "ax = fig.add_subplot(1, 2, 2)\n",
        "plt.plot(range(1, best_epoch_c_1+1), hist_c_1['accuracy'], label='Training Acc')\n",
        "plt.plot(range(1, best_epoch_c_1+1), hist_c_1['val_accuracy'], label='Validation Acc')\n",
        "plt.legend()\n",
        "ax.set_xlabel('Epochs')\n",
        "ax.set_title('Accuracy After Final Keras Tuning with No Hidden Layers')\n",
        "plt.show()"
      ],
      "metadata": {
        "colab": {
          "base_uri": "https://localhost:8080/",
          "height": 410
        },
        "id": "sQsRwcLVGAmJ",
        "outputId": "18b15af4-b871-4a16-c8c5-84e3e80bd29e"
      },
      "id": "sQsRwcLVGAmJ",
      "execution_count": 74,
      "outputs": [
        {
          "output_type": "display_data",
          "data": {
            "text/plain": [
              "<Figure size 1600x400 with 2 Axes>"
            ],
            "image/png": "[encoded data removed]"
          },
          "metadata": {}
        }
      ]
    },
    {
      "cell_type": "code",
      "source": [
        "print(\"In the end, we see that our keras tuner model yielded seemingly decent\")\n",
        "print(\"results, with an accuracy and validation loss at least comparable to\")\n",
        "print(\"the previously trained model with the hidden layers. For now, we will\")\n",
        "print(\"move forward with the manual model (model_tf_m) and this hyperparameter\")\n",
        "print(\"tuned model (hypermodel_c_1), and we'll finish off the assignment with\")\n",
        "print(\"both.\")"
      ],
      "metadata": {
        "colab": {
          "base_uri": "https://localhost:8080/"
        },
        "id": "jflCld0yhvwR",
        "outputId": "f62f4ebe-65cf-4316-e511-01f898bcefde"
      },
      "id": "jflCld0yhvwR",
      "execution_count": 76,
      "outputs": [
        {
          "output_type": "stream",
          "name": "stdout",
          "text": [
            "In the end, we see that our keras tuner model yielded seemingly decent\n",
            "results, with an accuracy and validation loss at least comparable to\n",
            "the previously trained model with the hidden layers. For now, we will\n",
            "move forward with the manual model (model_tf_m) and this hyperparameter\n",
            "tuned model (hypermodel_c_1), and we'll finish off the assignment with\n",
            "both.\n"
          ]
        }
      ]
    },
    {
      "cell_type": "code",
      "source": [
        "# 2. Getting the five five learned parameters of the models\n",
        "\n",
        "# Getting the first five parameters from the manual model\n",
        "print(\"2. The first five parameters for the features of the manually tuned\")\n",
        "print(\"model are:\")\n",
        "print(model_tf_m.layers[0].get_weights()[0][:5], '\\n')\n",
        "print(\"The learned parameter for the bias term of the manually tuned model is:\")\n",
        "print(model_tf_m.layers[0].get_weights()[1], '\\n')\n",
        "\n",
        "print(\"############\\n\")\n",
        "\n",
        "# Getting the first five parameters from the keras tuned hyperparameter model\n",
        "print(\"The first five parameters for the features of the keras tuner model are:\")\n",
        "print(hypermodel_c_1.layers[0].get_weights()[0][:5], '\\n')\n",
        "print(\"The learned parameter for the bias term of the keras tuner model is:\")\n",
        "print(hypermodel_c_1.layers[0].get_weights()[1], '\\n')"
      ],
      "metadata": {
        "colab": {
          "base_uri": "https://localhost:8080/"
        },
        "id": "fq0qW0pbigG7",
        "outputId": "9de5ed5a-c159-4493-cf6a-5abeacd2debd"
      },
      "id": "fq0qW0pbigG7",
      "execution_count": 77,
      "outputs": [
        {
          "output_type": "stream",
          "name": "stdout",
          "text": [
            "2. The first five parameters for the features of the manually tuned\n",
            "model are:\n",
            "[[-0.04060517  0.5066174  -0.21429858 -0.63239706 -0.0215977   0.10738069\n",
            "   0.29083785]\n",
            " [-0.21396032  0.22693662 -0.01093128 -0.6946085  -0.03104626  0.30456358\n",
            "   0.38641396]\n",
            " [-0.6091659  -0.383848    0.8606942  -0.15639564 -0.58950603 -0.21632887\n",
            "   1.1041939 ]\n",
            " [-0.7076419   1.4846903   0.8944829  -0.15074508 -0.6405317  -0.21952805\n",
            "  -0.67833334]\n",
            " [-0.4260139  -0.24640076 -0.28339982 -0.06456551  1.5472465  -0.13636212\n",
            "  -0.39655238]] \n",
            "\n",
            "The learned parameter for the bias term of the manually tuned model is:\n",
            "[ 0.67383695  0.15182185  1.0503033  -2.1826656   0.63092077 -1.1226308\n",
            "  0.81911117] \n",
            "\n",
            "############\n",
            "\n",
            "The first five parameters for the features of the keras tuner model are:\n",
            "[[ 0.01830162  0.49379444 -0.2607533  -0.65784085 -0.0077664  -0.01432826\n",
            "   0.41067776]\n",
            " [-0.2648664   0.20755209  0.08395471 -0.7614659  -0.01202773  0.16368979\n",
            "   0.5898389 ]\n",
            " [-0.57000095 -0.3782774   0.8327762  -0.17347093 -0.63118297 -0.20673077\n",
            "   1.0988904 ]\n",
            " [-0.6734166   1.3864294   0.96492636 -0.15935452 -0.6329899  -0.22727267\n",
            "  -0.6369707 ]\n",
            " [-0.49499252 -0.26488695 -0.40160778 -0.05533918  1.6336353  -0.09659155\n",
            "  -0.31123683]] \n",
            "\n",
            "The learned parameter for the bias term of the keras tuner model is:\n",
            "[ 0.6265731   0.12999126  1.0830665  -2.185894    0.67485386 -1.1716726\n",
            "  0.84328187] \n",
            "\n"
          ]
        }
      ]
    },
    {
      "cell_type": "code",
      "source": [
        "# 3. Getting the loss at the final epoch on both the training and validation\n",
        "# sets for both the manually tuned model and the keras tuner model\n",
        "\n",
        "print(\"3. For the manually tuned model:\")\n",
        "print(\"Loss at the final epoch on the training set:\", hist_m['loss'][-1])\n",
        "print(\"Loss at the final epoch on the validation set:\", hist_m['val_loss'][-1])\n",
        "\n",
        "print(\"\\nFor the keras tuner model:\")\n",
        "print(\"Loss at the final epoch on the training set:\", hist_c_1['loss'][-1])\n",
        "print(\"Loss at the final epoch on the validation set:\", hist_c_1['val_loss'][-1])"
      ],
      "metadata": {
        "colab": {
          "base_uri": "https://localhost:8080/"
        },
        "id": "3rXKqDj_j15H",
        "outputId": "d14d78f2-2700-4431-9e9e-7eeb6b17b6b2"
      },
      "id": "3rXKqDj_j15H",
      "execution_count": 78,
      "outputs": [
        {
          "output_type": "stream",
          "name": "stdout",
          "text": [
            "3. For the manually tuned model:\n",
            "Loss at the final epoch on the training set: 1.0611215829849243\n",
            "Loss at the final epoch on the validation set: 1.1274081468582153\n",
            "\n",
            "For the keras tuner model:\n",
            "Loss at the final epoch on the training set: 1.088792324066162\n",
            "Loss at the final epoch on the validation set: 1.1433671712875366\n"
          ]
        }
      ]
    },
    {
      "cell_type": "code",
      "source": [
        "# 4. Getting the percentage difference between the losses observed on the\n",
        "# training and validation datasets\n",
        "\n",
        "print(\"4. The percentage difference between the losses observed on the\")\n",
        "print(\"training and validation datasets for the manually tuned model is: \" + str(\n",
        "  round((hist_m['loss'][-1] - hist_m['val_loss'][-1]) / hist_m['loss'][-1] * 100, 2)) + \"%\")\n",
        "\n",
        "print(\"\\nThe percentage difference between the losses observed on the training\")\n",
        "print(\"and validation datasets for the keras tuner model is: \" + str(\n",
        "  round((hist_c_1['loss'][-1] - hist_c_1['val_loss'][-1]) / hist_c_1['loss'][-1] * 100, 2)) + \"%\")"
      ],
      "metadata": {
        "colab": {
          "base_uri": "https://localhost:8080/"
        },
        "id": "GgFLiYiKkp7Z",
        "outputId": "89a28d22-1e3f-43e0-f44e-1c5c955c2f43"
      },
      "id": "GgFLiYiKkp7Z",
      "execution_count": 79,
      "outputs": [
        {
          "output_type": "stream",
          "name": "stdout",
          "text": [
            "4. The percentage difference between the losses observed on the\n",
            "training and validation datasets for the manually tuned model is: -6.25%\n",
            "\n",
            "The percentage difference between the losses observed on the training\n",
            "and validation datasets for the keras tuner model is: -5.01%\n"
          ]
        }
      ]
    },
    {
      "cell_type": "code",
      "source": [
        "# 5. Comparing the training/vlidation loss of the TensorFlow models with the\n",
        "# baseline model's loss\n",
        "\n",
        "print(\"5. Comparing the TensorFlow models's losses against the baseline loss\")\n",
        "print(\"on Y_train:\\n\")\n",
        "print(\" - Manually tuned model_tf loss on Y_train:\", hist_m['loss'][-1])\n",
        "print(\" - Manually tuned model_tf loss on Y_val:\", hist_m['val_loss'][-1])\n",
        "print(\" - \")\n",
        "print(\" - Keras tuner hypermodel_c_1 loss on Y_train:\", hist_c_1['loss'][-1])\n",
        "print(\" - Keras tuner hypermodel_c_1 loss on Y_val:\", hist_c_1['val_loss'][-1])\n",
        "print(\" - \")\n",
        "print(\" - Baseline loss on Y_train:\", compute_log_loss(Y_train_baseline, Y_train))\n",
        "print(\" - Baseline loss on Y_val:\", compute_log_loss(Y_val_baseline, Y_val), '\\n')\n",
        "\n",
        "print(\"Comparing both the training and validation losses of the TensorFlow\")\n",
        "print(\"models with those of the baseline model, we see that both the manually\")\n",
        "print(\"tuned model and the keras tuner model demonstrate an improvement over\")\n",
        "print(\"the baseline model, as the losses for both are lower than those for the\")\n",
        "print(\"baseline.\")\n"
      ],
      "metadata": {
        "colab": {
          "base_uri": "https://localhost:8080/"
        },
        "id": "t1p8tek-lkMv",
        "outputId": "a4fdde2f-fa29-45f2-d40b-2da811326203"
      },
      "id": "t1p8tek-lkMv",
      "execution_count": 80,
      "outputs": [
        {
          "output_type": "stream",
          "name": "stdout",
          "text": [
            "5. Comparing the TensorFlow models's losses against the baseline loss\n",
            "on Y_train:\n",
            "\n",
            " - Manually tuned model_tf loss on Y_train: 1.0611215829849243\n",
            " - Manually tuned model_tf loss on Y_val: 1.1274081468582153\n",
            " - \n",
            " - Keras tuner hypermodel_c_1 loss on Y_train: 1.088792324066162\n",
            " - Keras tuner hypermodel_c_1 loss on Y_val: 1.1433671712875366\n",
            " - \n",
            " - Baseline loss on Y_train: 1.935718763045062\n",
            " - Baseline loss on Y_val: 2.003628574856231 \n",
            "\n",
            "Comparing both the training and validation losses of the TensorFlow\n",
            "models with those of the baseline model, we see that both the manually\n",
            "tuned model and the keras tuner model demonstrate an improvement over\n",
            "the baseline model, as the losses for both are lower than those for the\n",
            "baseline.\n"
          ]
        }
      ]
    },
    {
      "cell_type": "markdown",
      "id": "2d8b941b",
      "metadata": {
        "id": "2d8b941b"
      },
      "source": [
        "---\n",
        "### Step 6: Evaluation and generalization"
      ]
    },
    {
      "cell_type": "markdown",
      "id": "1640c795",
      "metadata": {
        "id": "1640c795"
      },
      "source": [
        "### <span style=\"color:chocolate\">Exercise 8:</span> Compute metrics (10 points)"
      ]
    },
    {
      "cell_type": "markdown",
      "id": "bb78fc49",
      "metadata": {
        "id": "bb78fc49"
      },
      "source": [
        "Now that you've determined the optimal set of hyperparameters, it's time to evaluate your optimized model on the test data to gauge its performance in real-world scenarios, commonly known as inference."
      ]
    },
    {
      "cell_type": "markdown",
      "id": "52a452f0",
      "metadata": {
        "id": "52a452f0"
      },
      "source": [
        "1. Calculate aggregate accuracy on both train and test datasets. Note: you will need to convert the vector of predicted probabilities to a class label using the argmax operation. Hint: You can utilize the <span style=\"color:chocolate\">model.predict()</span> method provided by tf.keras. and the <span style=\"color:chocolate\">np.max()</span> method available in NumPy.\n",
        "\n",
        "2. Does the model demonstrate strong aggregate generalization capabilities? Provide an explanation based on your accuracy observations."
      ]
    },
    {
      "cell_type": "code",
      "execution_count": 81,
      "id": "97a896a0",
      "metadata": {
        "colab": {
          "base_uri": "https://localhost:8080/"
        },
        "id": "97a896a0",
        "outputId": "64eb3426-2dcd-4750-a885-36a05d4a246f"
      },
      "outputs": [
        {
          "output_type": "stream",
          "name": "stdout",
          "text": [
            "\u001b[1m5/5\u001b[0m \u001b[32m━━━━━━━━━━━━━━━━━━━━\u001b[0m\u001b[37m\u001b[0m \u001b[1m0s\u001b[0m 14ms/step\n",
            "\u001b[1m2/2\u001b[0m \u001b[32m━━━━━━━━━━━━━━━━━━━━\u001b[0m\u001b[37m\u001b[0m \u001b[1m0s\u001b[0m 36ms/step\n",
            "\u001b[1m5/5\u001b[0m \u001b[32m━━━━━━━━━━━━━━━━━━━━\u001b[0m\u001b[37m\u001b[0m \u001b[1m0s\u001b[0m 14ms/step\n",
            "\u001b[1m2/2\u001b[0m \u001b[32m━━━━━━━━━━━━━━━━━━━━\u001b[0m\u001b[37m\u001b[0m \u001b[1m0s\u001b[0m 32ms/step\n",
            "\n",
            "1. For the manually tuned model:\n",
            "Aggregate training accuracy using tf.keras.metrics.Accuracy(): 0.66451615\n",
            "Aggregate training accuracy using model.evaluate(): 0.6645161509513855 \n",
            "\n",
            "Aggregate test accuracy using tf.keras.metrics.Accuracy(): 0.5576923\n",
            "Aggregate test accuracy using model.evaluate(): 0.557692289352417 \n",
            "\n",
            "############\n",
            "\n",
            "For the keras tuner model:\n",
            "Aggregate training accuracy using tf.keras.metrics.Accuracy(): 0.62580645\n",
            "Aggregate training accuracy using model.evaluate(): 0.625806450843811 \n",
            "\n",
            "Aggregate test accuracy using tf.keras.metrics.Accuracy(): 0.5192308\n",
            "Aggregate test accuracy using model.evaluate(): 0.5192307829856873 \n",
            "\n"
          ]
        }
      ],
      "source": [
        "# YOUR CODE HERE\n",
        "\n",
        "# 1. Running the manually tuned trained model on the train and test datasets and\n",
        "# getting the greatest predictions using argmax\n",
        "Y_train_pred_m = model_tf_m.predict(x=X_train)\n",
        "Y_test_pred_m = model_tf_m.predict(x=X_test)\n",
        "\n",
        "Y_train_pred_m = np.argmax(Y_train_pred_m, axis = 1)\n",
        "Y_test_pred_m = np.argmax(Y_test_pred_m, axis = 1)\n",
        "\n",
        "# Running the keras tuner trained model on the train and test datasets and\n",
        "# getting the greatest predictions using argmax\n",
        "Y_train_pred_c = hypermodel_c_1.predict(x=X_train)\n",
        "Y_test_pred_c = hypermodel_c_1.predict(x=X_test)\n",
        "\n",
        "Y_train_pred_c = np.argmax(Y_train_pred_c, axis = 1)\n",
        "Y_test_pred_c = np.argmax(Y_test_pred_c, axis = 1)\n",
        "\n",
        "print(\"\\n1. For the manually tuned model:\")\n",
        "print(\"Aggregate training accuracy using tf.keras.metrics.Accuracy():\",\n",
        "  tf.keras.metrics.Accuracy()(Y_train, Y_train_pred_m).numpy())\n",
        "print(\"Aggregate training accuracy using model.evaluate():\",\n",
        "  model_tf_m.evaluate(X_train, Y_train, verbose = 0)[1], '\\n')\n",
        "print(\"Aggregate test accuracy using tf.keras.metrics.Accuracy():\",\n",
        "  tf.keras.metrics.Accuracy()(Y_test, Y_test_pred_m).numpy())\n",
        "print(\"Aggregate test accuracy using model.evaluate():\",\n",
        "  model_tf_m.evaluate(X_test, Y_test, verbose = 0)[1], '\\n')\n",
        "\n",
        "print(\"############\\n\")\n",
        "\n",
        "print(\"For the keras tuner model:\")\n",
        "print(\"Aggregate training accuracy using tf.keras.metrics.Accuracy():\",\n",
        "  tf.keras.metrics.Accuracy()(Y_train, Y_train_pred_c).numpy())\n",
        "print(\"Aggregate training accuracy using model.evaluate():\",\n",
        "  hypermodel_c_1.evaluate(X_train, Y_train, verbose = 0)[1], '\\n')\n",
        "print(\"Aggregate test accuracy using tf.keras.metrics.Accuracy():\",\n",
        "  tf.keras.metrics.Accuracy()(Y_test, Y_test_pred_c).numpy())\n",
        "print(\"Aggregate test accuracy using model.evaluate():\",\n",
        "  hypermodel_c_1.evaluate(X_test, Y_test, verbose = 0)[1], '\\n')\n"
      ]
    },
    {
      "cell_type": "code",
      "source": [
        "# 2. Analyzing how well the model generalizes\n",
        "\n",
        "print(\"2. Neither the manually tuned model nor the keras tuner model seem to\")\n",
        "print(\"demonstrate strong aggregate generalization capabilities. In both\")\n",
        "print(\"models, the test accuracy was roughly 10% lower than the training\")\n",
        "print(\"accuracy, which was already not great to begin with. Furthermore, the\")\n",
        "print(\"keras tuner model seemed to perform even worse than the manually\")\n",
        "print(\"trained model. This might be because of the Hyperband tuner itself, or\")\n",
        "print(\"it's because of human error and my miscomprehension of how the tuner\")\n",
        "print(\"works. In either case, the aggregate test accuracy still wasn't great,\")\n",
        "print(\"even with all the features included.\\n\")\n",
        "\n",
        "print(\"One saving grace is that both models at least compare more favorably to\")\n",
        "print(\"the baseline, which - since it predicted the major class for all the\")\n",
        "print(f\"data - was around {perc_major_class:.5f}.\")\n"
      ],
      "metadata": {
        "colab": {
          "base_uri": "https://localhost:8080/"
        },
        "id": "ou3QR5xqtEsW",
        "outputId": "2a7dd4b1-96f1-49c2-cea5-c8ae49f745fc"
      },
      "id": "ou3QR5xqtEsW",
      "execution_count": 84,
      "outputs": [
        {
          "output_type": "stream",
          "name": "stdout",
          "text": [
            "2. Neither the manually tuned model nor the keras tuner model seem to\n",
            "demonstrate strong aggregate generalization capabilities. In both\n",
            "models, the test accuracy was roughly 10% lower than the training\n",
            "accuracy, which was already not great to begin with. Furthermore, the\n",
            "keras tuner model seemed to perform even worse than the manually\n",
            "trained model. This might be because of the Hyperband tuner itself, or\n",
            "it's because of human error and my miscomprehension of how the tuner\n",
            "works. In either case, the aggregate test accuracy still wasn't great,\n",
            "even with all the features included.\n",
            "\n",
            "One saving grace is that both models at least compare more favorably to\n",
            "the baseline, which - since it predicted the major class for all the\n",
            "data - was around 0.17419.\n"
          ]
        }
      ]
    },
    {
      "cell_type": "markdown",
      "id": "46219440",
      "metadata": {
        "id": "46219440"
      },
      "source": [
        "### <span style=\"color:chocolate\">Exercise 9:</span> Additional metrics (10 points)"
      ]
    },
    {
      "cell_type": "markdown",
      "id": "cd95a071",
      "metadata": {
        "id": "cd95a071"
      },
      "source": [
        "Using the test dataset:\n",
        "\n",
        "1. Plot the confusion matrix. Identify which class the model confuses the most.\n",
        "\n",
        "2. Determine which class has the lowest precision. What is the precision? Which class is the largest source of false positives?\n",
        "\n",
        "3. Determine which class has the lowest recall. What is the recall? Which class is the largest source of false negatives?"
      ]
    },
    {
      "cell_type": "code",
      "execution_count": 85,
      "id": "42733dc3",
      "metadata": {
        "colab": {
          "base_uri": "https://localhost:8080/"
        },
        "id": "42733dc3",
        "outputId": "c47dc2cb-4b0a-4671-d128-c8bfc81b443f"
      },
      "outputs": [
        {
          "output_type": "stream",
          "name": "stdout",
          "text": [
            "1. Generating the confusion matrix for the manually tuned model using\n",
            "tf.math:\n"
          ]
        },
        {
          "output_type": "execute_result",
          "data": {
            "text/plain": [
              "<tf.Tensor: shape=(7, 7), dtype=int32, numpy=\n",
              "array([[1, 2, 2, 0, 0, 2, 2],\n",
              "       [0, 2, 1, 0, 0, 3, 0],\n",
              "       [1, 0, 2, 1, 0, 0, 2],\n",
              "       [0, 0, 0, 9, 0, 1, 0],\n",
              "       [0, 1, 1, 0, 5, 0, 0],\n",
              "       [0, 0, 0, 1, 0, 7, 0],\n",
              "       [1, 1, 1, 0, 0, 0, 3]], dtype=int32)>"
            ]
          },
          "metadata": {},
          "execution_count": 85
        }
      ],
      "source": [
        "# YOUR CODE HERE\n",
        "\n",
        "# 1. Generating a confusion matrix for the manually tuned model on the test\n",
        "# dataset using tf.math:\n",
        "conf_matrix_m = tf.math.confusion_matrix(\n",
        "    Y_test,\n",
        "    Y_test_pred_m,\n",
        "    num_classes=None,\n",
        "    weights=None,\n",
        "    dtype=tf.dtypes.int32,\n",
        "    name=None\n",
        ")\n",
        "print(\"1. Generating the confusion matrix for the manually tuned model using\")\n",
        "print(\"tf.math:\")\n",
        "conf_matrix_m"
      ]
    },
    {
      "cell_type": "code",
      "source": [
        "# Generating a confusion matrix for the keras tuner model on the test dataset\n",
        "# using tf.math:\n",
        "conf_matrix_c = tf.math.confusion_matrix(\n",
        "    Y_test,\n",
        "    Y_test_pred_c,\n",
        "    num_classes=None,\n",
        "    weights=None,\n",
        "    dtype=tf.dtypes.int32,\n",
        "    name=None\n",
        ")\n",
        "print(\"Generating the confusion matrix for the manually tuned model using\")\n",
        "print(\"tf.math:\")\n",
        "conf_matrix_c"
      ],
      "metadata": {
        "colab": {
          "base_uri": "https://localhost:8080/"
        },
        "id": "YofDZrdpyiyU",
        "outputId": "5fc9c594-ccb3-4c0b-f645-35d721079c7e"
      },
      "id": "YofDZrdpyiyU",
      "execution_count": 86,
      "outputs": [
        {
          "output_type": "stream",
          "name": "stdout",
          "text": [
            "Generating the confusion matrix for the manually tuned model using\n",
            "tf.math:\n"
          ]
        },
        {
          "output_type": "execute_result",
          "data": {
            "text/plain": [
              "<tf.Tensor: shape=(7, 7), dtype=int32, numpy=\n",
              "array([[2, 2, 2, 0, 0, 1, 2],\n",
              "       [0, 2, 1, 0, 0, 3, 0],\n",
              "       [1, 0, 2, 1, 0, 0, 2],\n",
              "       [0, 0, 0, 9, 0, 0, 1],\n",
              "       [1, 1, 0, 0, 5, 0, 0],\n",
              "       [0, 0, 0, 2, 0, 4, 2],\n",
              "       [1, 1, 1, 0, 0, 0, 3]], dtype=int32)>"
            ]
          },
          "metadata": {},
          "execution_count": 86
        }
      ]
    },
    {
      "cell_type": "code",
      "source": [
        "# Defining a function to get the confusion matrix plot\n",
        "def confusion_matrix_plot(conf_matrix, title):\n",
        "\n",
        "    fig, ax = plt.subplots(figsize=(5, 5))\n",
        "    ax.matshow(conf_matrix, cmap=plt.cm.Blues, alpha=0.3)\n",
        "    for i in range(conf_matrix.shape[0]):\n",
        "        for j in range(conf_matrix.shape[1]):\n",
        "            ax.text(x=j, y=i, s=conf_matrix[i, j], va='center', ha='center')\n",
        "\n",
        "    plt.xlabel('Predicted label')\n",
        "    plt.ylabel('True label')\n",
        "    plt.title(title)\n",
        "\n",
        "    plt.tight_layout()\n",
        "    plt.show()"
      ],
      "metadata": {
        "id": "tl2tWlqdzjjA"
      },
      "id": "tl2tWlqdzjjA",
      "execution_count": 87,
      "outputs": []
    },
    {
      "cell_type": "code",
      "source": [
        "# Getting the confusion matrix for the manually tuned model\n",
        "confusion_matrix_plot(conf_matrix_m.numpy(),\n",
        "  'Confusion Matrix for Manually Tuned Model')"
      ],
      "metadata": {
        "colab": {
          "base_uri": "https://localhost:8080/",
          "height": 506
        },
        "id": "MOTyrzpwy5OE",
        "outputId": "31cd36db-1774-4df1-e130-212b71329006"
      },
      "id": "MOTyrzpwy5OE",
      "execution_count": 88,
      "outputs": [
        {
          "output_type": "display_data",
          "data": {
            "text/plain": [
              "<Figure size 500x500 with 1 Axes>"
            ],
            "image/png": "[encoded data removed]"
          },
          "metadata": {}
        }
      ]
    },
    {
      "cell_type": "code",
      "source": [
        "# Getting the confusion matrix for the keras tuner model\n",
        "confusion_matrix_plot(conf_matrix_c.numpy(),\n",
        "  'Confusion Matrix for Keras Tuner Model')"
      ],
      "metadata": {
        "colab": {
          "base_uri": "https://localhost:8080/",
          "height": 506
        },
        "id": "l_x_q7Z40Snz",
        "outputId": "9b4fb3c2-adf3-48e2-8a1b-5a54b57e181c"
      },
      "id": "l_x_q7Z40Snz",
      "execution_count": 89,
      "outputs": [
        {
          "output_type": "display_data",
          "data": {
            "text/plain": [
              "<Figure size 500x500 with 1 Axes>"
            ],
            "image/png": "[encoded data removed]"
          },
          "metadata": {}
        }
      ]
    },
    {
      "cell_type": "code",
      "source": [
        "# 2. Determining which class has the lowest precision\n",
        "\n",
        "print(\"Even for multiclass precision, this is defined as the number of True\")\n",
        "print(\"Positives over the sum of the True Positives and False Positives.\\n\")\n",
        "\n",
        "print(\"2. Determining precision for each class from the manually tuned model:\")\n",
        "precision_m = sklearn.metrics.precision_score(Y_test, Y_test_pred_m, average=None)\n",
        "tp_fp_sum_m = conf_matrix_m.numpy().sum(axis = 0)  # Sum of TP and FP\n",
        "tp_m = np.diag(conf_matrix_m.numpy())  # Diagonal of conf_matrix_m (the TPs)\n",
        "fp_m = tp_fp_sum_m - tp_m  # Just the FPs\n",
        "print(precision_m)\n",
        "print(\" - The class with the lowest precision is: Class\", np.argmin(precision_m))\n",
        "print(\" - The precision of the lowest precision class is:\", min(precision_m))\n",
        "print(\" - The class with the largest source of false positives is:\",\n",
        "  np.argmax(fp_m), '\\n')\n",
        "\n",
        "print(\"Determining precision for each class from the keras tuner model:\")\n",
        "precision_c = sklearn.metrics.precision_score(Y_test, Y_test_pred_c, average=None)\n",
        "tp_fp_sum_c = conf_matrix_c.numpy().sum(axis = 0)  # Sum of TP and FP\n",
        "tp_c = np.diag(conf_matrix_c.numpy())  # Diagonal of conf_matrix_c (the TPs)\n",
        "fp_c = tp_fp_sum_c - tp_c  # Just the FPs\n",
        "print(precision_c)\n",
        "print(\" - The class with the lowest precision is: Class\", np.argmin(precision_c))\n",
        "print(\" - The precision of the lowest precision class is:\", min(precision_c))\n",
        "print(\" - The class with the largest source of false positives is:\",\n",
        "  np.argmax(fp_c), '\\n')\n"
      ],
      "metadata": {
        "colab": {
          "base_uri": "https://localhost:8080/"
        },
        "id": "Vt5Q6IHg0unh",
        "outputId": "09bf005d-a1e5-4cb5-af63-e45e273bbac7"
      },
      "id": "Vt5Q6IHg0unh",
      "execution_count": 96,
      "outputs": [
        {
          "output_type": "stream",
          "name": "stdout",
          "text": [
            "Even for multiclass precision, this is defined as the number of True\n",
            "Positives over the sum of the True Positives and False Positives.\n",
            "\n",
            "2. Determining precision for each class from the manually tuned model:\n",
            "[0.33333333 0.33333333 0.28571429 0.81818182 1.         0.53846154\n",
            " 0.42857143]\n",
            " - The class with the lowest precision is: Class 2\n",
            " - The precision of the lowest precision class is: 0.2857142857142857\n",
            " - The class with the largest source of false positives is: 5 \n",
            "\n",
            "Determining precision for each class from the keras tuner model:\n",
            "[0.4        0.33333333 0.33333333 0.75       1.         0.5\n",
            " 0.3       ]\n",
            " - The class with the lowest precision is: Class 6\n",
            " - The precision of the lowest precision class is: 0.3\n",
            " - The class with the largest source of false positives is: 6 \n",
            "\n"
          ]
        }
      ]
    },
    {
      "cell_type": "code",
      "source": [
        "# 3. Determining which class has the lowest recall\n",
        "\n",
        "print(\"Even for multiclass recall, this is defined as the number of True\")\n",
        "print(\"Positives over the sum of the True Positives and False Negatives.\\n\")\n",
        "\n",
        "print(\"3. Determining recall for each class from the manually tuned model:\")\n",
        "recall_m = sklearn.metrics.recall_score(Y_test, Y_test_pred_m, average=None)\n",
        "tp_fn_sum_m = conf_matrix_m.numpy().sum(axis = 1)  # Sum of TP and FN\n",
        "fn_m = tp_fn_sum_m - tp_m  # Just the FNs\n",
        "print(recall_m)\n",
        "print(\" - The class with the lowest recall is: Class\", np.argmin(recall_m))\n",
        "print(\" - The recall of the lowest recall class is:\", min(recall_m))\n",
        "print(\" - The class with the largest source of false negatives is:\",\n",
        "  np.argmax(fn_m), '\\n')\n",
        "\n",
        "print(\"Determining recall for each class from the keras tuner model:\")\n",
        "recall_c = sklearn.metrics.recall_score(Y_test, Y_test_pred_c, average=None)\n",
        "tp_fn_sum_c = conf_matrix_c.numpy().sum(axis = 1)  # Sum of TP and FN\n",
        "fn_c = tp_fn_sum_c - tp_c  # Just the FNs\n",
        "print(recall_c)\n",
        "print(\" - The class with the lowest recall is: Class\", np.argmin(recall_c))\n",
        "print(\" - The recall of the lowest recall class is:\", min(recall_c))\n",
        "print(\" - The class with the largest source of false negatives is:\",\n",
        "  np.argmax(fn_c), '\\n')\n"
      ],
      "metadata": {
        "colab": {
          "base_uri": "https://localhost:8080/"
        },
        "id": "2bO0I8CgDYDR",
        "outputId": "822de751-9973-48f4-f046-edad85e56226"
      },
      "id": "2bO0I8CgDYDR",
      "execution_count": 97,
      "outputs": [
        {
          "output_type": "stream",
          "name": "stdout",
          "text": [
            "Even for multiclass recall, this is defined as the number of True\n",
            "Positives over the sum of the True Positives and False Negatives.\n",
            "\n",
            "3. Determining recall for each class from the manually tuned model:\n",
            "[0.11111111 0.33333333 0.33333333 0.9        0.71428571 0.875\n",
            " 0.5       ]\n",
            " - The class with the lowest recall is: Class 0\n",
            " - The recall of the lowest recall class is: 0.1111111111111111\n",
            " - The class with the largest source of false negatives is: 0 \n",
            "\n",
            "Determining recall for each class from the keras tuner model:\n",
            "[0.22222222 0.33333333 0.33333333 0.9        0.71428571 0.5\n",
            " 0.5       ]\n",
            " - The class with the lowest recall is: Class 0\n",
            " - The recall of the lowest recall class is: 0.2222222222222222\n",
            " - The class with the largest source of false negatives is: 0 \n",
            "\n"
          ]
        }
      ]
    },
    {
      "cell_type": "code",
      "source": [
        "print(\"Overall, the precision and recall scores for both models for most of\")\n",
        "print(\"the classes isn't great. However, this was expected as the overall\")\n",
        "print(\"accuracy wasn't great either. It would be interesting to see what the\")\n",
        "print(\"subgroup accuracies are, though there should theoretically not be much\")\n",
        "print(\"unfairness in the model, as the samples were evenly balanced in the\")\n",
        "print(\"beginning, and they were still pretty balanced in the training dataset.\")"
      ],
      "metadata": {
        "colab": {
          "base_uri": "https://localhost:8080/"
        },
        "id": "nwKWUWvHF0NL",
        "outputId": "3c062640-f674-460c-d26e-bb2ef8813bf0"
      },
      "id": "nwKWUWvHF0NL",
      "execution_count": 93,
      "outputs": [
        {
          "output_type": "stream",
          "name": "stdout",
          "text": [
            "Overall, the precision and recall scores for both models for most of\n",
            "the classes isn't great. However, this was expected as the overall\n",
            "accuracy wasn't great either. It would be interesting to see what the\n",
            "subgroup accuracies are, though there should theoretically not be much\n",
            "unfairness in the model, as the samples were evenly balanced in the\n",
            "beginning, and they were still pretty balanced in the training dataset.\n"
          ]
        }
      ]
    },
    {
      "cell_type": "markdown",
      "id": "7599dc56",
      "metadata": {
        "id": "7599dc56"
      },
      "source": [
        "----\n",
        "#### <span style=\"color:chocolate\">Additional practice question</span> (not graded)"
      ]
    },
    {
      "cell_type": "markdown",
      "id": "15e04ef4",
      "metadata": {
        "id": "15e04ef4"
      },
      "source": [
        "Following the approach in Assignment 4 - Exercise 12, evaluate whether your model shows any signs of unfairness. Explain your findings and propose suggestions for improvement."
      ]
    },
    {
      "cell_type": "code",
      "execution_count": 95,
      "id": "d47f2de0",
      "metadata": {
        "id": "d47f2de0"
      },
      "outputs": [],
      "source": [
        "# YOUR CODE HERE\n",
        "\n",
        "# Looking at the plots above, it definitely seems like the model is not very\n",
        "# fair. Although we balanced the data, classes 3, 4, and 5 all seem to do pretty\n",
        "# well in both models, while classes 0 and 2 consistently underperform, with low\n",
        "# precision and recall rates. One explanation for this could be that class 0\n",
        "# represents the blended bean type, which - as it's a blend - is inherently a\n",
        "# mixture of the other chocolates. That's likely one large reason why the model\n",
        "# performed the way it did, and removing the blended type could prove to be an\n",
        "# interesting experiment in the future."
      ]
    },
    {
      "cell_type": "code",
      "source": [],
      "metadata": {
        "id": "Rn5NihSzHUVf"
      },
      "id": "Rn5NihSzHUVf",
      "execution_count": null,
      "outputs": []
    }
  ],
  "metadata": {
    "kernelspec": {
      "display_name": "Python 3 (ipykernel)",
      "language": "python",
      "name": "python3"
    },
    "language_info": {
      "codemirror_mode": {
        "name": "ipython",
        "version": 3
      },
      "file_extension": ".py",
      "mimetype": "text/x-python",
      "name": "python",
      "nbconvert_exporter": "python",
      "pygments_lexer": "ipython3",
      "version": "3.12.4"
    },
    "colab": {
      "provenance": []
    }
  },
  "nbformat": 4,
  "nbformat_minor": 5
}